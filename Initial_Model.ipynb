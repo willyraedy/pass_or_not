{
 "cells": [
  {
   "cell_type": "markdown",
   "metadata": {},
   "source": [
    "Plan\n",
    "\n",
    "- Make a pipeline to get the data in to a sql database\n",
    "- Subset to just the bills introduced in the senate\n",
    "    - Actions up to the first third reading\n",
    "- Create the following features\n",
    "    - Madigan or not\n",
    "    - chief sponsor\n",
    "    - number of co sponsors\n",
    "    - committee it was in\n",
    "    - perhaps how long something took (intro to second reading)\n",
    "    - first word in description\n",
    "    - "
   ]
  },
  {
   "cell_type": "markdown",
   "metadata": {},
   "source": [
    "# Put Data In DB"
   ]
  },
  {
   "cell_type": "code",
   "execution_count": 64,
   "metadata": {},
   "outputs": [],
   "source": [
    "import pandas as pd\n",
    "import seaborn as sns"
   ]
  },
  {
   "cell_type": "code",
   "execution_count": 4,
   "metadata": {},
   "outputs": [],
   "source": [
    "bills = pd.read_csv('./data/IL/2017-2018_100th_General_Assembly/csv/bills.csv')"
   ]
  },
  {
   "cell_type": "code",
   "execution_count": 9,
   "metadata": {},
   "outputs": [],
   "source": [
    "bills = bills.rename(columns={ 'bill_id': 'session_id', 'session_id': 'bill_number', 'bill_number': 'bill_id' })"
   ]
  },
  {
   "cell_type": "code",
   "execution_count": 10,
   "metadata": {},
   "outputs": [],
   "source": [
    "bills.to_csv('./data/IL/2017-2018_100th_General_Assembly/csv/bills_renamed.csv')"
   ]
  },
  {
   "cell_type": "code",
   "execution_count": 12,
   "metadata": {},
   "outputs": [],
   "source": [
    "from sqlalchemy import create_engine\n",
    "engine = create_engine('postgresql://localhost:5432/ill_leg', echo=False)"
   ]
  },
  {
   "cell_type": "code",
   "execution_count": 13,
   "metadata": {},
   "outputs": [],
   "source": [
    "bills.to_sql('bill', con=engine)"
   ]
  },
  {
   "cell_type": "code",
   "execution_count": 15,
   "metadata": {},
   "outputs": [],
   "source": [
    "history = pd.read_csv('./data/IL/2017-2018_100th_General_Assembly/csv/history.csv')\n",
    "people = pd.read_csv('./data/IL/2017-2018_100th_General_Assembly/csv/people.csv')\n",
    "roll_calls = pd.read_csv('./data/IL/2017-2018_100th_General_Assembly/csv/rollcalls.csv')\n",
    "sponsors = pd.read_csv('./data/IL/2017-2018_100th_General_Assembly/csv/sponsors.csv')\n",
    "votes = pd.read_csv('./data/IL/2017-2018_100th_General_Assembly/csv/votes.csv')"
   ]
  },
  {
   "cell_type": "code",
   "execution_count": 16,
   "metadata": {},
   "outputs": [],
   "source": [
    "for name, df in zip(['history', 'people', 'roll_call', 'sponsor', 'vote'],[history, people, roll_calls, sponsors, votes]):\n",
    "    df.to_sql(name, con=engine)"
   ]
  },
  {
   "cell_type": "markdown",
   "metadata": {},
   "source": [
    "# Fetch Data"
   ]
  },
  {
   "cell_type": "code",
   "execution_count": 42,
   "metadata": {},
   "outputs": [],
   "source": [
    "# Limit to just bills from this year that started in the Senate and got to a second reading\n",
    "query_bills = \"\"\"\n",
    "    with started_senate as (\n",
    "        select b.bill_id from bill b\n",
    "        join history h on h.bill_id = b.bill_id\n",
    "        where h.sequence = 1 and h.chamber = 'Senate'\n",
    "    ), had_sec_read as (\n",
    "        select b.bill_id from bill b\n",
    "        join history h on h.bill_id = b.bill_id\n",
    "        where h.action like 'Second Reading'\n",
    "    )\n",
    "    select * from bill\n",
    "    where bill_id in (\n",
    "        select * from started_senate\n",
    "    ) and bill_id in (\n",
    "        select * from had_sec_read\n",
    "    );\n",
    "\"\"\"\n",
    "\n",
    "bills = pd.read_sql(query_bills, con=engine)"
   ]
  },
  {
   "cell_type": "code",
   "execution_count": 43,
   "metadata": {},
   "outputs": [],
   "source": [
    "bills = bills.drop(columns=['index'])"
   ]
  },
  {
   "cell_type": "markdown",
   "metadata": {},
   "source": [
    "# Remove Trivial Resolutions"
   ]
  },
  {
   "cell_type": "code",
   "execution_count": 44,
   "metadata": {},
   "outputs": [],
   "source": [
    "bills = bills[~bills.last_action.str.contains('Resolution Adopted')]"
   ]
  },
  {
   "cell_type": "code",
   "execution_count": 45,
   "metadata": {},
   "outputs": [
    {
     "data": {
      "text/plain": [
       "Failed        1194\n",
       "Passed         526\n",
       "Vetoed           9\n",
       "Enrolled         9\n",
       "Introduced       5\n",
       "Engrossed        5\n",
       "Name: status_desc, dtype: int64"
      ]
     },
     "execution_count": 45,
     "metadata": {},
     "output_type": "execute_result"
    }
   ],
   "source": [
    "bills.status_desc.value_counts()"
   ]
  },
  {
   "cell_type": "code",
   "execution_count": 46,
   "metadata": {},
   "outputs": [
    {
     "data": {
      "text/plain": [
       "0.3058139534883721"
      ]
     },
     "execution_count": 46,
     "metadata": {},
     "output_type": "execute_result"
    }
   ],
   "source": [
    "526 / (526 + 1194)\n",
    "# Passing percentage of non-resolution bills that get a second reading"
   ]
  },
  {
   "cell_type": "markdown",
   "metadata": {},
   "source": [
    "# Explore Failures"
   ]
  },
  {
   "cell_type": "code",
   "execution_count": 47,
   "metadata": {},
   "outputs": [
    {
     "data": {
      "text/plain": [
       "Session Sine Die     1161\n",
       "Total Veto Stands      33\n",
       "Name: last_action, dtype: int64"
      ]
     },
     "execution_count": 47,
     "metadata": {},
     "output_type": "execute_result"
    }
   ],
   "source": [
    "bills[bills.status_desc == 'Failed'].last_action.value_counts()\n",
    "# evertything dies or is vetoed by gov (for the most part)\n",
    "# only 8 things lost a senate vote (and one of those passed)\n",
    "# vetoed is also a status (seems inconsistent - perhaps vetoed mean line item veto'd?)\n",
    "# most of the hanging \"introduced\" bills had failed votes (4 introduced, 2 engrossed)"
   ]
  },
  {
   "cell_type": "code",
   "execution_count": 48,
   "metadata": {},
   "outputs": [
    {
     "data": {
      "text/plain": [
       "Failed        1194\n",
       "Passed         526\n",
       "Vetoed           9\n",
       "Enrolled         9\n",
       "Introduced       5\n",
       "Engrossed        5\n",
       "Name: status_desc, dtype: int64"
      ]
     },
     "execution_count": 48,
     "metadata": {},
     "output_type": "execute_result"
    }
   ],
   "source": [
    "bills.status_desc.value_counts()"
   ]
  },
  {
   "cell_type": "markdown",
   "metadata": {},
   "source": [
    "# Pair Plot of Num Co-Sponsors and Dep Var"
   ]
  },
  {
   "cell_type": "code",
   "execution_count": 58,
   "metadata": {},
   "outputs": [],
   "source": [
    "query_with_features = \"\"\"\n",
    "    with started_senate as (\n",
    "        select b.bill_id from bill b\n",
    "        join history h on h.bill_id = b.bill_id\n",
    "        where h.sequence = 1 and h.chamber = 'Senate'\n",
    "    ), had_sec_read as (\n",
    "        select b.bill_id from bill b\n",
    "        join history h on h.bill_id = b.bill_id\n",
    "        where h.action like 'Second Reading'\n",
    "    ), num_sponsors as (\n",
    "    \tselect b.bill_id, count(s.index) as sponsor_count\n",
    "    \tfrom bill b\n",
    "    \tjoin sponsor s on s.bill_id = b.bill_id\n",
    "    \tgroup by b.bill_id\n",
    "    )\n",
    "    select b.*, n.sponsor_count, case when h.index > 0 then true else false end as third_reading_id from bill b\n",
    "    join num_sponsors n on n.bill_id = b.bill_id\n",
    "    left join history h on h.bill_id = b.bill_id and h.action ~* 'third reading' and (h.action ~* 'passed' or h.action ~* 'lost')\n",
    "    where b.bill_id in (\n",
    "        select * from started_senate\n",
    "    ) and b.bill_id in (\n",
    "        select * from had_sec_read\n",
    "    );\n",
    "\"\"\"\n",
    "\n",
    "bills_with_features = pd.read_sql(query_with_features, con=engine)"
   ]
  },
  {
   "cell_type": "code",
   "execution_count": 62,
   "metadata": {},
   "outputs": [],
   "source": [
    "bills_with_features = bills_with_features.drop_duplicates(subset=['bill_id'])"
   ]
  },
  {
   "cell_type": "code",
   "execution_count": 63,
   "metadata": {},
   "outputs": [
    {
     "data": {
      "text/plain": [
       "True     879\n",
       "False    869\n",
       "Name: third_reading_id, dtype: int64"
      ]
     },
     "execution_count": 63,
     "metadata": {},
     "output_type": "execute_result"
    }
   ],
   "source": [
    "bills_with_features.third_reading_id.value_counts()"
   ]
  },
  {
   "cell_type": "code",
   "execution_count": 66,
   "metadata": {},
   "outputs": [],
   "source": [
    "bills_with_features.third_reading_id = bills_with_features.third_reading_id.map(lambda x: 1 if x else 0)"
   ]
  },
  {
   "cell_type": "code",
   "execution_count": 68,
   "metadata": {},
   "outputs": [
    {
     "data": {
      "text/plain": [
       "<seaborn.axisgrid.PairGrid at 0x1031d9bbd0>"
      ]
     },
     "execution_count": 68,
     "metadata": {},
     "output_type": "execute_result"
    },
    {
     "data": {
      "image/png": "[encoded data removed]",
      "text/plain": [
       "<Figure size 360x360 with 6 Axes>"
      ]
     },
     "metadata": {
      "needs_background": "light"
     },
     "output_type": "display_data"
    }
   ],
   "source": [
    "sns.pairplot(bills_with_features[['third_reading_id', 'sponsor_count']], plot_kws={ 'alpha': 0.2})"
   ]
  },
  {
   "cell_type": "code",
   "execution_count": null,
   "metadata": {},
   "outputs": [],
   "source": []
  },
  {
   "cell_type": "code",
   "execution_count": null,
   "metadata": {},
   "outputs": [],
   "source": []
  },
  {
   "cell_type": "code",
   "execution_count": null,
   "metadata": {},
   "outputs": [],
   "source": []
  },
  {
   "cell_type": "code",
   "execution_count": null,
   "metadata": {},
   "outputs": [],
   "source": []
  },
  {
   "cell_type": "code",
   "execution_count": null,
   "metadata": {},
   "outputs": [],
   "source": []
  },
  {
   "cell_type": "code",
   "execution_count": null,
   "metadata": {},
   "outputs": [],
   "source": []
  }
 ],
 "metadata": {
  "kernelspec": {
   "display_name": "Python [conda env:metis] *",
   "language": "python",
   "name": "conda-env-metis-py"
  },
  "language_info": {
   "codemirror_mode": {
    "name": "ipython",
    "version": 3
   },
   "file_extension": ".py",
   "mimetype": "text/x-python",
   "name": "python",
   "nbconvert_exporter": "python",
   "pygments_lexer": "ipython3",
   "version": "3.7.4"
  },
  "toc": {
   "base_numbering": 1,
   "nav_menu": {},
   "number_sections": true,
   "sideBar": true,
   "skip_h1_title": false,
   "title_cell": "Table of Contents",
   "title_sidebar": "Contents",
   "toc_cell": false,
   "toc_position": {},
   "toc_section_display": true,
   "toc_window_display": false
  }
 },
 "nbformat": 4,
 "nbformat_minor": 2
}
