{
 "cells": [
  {
   "cell_type": "code",
   "execution_count": 1,
   "metadata": {},
   "outputs": [],
   "source": [
    "%load_ext autoreload\n",
    "%autoreload 1"
   ]
  },
  {
   "cell_type": "code",
   "execution_count": 34,
   "metadata": {},
   "outputs": [],
   "source": [
    "import matplotlib.pyplot as plt\n",
    "import pandas as pd"
   ]
  },
  {
   "cell_type": "code",
   "execution_count": 2,
   "metadata": {},
   "outputs": [],
   "source": [
    "import sys\n",
    "sys.path.append('../src')\n",
    "from data import fetch_model_data\n",
    "%aimport data.fetch_model_data"
   ]
  },
  {
   "cell_type": "code",
   "execution_count": 50,
   "metadata": {},
   "outputs": [],
   "source": [
    "ip_address = '3.134.76.143'\n",
    "raw = fetch_model_data.fetch_model_data(ip_address)"
   ]
  },
  {
   "cell_type": "code",
   "execution_count": 51,
   "metadata": {},
   "outputs": [
    {
     "name": "stdout",
     "output_type": "stream",
     "text": [
      "<class 'pandas.core.frame.DataFrame'>\n",
      "RangeIndex: 1748 entries, 0 to 1747\n",
      "Data columns (total 24 columns):\n",
      "bill_id                          1748 non-null int64\n",
      "author_ideology                  1748 non-null float64\n",
      "author_party                     1748 non-null int64\n",
      "author_is_chair                  1748 non-null int64\n",
      "author_years_sen                 1748 non-null float64\n",
      "author_total_funding             1748 non-null float64\n",
      "total_sponsors                   1748 non-null int64\n",
      "dem_sponsors                     1748 non-null int64\n",
      "rep_sponsors                     1748 non-null int64\n",
      "most_liberal_sponsor_ideology    1748 non-null float64\n",
      "most_cons_sponsor_ideology       1748 non-null float64\n",
      "sponsor_chairs                   1748 non-null int64\n",
      "description                      1748 non-null object\n",
      "third_reading                    1748 non-null int64\n",
      "agg_funding_sponsors             1748 non-null float64\n",
      "agg_exp_sponsors                 1748 non-null float64\n",
      "total_slips                      1748 non-null int64\n",
      "pro_slips                        1748 non-null int64\n",
      "opp_slips                        1748 non-null int64\n",
      "no_pos_slips                     1748 non-null int64\n",
      "slips_perc_pro                   1748 non-null float64\n",
      "bipartisan                       1748 non-null int64\n",
      "ideol_range                      1748 non-null float64\n",
      "first_word_approp                1748 non-null int64\n",
      "dtypes: float64(9), int64(14), object(1)\n",
      "memory usage: 327.9+ KB\n"
     ]
    }
   ],
   "source": [
    "raw.info()"
   ]
  },
  {
   "cell_type": "code",
   "execution_count": 8,
   "metadata": {},
   "outputs": [],
   "source": [
    "fetch_model_data.add_trivial_features(raw)"
   ]
  },
  {
   "cell_type": "markdown",
   "metadata": {},
   "source": [
    "# Handle Nulls"
   ]
  },
  {
   "cell_type": "markdown",
   "metadata": {},
   "source": [
    "## Ideology Range"
   ]
  },
  {
   "cell_type": "code",
   "execution_count": 20,
   "metadata": {},
   "outputs": [
    {
     "data": {
      "image/png": "[encoded data removed]",
      "text/plain": [
       "<Figure size 432x288 with 1 Axes>"
      ]
     },
     "metadata": {
      "needs_background": "light"
     },
     "output_type": "display_data"
    }
   ],
   "source": [
    "# seems like 0 is defensible imputation value\n",
    "    # Better would be to impute in sql before doing the calculations\n",
    "    # fill in data for missing senators in table people_detail\n",
    "        # fill in null party values\n",
    "        # fill in null ideol as mean of party\n",
    "plt.hist(raw.ideol_range);"
   ]
  },
  {
   "cell_type": "markdown",
   "metadata": {},
   "source": [
    "# Slips Percent Pro"
   ]
  },
  {
   "cell_type": "code",
   "execution_count": 25,
   "metadata": {},
   "outputs": [
    {
     "name": "stdout",
     "output_type": "stream",
     "text": [
      "<class 'pandas.core.frame.DataFrame'>\n",
      "Int64Index: 832 entries, 0 to 1747\n",
      "Data columns (total 24 columns):\n",
      "bill_id                          832 non-null int64\n",
      "author_ideology                  706 non-null float64\n",
      "author_party                     777 non-null float64\n",
      "author_is_chair                  832 non-null int64\n",
      "author_years_sen                 775 non-null float64\n",
      "author_total_funding             732 non-null float64\n",
      "total_sponsors                   832 non-null int64\n",
      "dem_sponsors                     832 non-null int64\n",
      "rep_sponsors                     832 non-null int64\n",
      "most_liberal_sponsor_ideology    392 non-null float64\n",
      "most_cons_sponsor_ideology       392 non-null float64\n",
      "sponsor_chairs                   832 non-null int64\n",
      "description                      832 non-null object\n",
      "third_reading                    832 non-null int64\n",
      "agg_funding_sponsors             396 non-null float64\n",
      "agg_exp_sponsors                 404 non-null float64\n",
      "total_slips                      832 non-null int64\n",
      "pro_slips                        832 non-null int64\n",
      "opp_slips                        832 non-null int64\n",
      "no_pos_slips                     832 non-null int64\n",
      "slips_perc_pro                   832 non-null float64\n",
      "bipartisan                       832 non-null int64\n",
      "ideol_range                      392 non-null float64\n",
      "first_word_approp                832 non-null int64\n",
      "dtypes: float64(10), int64(13), object(1)\n",
      "memory usage: 162.5+ KB\n"
     ]
    }
   ],
   "source": [
    "# only nan values are from zero total slips\n",
    "    # if no slips, then 0 percent were pro is defensible\n",
    "raw[raw.total_slips != 0].info()"
   ]
  },
  {
   "cell_type": "code",
   "execution_count": 52,
   "metadata": {},
   "outputs": [],
   "source": [
    "# nulls are really because of gaps in ideology, funding, exp of senators\n",
    "# fill those in db with:\n",
    "    # ideology -> mean of party affiliation\n",
    "    # funding -> median\n",
    "    # exp -> median\n",
    "# Once that's done, the only nulls will be b/c of the lack of slips or cosponsors\n",
    "    # easily filled with 0's"
   ]
  },
  {
   "cell_type": "code",
   "execution_count": null,
   "metadata": {},
   "outputs": [],
   "source": []
  }
 ],
 "metadata": {
  "kernelspec": {
   "display_name": "Python [conda env:metis] *",
   "language": "python",
   "name": "conda-env-metis-py"
  },
  "language_info": {
   "codemirror_mode": {
    "name": "ipython",
    "version": 3
   },
   "file_extension": ".py",
   "mimetype": "text/x-python",
   "name": "python",
   "nbconvert_exporter": "python",
   "pygments_lexer": "ipython3",
   "version": "3.7.4"
  }
 },
 "nbformat": 4,
 "nbformat_minor": 2
}
