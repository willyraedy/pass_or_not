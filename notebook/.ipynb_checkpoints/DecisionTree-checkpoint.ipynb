{
 "cells": [
  {
   "cell_type": "code",
   "execution_count": 1,
   "metadata": {},
   "outputs": [],
   "source": [
    "%load_ext autoreload\n",
    "%autoreload 1"
   ]
  },
  {
   "cell_type": "code",
   "execution_count": 55,
   "metadata": {},
   "outputs": [],
   "source": [
    "import pandas as pd\n",
    "import numpy as np\n",
    "from sklearn.naive_bayes import GaussianNB, BernoulliNB, MultinomialNB\n",
    "from sklearn.model_selection import train_test_split, cross_validate, GridSearchCV\n",
    "from sklearn.ensemble import VotingClassifier\n",
    "from sklearn.compose import ColumnTransformer\n",
    "from sklearn.pipeline import Pipeline\n",
    "from sklearn.tree import DecisionTreeClassifier, export_text, plot_tree\n",
    "from sklearn.metrics import accuracy_score\n",
    "import matplotlib.pyplot as plt"
   ]
  },
  {
   "cell_type": "code",
   "execution_count": 18,
   "metadata": {},
   "outputs": [],
   "source": [
    "import sys\n",
    "sys.path.append('../src')\n",
    "from data import fetch_model_data\n",
    "from model import evaluation\n",
    "%aimport data.fetch_model_data\n",
    "%aimport model.evaluation"
   ]
  },
  {
   "cell_type": "markdown",
   "metadata": {},
   "source": [
    "# Decision Tree"
   ]
  },
  {
   "cell_type": "code",
   "execution_count": 4,
   "metadata": {},
   "outputs": [],
   "source": [
    "metrics=['roc_auc', 'accuracy', 'precision']"
   ]
  },
  {
   "cell_type": "markdown",
   "metadata": {},
   "source": [
    "## Train Test Split"
   ]
  },
  {
   "cell_type": "code",
   "execution_count": 5,
   "metadata": {},
   "outputs": [],
   "source": [
    "ip_address = '18.218.116.177'\n",
    "raw = fetch_model_data.fetch_model_data(ip_address)"
   ]
  },
  {
   "cell_type": "code",
   "execution_count": 6,
   "metadata": {},
   "outputs": [],
   "source": [
    "first_feature_set = [\n",
    "    'author_ideology',\n",
    "    'author_party',\n",
    "    'author_is_chair',\n",
    "    'author_years_sen',\n",
    "    'author_total_funding',\n",
    "    'total_sponsors',\n",
    "    'sponsor_chairs',\n",
    "    'agg_funding_sponsors',\n",
    "    'agg_exp_sponsors',\n",
    "    'total_slips',\n",
    "    'slips_perc_pro',\n",
    "    'bipartisan',\n",
    "    'ideol_range',\n",
    "    'first_word_approp',\n",
    "]"
   ]
  },
  {
   "cell_type": "code",
   "execution_count": 7,
   "metadata": {},
   "outputs": [],
   "source": [
    "X, y = raw[first_feature_set], raw.third_reading\n",
    "X_train, X_test, y_train, y_test = train_test_split(X, y, test_size=0.2, random_state=99, stratify=y)"
   ]
  },
  {
   "cell_type": "markdown",
   "metadata": {},
   "source": [
    "## Initial"
   ]
  },
  {
   "cell_type": "code",
   "execution_count": 8,
   "metadata": {},
   "outputs": [
    {
     "data": {
      "text/html": [
       "<div>\n",
       "<style scoped>\n",
       "    .dataframe tbody tr th:only-of-type {\n",
       "        vertical-align: middle;\n",
       "    }\n",
       "\n",
       "    .dataframe tbody tr th {\n",
       "        vertical-align: top;\n",
       "    }\n",
       "\n",
       "    .dataframe thead th {\n",
       "        text-align: right;\n",
       "    }\n",
       "</style>\n",
       "<table border=\"1\" class=\"dataframe\">\n",
       "  <thead>\n",
       "    <tr style=\"text-align: right;\">\n",
       "      <th></th>\n",
       "      <th>metric</th>\n",
       "      <th>mean</th>\n",
       "      <th>std</th>\n",
       "      <th>in_sample</th>\n",
       "    </tr>\n",
       "  </thead>\n",
       "  <tbody>\n",
       "    <tr>\n",
       "      <th>0</th>\n",
       "      <td>roc_auc</td>\n",
       "      <td>0.778351</td>\n",
       "      <td>0.019629</td>\n",
       "      <td>0.954450</td>\n",
       "    </tr>\n",
       "    <tr>\n",
       "      <th>1</th>\n",
       "      <td>accuracy</td>\n",
       "      <td>0.792540</td>\n",
       "      <td>0.013709</td>\n",
       "      <td>0.916129</td>\n",
       "    </tr>\n",
       "    <tr>\n",
       "      <th>2</th>\n",
       "      <td>precision</td>\n",
       "      <td>0.849366</td>\n",
       "      <td>0.009913</td>\n",
       "      <td>0.995764</td>\n",
       "    </tr>\n",
       "  </tbody>\n",
       "</table>\n",
       "</div>"
      ],
      "text/plain": [
       "      metric      mean       std  in_sample\n",
       "0    roc_auc  0.778351  0.019629   0.954450\n",
       "1   accuracy  0.792540  0.013709   0.916129\n",
       "2  precision  0.849366  0.009913   0.995764"
      ]
     },
     "execution_count": 8,
     "metadata": {},
     "output_type": "execute_result"
    }
   ],
   "source": [
    "scores = cross_validate(DecisionTreeClassifier(), X_train, y_train, return_train_score=True, scoring=['roc_auc', 'accuracy', 'precision'], cv=5)\n",
    "evaluation.report_single_model_metrics(scores)"
   ]
  },
  {
   "cell_type": "code",
   "execution_count": 9,
   "metadata": {},
   "outputs": [],
   "source": [
    "# Super overfit -> .95 => 0.78"
   ]
  },
  {
   "cell_type": "markdown",
   "metadata": {},
   "source": [
    "## Tune Parameters"
   ]
  },
  {
   "cell_type": "code",
   "execution_count": 10,
   "metadata": {},
   "outputs": [
    {
     "name": "stdout",
     "output_type": "stream",
     "text": [
      "Best params: {'max_depth': 5, 'min_samples_leaf': 10}\n"
     ]
    },
    {
     "data": {
      "text/html": [
       "<div>\n",
       "<style scoped>\n",
       "    .dataframe tbody tr th:only-of-type {\n",
       "        vertical-align: middle;\n",
       "    }\n",
       "\n",
       "    .dataframe tbody tr th {\n",
       "        vertical-align: top;\n",
       "    }\n",
       "\n",
       "    .dataframe thead th {\n",
       "        text-align: right;\n",
       "    }\n",
       "</style>\n",
       "<table border=\"1\" class=\"dataframe\">\n",
       "  <thead>\n",
       "    <tr style=\"text-align: right;\">\n",
       "      <th></th>\n",
       "      <th>metric</th>\n",
       "      <th>mean</th>\n",
       "      <th>std</th>\n",
       "      <th>in_sample</th>\n",
       "    </tr>\n",
       "  </thead>\n",
       "  <tbody>\n",
       "    <tr>\n",
       "      <th>0</th>\n",
       "      <td>roc_auc</td>\n",
       "      <td>0.873949</td>\n",
       "      <td>0.006306</td>\n",
       "      <td>0.899631</td>\n",
       "    </tr>\n",
       "    <tr>\n",
       "      <th>1</th>\n",
       "      <td>accuracy</td>\n",
       "      <td>0.824739</td>\n",
       "      <td>0.011899</td>\n",
       "      <td>0.845671</td>\n",
       "    </tr>\n",
       "    <tr>\n",
       "      <th>2</th>\n",
       "      <td>precision</td>\n",
       "      <td>0.844085</td>\n",
       "      <td>0.015868</td>\n",
       "      <td>0.866343</td>\n",
       "    </tr>\n",
       "  </tbody>\n",
       "</table>\n",
       "</div>"
      ],
      "text/plain": [
       "      metric      mean       std  in_sample\n",
       "0    roc_auc  0.873949  0.006306   0.899631\n",
       "1   accuracy  0.824739  0.011899   0.845671\n",
       "2  precision  0.844085  0.015868   0.866343"
      ]
     },
     "execution_count": 10,
     "metadata": {},
     "output_type": "execute_result"
    }
   ],
   "source": [
    "evaluation.run_pipeline(\n",
    "    raw_data=raw,\n",
    "    features=first_feature_set,\n",
    "    estimator=DecisionTreeClassifier,\n",
    "    param_grid={ 'max_depth': range(3, 20), 'min_samples_leaf': range(2, 15) }\n",
    ")"
   ]
  },
  {
   "cell_type": "code",
   "execution_count": 20,
   "metadata": {},
   "outputs": [],
   "source": [
    "# Damn!\n",
    "# Not very overfit and the best results so far"
   ]
  },
  {
   "cell_type": "markdown",
   "metadata": {},
   "source": [
    "## Explore Tuned Model"
   ]
  },
  {
   "cell_type": "code",
   "execution_count": 12,
   "metadata": {},
   "outputs": [
    {
     "data": {
      "text/plain": [
       "DecisionTreeClassifier(class_weight=None, criterion='gini', max_depth=5,\n",
       "                       max_features=None, max_leaf_nodes=None,\n",
       "                       min_impurity_decrease=0.0, min_impurity_split=None,\n",
       "                       min_samples_leaf=10, min_samples_split=2,\n",
       "                       min_weight_fraction_leaf=0.0, presort=False,\n",
       "                       random_state=None, splitter='best')"
      ]
     },
     "execution_count": 12,
     "metadata": {},
     "output_type": "execute_result"
    }
   ],
   "source": [
    "dt_params = {'max_depth': 5, 'min_samples_leaf': 10}\n",
    "dt = DecisionTreeClassifier(**dt_params)\n",
    "dt.fit(X_train, y_train)"
   ]
  },
  {
   "cell_type": "code",
   "execution_count": 13,
   "metadata": {},
   "outputs": [
    {
     "name": "stdout",
     "output_type": "stream",
     "text": [
      "|--- author_total_funding <= 3058489.12\n",
      "|   |--- total_slips <= 5.50\n",
      "|   |   |--- slips_perc_pro <= 0.55\n",
      "|   |   |   |--- author_ideology <= 0.43\n",
      "|   |   |   |   |--- agg_funding_sponsors <= 2630079.75\n",
      "|   |   |   |   |   |--- class: 1\n",
      "|   |   |   |   |--- agg_funding_sponsors >  2630079.75\n",
      "|   |   |   |   |   |--- class: 1\n",
      "|   |   |   |--- author_ideology >  0.43\n",
      "|   |   |   |   |--- author_ideology <= 0.51\n",
      "|   |   |   |   |   |--- class: 1\n",
      "|   |   |   |   |--- author_ideology >  0.51\n",
      "|   |   |   |   |   |--- class: 1\n",
      "|   |   |--- slips_perc_pro >  0.55\n",
      "|   |   |   |--- agg_exp_sponsors <= 8.50\n",
      "|   |   |   |   |--- author_total_funding <= 275584.00\n",
      "|   |   |   |   |   |--- class: 1\n",
      "|   |   |   |   |--- author_total_funding >  275584.00\n",
      "|   |   |   |   |   |--- class: 1\n",
      "|   |   |   |--- agg_exp_sponsors >  8.50\n",
      "|   |   |   |   |--- class: 1\n",
      "|   |--- total_slips >  5.50\n",
      "|   |   |--- author_ideology <= -0.57\n",
      "|   |   |   |--- author_total_funding <= 1177822.38\n",
      "|   |   |   |   |--- slips_perc_pro <= 0.97\n",
      "|   |   |   |   |   |--- class: 1\n",
      "|   |   |   |   |--- slips_perc_pro >  0.97\n",
      "|   |   |   |   |   |--- class: 1\n",
      "|   |   |   |--- author_total_funding >  1177822.38\n",
      "|   |   |   |   |--- total_slips <= 18.00\n",
      "|   |   |   |   |   |--- class: 0\n",
      "|   |   |   |   |--- total_slips >  18.00\n",
      "|   |   |   |   |   |--- class: 0\n",
      "|   |   |--- author_ideology >  -0.57\n",
      "|   |   |   |--- slips_perc_pro <= 0.21\n",
      "|   |   |   |   |--- class: 1\n",
      "|   |   |   |--- slips_perc_pro >  0.21\n",
      "|   |   |   |   |--- total_slips <= 6.50\n",
      "|   |   |   |   |   |--- class: 1\n",
      "|   |   |   |   |--- total_slips >  6.50\n",
      "|   |   |   |   |   |--- class: 1\n",
      "|--- author_total_funding >  3058489.12\n",
      "|   |--- total_slips <= 0.50\n",
      "|   |   |--- author_total_funding <= 3287842.38\n",
      "|   |   |   |--- class: 0\n",
      "|   |   |--- author_total_funding >  3287842.38\n",
      "|   |   |   |--- first_word_approp <= 0.50\n",
      "|   |   |   |   |--- author_total_funding <= 4193973.00\n",
      "|   |   |   |   |   |--- class: 0\n",
      "|   |   |   |   |--- author_total_funding >  4193973.00\n",
      "|   |   |   |   |   |--- class: 0\n",
      "|   |   |   |--- first_word_approp >  0.50\n",
      "|   |   |   |   |--- class: 0\n",
      "|   |--- total_slips >  0.50\n",
      "|   |   |--- author_total_funding <= 5653857.75\n",
      "|   |   |   |--- slips_perc_pro <= 0.52\n",
      "|   |   |   |   |--- class: 0\n",
      "|   |   |   |--- slips_perc_pro >  0.52\n",
      "|   |   |   |   |--- total_slips <= 6.50\n",
      "|   |   |   |   |   |--- class: 0\n",
      "|   |   |   |   |--- total_slips >  6.50\n",
      "|   |   |   |   |   |--- class: 1\n",
      "|   |   |--- author_total_funding >  5653857.75\n",
      "|   |   |   |--- total_slips <= 90.00\n",
      "|   |   |   |   |--- total_slips <= 13.50\n",
      "|   |   |   |   |   |--- class: 1\n",
      "|   |   |   |   |--- total_slips >  13.50\n",
      "|   |   |   |   |   |--- class: 1\n",
      "|   |   |   |--- total_slips >  90.00\n",
      "|   |   |   |   |--- class: 1\n",
      "\n"
     ]
    }
   ],
   "source": [
    "r = export_text(dt, feature_names=first_feature_set)\n",
    "print(r)"
   ]
  },
  {
   "cell_type": "code",
   "execution_count": 19,
   "metadata": {},
   "outputs": [],
   "source": [
    "# This looks pretty non-sensical\n",
    "    # I don't remember author_funding or author_ideology having a big signal/noise ratio\n",
    "# I'm skeptical of these results"
   ]
  },
  {
   "cell_type": "code",
   "execution_count": 24,
   "metadata": {},
   "outputs": [
    {
     "name": "stdout",
     "output_type": "stream",
     "text": [
      "author_party : 0.0\n",
      "author_is_chair : 0.0\n",
      "author_years_sen : 0.0\n",
      "total_sponsors : 0.0\n",
      "sponsor_chairs : 0.0\n",
      "bipartisan : 0.0\n",
      "ideol_range : 0.0\n",
      "agg_exp_sponsors : 0.000995173174290333\n",
      "agg_funding_sponsors : 0.0012657381832484678\n",
      "first_word_approp : 0.0035298076429553745\n",
      "slips_perc_pro : 0.021701780934535113\n",
      "author_ideology : 0.026850459061476647\n",
      "total_slips : 0.10117304980590447\n",
      "author_total_funding : 0.8444839911975895\n"
     ]
    }
   ],
   "source": [
    "for n, f in sorted(zip(first_feature_set, dt.feature_importances_), key=lambda x: x[1]):\n",
    "    print(n, ':', f)\n"
   ]
  },
  {
   "cell_type": "markdown",
   "metadata": {},
   "source": [
    "## Different Features"
   ]
  },
  {
   "cell_type": "code",
   "execution_count": 25,
   "metadata": {},
   "outputs": [],
   "source": [
    "second_feature_set = [\n",
    "    'author_ideology',\n",
    "    'author_party',\n",
    "    'author_is_chair',\n",
    "    'author_years_sen',\n",
    "#     'author_total_funding',\n",
    "    'total_sponsors',\n",
    "    'sponsor_chairs',\n",
    "    'agg_funding_sponsors',\n",
    "    'agg_exp_sponsors',\n",
    "    'total_slips',\n",
    "    'slips_perc_pro',\n",
    "    'bipartisan',\n",
    "    'ideol_range',\n",
    "    'first_word_approp',\n",
    "]"
   ]
  },
  {
   "cell_type": "code",
   "execution_count": 61,
   "metadata": {},
   "outputs": [
    {
     "name": "stdout",
     "output_type": "stream",
     "text": [
      "Best params: {'max_depth': 5, 'min_samples_leaf': 13}\n"
     ]
    },
    {
     "data": {
      "text/html": [
       "<div>\n",
       "<style scoped>\n",
       "    .dataframe tbody tr th:only-of-type {\n",
       "        vertical-align: middle;\n",
       "    }\n",
       "\n",
       "    .dataframe tbody tr th {\n",
       "        vertical-align: top;\n",
       "    }\n",
       "\n",
       "    .dataframe thead th {\n",
       "        text-align: right;\n",
       "    }\n",
       "</style>\n",
       "<table border=\"1\" class=\"dataframe\">\n",
       "  <thead>\n",
       "    <tr style=\"text-align: right;\">\n",
       "      <th></th>\n",
       "      <th>metric</th>\n",
       "      <th>mean</th>\n",
       "      <th>std</th>\n",
       "      <th>in_sample</th>\n",
       "    </tr>\n",
       "  </thead>\n",
       "  <tbody>\n",
       "    <tr>\n",
       "      <th>0</th>\n",
       "      <td>roc_auc</td>\n",
       "      <td>0.868916</td>\n",
       "      <td>0.015438</td>\n",
       "      <td>0.891504</td>\n",
       "    </tr>\n",
       "    <tr>\n",
       "      <th>1</th>\n",
       "      <td>accuracy</td>\n",
       "      <td>0.830458</td>\n",
       "      <td>0.018431</td>\n",
       "      <td>0.839770</td>\n",
       "    </tr>\n",
       "    <tr>\n",
       "      <th>2</th>\n",
       "      <td>precision</td>\n",
       "      <td>0.845400</td>\n",
       "      <td>0.025977</td>\n",
       "      <td>0.852768</td>\n",
       "    </tr>\n",
       "  </tbody>\n",
       "</table>\n",
       "</div>"
      ],
      "text/plain": [
       "      metric      mean       std  in_sample\n",
       "0    roc_auc  0.868916  0.015438   0.891504\n",
       "1   accuracy  0.830458  0.018431   0.839770\n",
       "2  precision  0.845400  0.025977   0.852768"
      ]
     },
     "execution_count": 61,
     "metadata": {},
     "output_type": "execute_result"
    }
   ],
   "source": [
    "evaluation.run_pipeline(\n",
    "    raw_data=raw,\n",
    "    features=second_feature_set,\n",
    "    estimator=DecisionTreeClassifier,\n",
    "    param_grid={\n",
    "        'max_depth': range(3, 20),\n",
    "        'min_samples_leaf': range(2, 15),\n",
    "    }\n",
    ")"
   ]
  },
  {
   "cell_type": "code",
   "execution_count": null,
   "metadata": {},
   "outputs": [],
   "source": [
    "# Not that much worse after removing most important feature"
   ]
  },
  {
   "cell_type": "markdown",
   "metadata": {},
   "source": [
    "## Super Simple Tree"
   ]
  },
  {
   "cell_type": "code",
   "execution_count": 82,
   "metadata": {},
   "outputs": [
    {
     "name": "stdout",
     "output_type": "stream",
     "text": [
      "|--- total_slips <= 0.50\n",
      "|   |--- author_years_sen <= 14.50\n",
      "|   |   |--- class: 1\n",
      "|   |--- author_years_sen >  14.50\n",
      "|   |   |--- class: 0\n",
      "|--- total_slips >  0.50\n",
      "|   |--- class: 1\n",
      "\n"
     ]
    },
    {
     "data": {
      "text/html": [
       "<div>\n",
       "<style scoped>\n",
       "    .dataframe tbody tr th:only-of-type {\n",
       "        vertical-align: middle;\n",
       "    }\n",
       "\n",
       "    .dataframe tbody tr th {\n",
       "        vertical-align: top;\n",
       "    }\n",
       "\n",
       "    .dataframe thead th {\n",
       "        text-align: right;\n",
       "    }\n",
       "</style>\n",
       "<table border=\"1\" class=\"dataframe\">\n",
       "  <thead>\n",
       "    <tr style=\"text-align: right;\">\n",
       "      <th></th>\n",
       "      <th>metric</th>\n",
       "      <th>mean</th>\n",
       "      <th>std</th>\n",
       "      <th>in_sample</th>\n",
       "    </tr>\n",
       "  </thead>\n",
       "  <tbody>\n",
       "    <tr>\n",
       "      <th>0</th>\n",
       "      <td>roc_auc</td>\n",
       "      <td>0.829960</td>\n",
       "      <td>0.015726</td>\n",
       "      <td>0.833285</td>\n",
       "    </tr>\n",
       "    <tr>\n",
       "      <th>1</th>\n",
       "      <td>accuracy</td>\n",
       "      <td>0.832593</td>\n",
       "      <td>0.017079</td>\n",
       "      <td>0.832616</td>\n",
       "    </tr>\n",
       "    <tr>\n",
       "      <th>2</th>\n",
       "      <td>precision</td>\n",
       "      <td>0.831295</td>\n",
       "      <td>0.019413</td>\n",
       "      <td>0.830786</td>\n",
       "    </tr>\n",
       "  </tbody>\n",
       "</table>\n",
       "</div>"
      ],
      "text/plain": [
       "      metric      mean       std  in_sample\n",
       "0    roc_auc  0.829960  0.015726   0.833285\n",
       "1   accuracy  0.832593  0.017079   0.832616\n",
       "2  precision  0.831295  0.019413   0.830786"
      ]
     },
     "execution_count": 82,
     "metadata": {},
     "output_type": "execute_result"
    }
   ],
   "source": [
    "scores = cross_validate(\n",
    "    DecisionTreeClassifier(**{'max_depth': 5, 'min_samples_leaf': 13, 'min_impurity_decrease': 0.01}),\n",
    "    X_train[second_feature_set],\n",
    "    y_train,\n",
    "    return_train_score=True,\n",
    "    scoring=['roc_auc', 'accuracy', 'precision'],\n",
    "    cv=5,\n",
    "    return_estimator=True\n",
    ")\n",
    "dt = scores['estimator'][0]\n",
    "r = export_text(dt, feature_names=second_feature_set)\n",
    "print(r)\n",
    "evaluation.report_single_model_metrics(scores)\n",
    "# Shocking how well the model does on two splits"
   ]
  },
  {
   "cell_type": "code",
   "execution_count": 74,
   "metadata": {},
   "outputs": [],
   "source": [
    "# perhaps good support that I should have a \"has_slips\" boolean"
   ]
  }
 ],
 "metadata": {
  "kernelspec": {
   "display_name": "Python [conda env:metis] *",
   "language": "python",
   "name": "conda-env-metis-py"
  },
  "language_info": {
   "codemirror_mode": {
    "name": "ipython",
    "version": 3
   },
   "file_extension": ".py",
   "mimetype": "text/x-python",
   "name": "python",
   "nbconvert_exporter": "python",
   "pygments_lexer": "ipython3",
   "version": "3.7.4"
  }
 },
 "nbformat": 4,
 "nbformat_minor": 2
}
