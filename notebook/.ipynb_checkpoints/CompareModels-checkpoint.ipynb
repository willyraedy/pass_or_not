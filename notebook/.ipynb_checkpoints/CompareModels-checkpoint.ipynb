{
 "cells": [
  {
   "cell_type": "code",
   "execution_count": 2,
   "metadata": {},
   "outputs": [],
   "source": [
    "%load_ext autoreload\n",
    "%autoreload 1"
   ]
  },
  {
   "cell_type": "code",
   "execution_count": 3,
   "metadata": {},
   "outputs": [],
   "source": [
    "import pandas as pd\n",
    "import numpy as np\n",
    "from sklearn.neighbors import KNeighborsClassifier\n",
    "from sklearn.linear_model import LogisticRegression\n",
    "from sklearn.ensemble import RandomForestClassifier\n",
    "from sklearn.tree import DecisionTreeClassifier\n",
    "from sklearn.naive_bayes import BernoulliNB\n",
    "from sklearn.svm import LinearSVC\n",
    "from sklearn.model_selection import train_test_split, GridSearchCV"
   ]
  },
  {
   "cell_type": "code",
   "execution_count": 4,
   "metadata": {},
   "outputs": [],
   "source": [
    "import sys\n",
    "sys.path.append('../src')\n",
    "from data import fetch_model_data\n",
    "from model import evaluation\n",
    "%aimport data.fetch_model_data\n",
    "%aimport model.evaluation"
   ]
  },
  {
   "cell_type": "markdown",
   "metadata": {},
   "source": [
    "# Model Comparison"
   ]
  },
  {
   "cell_type": "code",
   "execution_count": 5,
   "metadata": {},
   "outputs": [],
   "source": [
    "metrics=['roc_auc', 'accuracy', 'precision']"
   ]
  },
  {
   "cell_type": "markdown",
   "metadata": {},
   "source": [
    "## Load Data"
   ]
  },
  {
   "cell_type": "code",
   "execution_count": 6,
   "metadata": {},
   "outputs": [],
   "source": [
    "ip_address = '18.218.116.177'\n",
    "raw = fetch_model_data.fetch_model_data(ip_address)"
   ]
  },
  {
   "cell_type": "code",
   "execution_count": 7,
   "metadata": {},
   "outputs": [],
   "source": [
    "first_feature_set = [\n",
    "    'author_ideology',\n",
    "    'author_party',\n",
    "    'author_is_chair',\n",
    "    'author_years_sen',\n",
    "    'author_total_funding',\n",
    "    'total_sponsors',\n",
    "    'sponsor_chairs',\n",
    "    'agg_funding_sponsors',\n",
    "    'agg_exp_sponsors',\n",
    "    'total_slips',\n",
    "    'slips_perc_pro',\n",
    "    'bipartisan',\n",
    "    'ideol_range',\n",
    "    'first_word_approp',\n",
    "]"
   ]
  },
  {
   "cell_type": "code",
   "execution_count": 8,
   "metadata": {},
   "outputs": [],
   "source": [
    "X, y = raw[first_feature_set], raw.third_reading\n",
    "X_train, X_test, y_train, y_test = train_test_split(X, y, test_size=0.2, random_state=99, stratify=y)"
   ]
  },
  {
   "cell_type": "markdown",
   "metadata": {},
   "source": [
    "## Run Models"
   ]
  },
  {
   "cell_type": "code",
   "execution_count": 9,
   "metadata": {},
   "outputs": [],
   "source": [
    "models = [\n",
    "    ('knn', {'n_neighbors': 17, 'weights': 'uniform'}, KNeighborsClassifier),\n",
    "    ('log', {'C': 1, 'penalty': 'l1'}, LogisticRegression),\n",
    "    ('bNB', {}, BernoulliNB),\n",
    "    ('rf', {'max_depth': 5, 'min_samples_leaf': 6, 'n_estimators': 100}, RandomForestClassifier),\n",
    "    ('svm', {'C': 0.4 }, LinearSVC),\n",
    "    ('dt', {'max_depth': 5, 'min_samples_leaf': 10}, DecisionTreeClassifier),\n",
    "    ('stupid_dt', {'max_depth': 5, 'min_samples_leaf': 13, 'min_impurity_decrease': 0.01}, DecisionTreeClassifier),\n",
    "]"
   ]
  },
  {
   "cell_type": "code",
   "execution_count": 10,
   "metadata": {},
   "outputs": [
    {
     "name": "stderr",
     "output_type": "stream",
     "text": [
      "/Users/willyraedy/anaconda3/envs/metis/lib/python3.7/site-packages/sklearn/linear_model/logistic.py:432: FutureWarning: Default solver will be changed to 'lbfgs' in 0.22. Specify a solver to silence this warning.\n",
      "  FutureWarning)\n",
      "/Users/willyraedy/anaconda3/envs/metis/lib/python3.7/site-packages/sklearn/linear_model/logistic.py:432: FutureWarning: Default solver will be changed to 'lbfgs' in 0.22. Specify a solver to silence this warning.\n",
      "  FutureWarning)\n",
      "/Users/willyraedy/anaconda3/envs/metis/lib/python3.7/site-packages/sklearn/linear_model/logistic.py:432: FutureWarning: Default solver will be changed to 'lbfgs' in 0.22. Specify a solver to silence this warning.\n",
      "  FutureWarning)\n",
      "/Users/willyraedy/anaconda3/envs/metis/lib/python3.7/site-packages/sklearn/linear_model/logistic.py:432: FutureWarning: Default solver will be changed to 'lbfgs' in 0.22. Specify a solver to silence this warning.\n",
      "  FutureWarning)\n",
      "/Users/willyraedy/anaconda3/envs/metis/lib/python3.7/site-packages/sklearn/linear_model/logistic.py:432: FutureWarning: Default solver will be changed to 'lbfgs' in 0.22. Specify a solver to silence this warning.\n",
      "  FutureWarning)\n",
      "/Users/willyraedy/anaconda3/envs/metis/lib/python3.7/site-packages/sklearn/svm/base.py:929: ConvergenceWarning: Liblinear failed to converge, increase the number of iterations.\n",
      "  \"the number of iterations.\", ConvergenceWarning)\n",
      "/Users/willyraedy/anaconda3/envs/metis/lib/python3.7/site-packages/sklearn/svm/base.py:929: ConvergenceWarning: Liblinear failed to converge, increase the number of iterations.\n",
      "  \"the number of iterations.\", ConvergenceWarning)\n",
      "/Users/willyraedy/anaconda3/envs/metis/lib/python3.7/site-packages/sklearn/svm/base.py:929: ConvergenceWarning: Liblinear failed to converge, increase the number of iterations.\n",
      "  \"the number of iterations.\", ConvergenceWarning)\n",
      "/Users/willyraedy/anaconda3/envs/metis/lib/python3.7/site-packages/sklearn/svm/base.py:929: ConvergenceWarning: Liblinear failed to converge, increase the number of iterations.\n",
      "  \"the number of iterations.\", ConvergenceWarning)\n",
      "/Users/willyraedy/anaconda3/envs/metis/lib/python3.7/site-packages/sklearn/svm/base.py:929: ConvergenceWarning: Liblinear failed to converge, increase the number of iterations.\n",
      "  \"the number of iterations.\", ConvergenceWarning)\n",
      "../src/model/evaluation.py:85: RuntimeWarning: Mean of empty slice.\n",
      "  mean=np.array(scores['test_' + metric]).mean(),\n",
      "/Users/willyraedy/anaconda3/envs/metis/lib/python3.7/site-packages/numpy/core/_methods.py:161: RuntimeWarning: invalid value encountered in double_scalars\n",
      "  ret = ret.dtype.type(ret / rcount)\n",
      "/Users/willyraedy/anaconda3/envs/metis/lib/python3.7/site-packages/numpy/core/_methods.py:217: RuntimeWarning: Degrees of freedom <= 0 for slice\n",
      "  keepdims=keepdims)\n",
      "/Users/willyraedy/anaconda3/envs/metis/lib/python3.7/site-packages/numpy/core/_methods.py:186: RuntimeWarning: invalid value encountered in true_divide\n",
      "  arrmean, rcount, out=arrmean, casting='unsafe', subok=False)\n",
      "/Users/willyraedy/anaconda3/envs/metis/lib/python3.7/site-packages/numpy/core/_methods.py:209: RuntimeWarning: invalid value encountered in double_scalars\n",
      "  ret = ret.dtype.type(ret / rcount)\n",
      "../src/model/evaluation.py:87: RuntimeWarning: Mean of empty slice.\n",
      "  in_sample=np.array(scores['train_' + metric]).mean()\n"
     ]
    },
    {
     "data": {
      "text/html": [
       "<div>\n",
       "<style scoped>\n",
       "    .dataframe tbody tr th:only-of-type {\n",
       "        vertical-align: middle;\n",
       "    }\n",
       "\n",
       "    .dataframe tbody tr th {\n",
       "        vertical-align: top;\n",
       "    }\n",
       "\n",
       "    .dataframe thead th {\n",
       "        text-align: right;\n",
       "    }\n",
       "</style>\n",
       "<table border=\"1\" class=\"dataframe\">\n",
       "  <thead>\n",
       "    <tr style=\"text-align: right;\">\n",
       "      <th></th>\n",
       "      <th>roc_auc</th>\n",
       "      <th>accuracy</th>\n",
       "      <th>precision</th>\n",
       "    </tr>\n",
       "  </thead>\n",
       "  <tbody>\n",
       "    <tr>\n",
       "      <th>knn</th>\n",
       "      <td>0.857970</td>\n",
       "      <td>0.831180</td>\n",
       "      <td>0.835193</td>\n",
       "    </tr>\n",
       "    <tr>\n",
       "      <th>log</th>\n",
       "      <td>0.860826</td>\n",
       "      <td>0.809724</td>\n",
       "      <td>0.834717</td>\n",
       "    </tr>\n",
       "    <tr>\n",
       "      <th>bNB</th>\n",
       "      <td>0.832828</td>\n",
       "      <td>0.812601</td>\n",
       "      <td>0.826947</td>\n",
       "    </tr>\n",
       "    <tr>\n",
       "      <th>rf</th>\n",
       "      <td>0.880372</td>\n",
       "      <td>0.834767</td>\n",
       "      <td>0.834536</td>\n",
       "    </tr>\n",
       "    <tr>\n",
       "      <th>svm</th>\n",
       "      <td>NaN</td>\n",
       "      <td>0.808295</td>\n",
       "      <td>0.834172</td>\n",
       "    </tr>\n",
       "    <tr>\n",
       "      <th>dt</th>\n",
       "      <td>0.875209</td>\n",
       "      <td>0.821165</td>\n",
       "      <td>0.845935</td>\n",
       "    </tr>\n",
       "    <tr>\n",
       "      <th>stupid_dt</th>\n",
       "      <td>0.842801</td>\n",
       "      <td>0.833338</td>\n",
       "      <td>0.832326</td>\n",
       "    </tr>\n",
       "  </tbody>\n",
       "</table>\n",
       "</div>"
      ],
      "text/plain": [
       "            roc_auc  accuracy  precision\n",
       "knn        0.857970  0.831180   0.835193\n",
       "log        0.860826  0.809724   0.834717\n",
       "bNB        0.832828  0.812601   0.826947\n",
       "rf         0.880372  0.834767   0.834536\n",
       "svm             NaN  0.808295   0.834172\n",
       "dt         0.875209  0.821165   0.845935\n",
       "stupid_dt  0.842801  0.833338   0.832326"
      ]
     },
     "execution_count": 10,
     "metadata": {},
     "output_type": "execute_result"
    }
   ],
   "source": [
    "results = []\n",
    "for name, fit_params, estimator in models:\n",
    "    scores = evaluation.cross_validate(\n",
    "        estimator,\n",
    "        X_train,\n",
    "        y_train,\n",
    "        fit_params=fit_params,\n",
    "        scoring=metrics,\n",
    "        standardize=True if name in ['knn', 'log', 'svm'] else False\n",
    "    )\n",
    "    res = evaluation.report_single_model_metrics(scores)\n",
    "    model = res[['mean']].transpose()\n",
    "    model.columns = ['roc_auc', 'accuracy', 'precision']\n",
    "    model.index = [name]\n",
    "    results.append(model)\n",
    "pd.concat(results)"
   ]
  },
  {
   "cell_type": "code",
   "execution_count": 11,
   "metadata": {},
   "outputs": [],
   "source": [
    "# Stupid model is very close to being the best"
   ]
  },
  {
   "cell_type": "code",
   "execution_count": null,
   "metadata": {},
   "outputs": [],
   "source": []
  },
  {
   "cell_type": "code",
   "execution_count": null,
   "metadata": {},
   "outputs": [],
   "source": []
  },
  {
   "cell_type": "code",
   "execution_count": null,
   "metadata": {},
   "outputs": [],
   "source": []
  }
 ],
 "metadata": {
  "kernelspec": {
   "display_name": "Python [conda env:metis] *",
   "language": "python",
   "name": "conda-env-metis-py"
  },
  "language_info": {
   "codemirror_mode": {
    "name": "ipython",
    "version": 3
   },
   "file_extension": ".py",
   "mimetype": "text/x-python",
   "name": "python",
   "nbconvert_exporter": "python",
   "pygments_lexer": "ipython3",
   "version": "3.7.4"
  }
 },
 "nbformat": 4,
 "nbformat_minor": 2
}
