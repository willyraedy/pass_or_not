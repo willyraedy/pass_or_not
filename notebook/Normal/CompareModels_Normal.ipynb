{
 "cells": [
  {
   "cell_type": "code",
   "execution_count": 2,
   "metadata": {},
   "outputs": [],
   "source": [
    "%load_ext autoreload\n",
    "%autoreload 1"
   ]
  },
  {
   "cell_type": "code",
   "execution_count": 3,
   "metadata": {},
   "outputs": [],
   "source": [
    "import pandas as pd\n",
    "import numpy as np\n",
    "from sklearn.neighbors import KNeighborsClassifier\n",
    "from sklearn.linear_model import LogisticRegression\n",
    "from sklearn.ensemble import RandomForestClassifier\n",
    "from sklearn.tree import DecisionTreeClassifier, export_text\n",
    "from sklearn.naive_bayes import BernoulliNB\n",
    "from sklearn.svm import LinearSVC\n",
    "from sklearn.model_selection import train_test_split, GridSearchCV\n",
    "import pickle\n",
    "from sklearn.dummy import DummyClassifier"
   ]
  },
  {
   "cell_type": "code",
   "execution_count": 4,
   "metadata": {},
   "outputs": [
    {
     "name": "stderr",
     "output_type": "stream",
     "text": [
      "Using TensorFlow backend.\n",
      "/Users/willyraedy/anaconda3/envs/metis/lib/python3.7/site-packages/tensorflow/python/framework/dtypes.py:526: FutureWarning: Passing (type, 1) or '1type' as a synonym of type is deprecated; in a future version of numpy, it will be understood as (type, (1,)) / '(1,)type'.\n",
      "  _np_qint8 = np.dtype([(\"qint8\", np.int8, 1)])\n",
      "/Users/willyraedy/anaconda3/envs/metis/lib/python3.7/site-packages/tensorflow/python/framework/dtypes.py:527: FutureWarning: Passing (type, 1) or '1type' as a synonym of type is deprecated; in a future version of numpy, it will be understood as (type, (1,)) / '(1,)type'.\n",
      "  _np_quint8 = np.dtype([(\"quint8\", np.uint8, 1)])\n",
      "/Users/willyraedy/anaconda3/envs/metis/lib/python3.7/site-packages/tensorflow/python/framework/dtypes.py:528: FutureWarning: Passing (type, 1) or '1type' as a synonym of type is deprecated; in a future version of numpy, it will be understood as (type, (1,)) / '(1,)type'.\n",
      "  _np_qint16 = np.dtype([(\"qint16\", np.int16, 1)])\n",
      "/Users/willyraedy/anaconda3/envs/metis/lib/python3.7/site-packages/tensorflow/python/framework/dtypes.py:529: FutureWarning: Passing (type, 1) or '1type' as a synonym of type is deprecated; in a future version of numpy, it will be understood as (type, (1,)) / '(1,)type'.\n",
      "  _np_quint16 = np.dtype([(\"quint16\", np.uint16, 1)])\n",
      "/Users/willyraedy/anaconda3/envs/metis/lib/python3.7/site-packages/tensorflow/python/framework/dtypes.py:530: FutureWarning: Passing (type, 1) or '1type' as a synonym of type is deprecated; in a future version of numpy, it will be understood as (type, (1,)) / '(1,)type'.\n",
      "  _np_qint32 = np.dtype([(\"qint32\", np.int32, 1)])\n",
      "/Users/willyraedy/anaconda3/envs/metis/lib/python3.7/site-packages/tensorflow/python/framework/dtypes.py:535: FutureWarning: Passing (type, 1) or '1type' as a synonym of type is deprecated; in a future version of numpy, it will be understood as (type, (1,)) / '(1,)type'.\n",
      "  np_resource = np.dtype([(\"resource\", np.ubyte, 1)])\n"
     ]
    }
   ],
   "source": [
    "import sys\n",
    "sys.path.append('../../src')\n",
    "from data import fetch_model_data\n",
    "from model import evaluation\n",
    "%aimport data.fetch_model_data\n",
    "%aimport model.evaluation"
   ]
  },
  {
   "cell_type": "markdown",
   "metadata": {},
   "source": [
    "# Model Comparison"
   ]
  },
  {
   "cell_type": "code",
   "execution_count": 5,
   "metadata": {},
   "outputs": [],
   "source": [
    "metrics=['roc_auc', 'accuracy', 'precision', 'recall']"
   ]
  },
  {
   "cell_type": "markdown",
   "metadata": {},
   "source": [
    "## Load Data"
   ]
  },
  {
   "cell_type": "code",
   "execution_count": 8,
   "metadata": {},
   "outputs": [],
   "source": [
    "ip_address = '18.218.116.177'\n",
    "_, normal_data = fetch_model_data.fetch_model_data(ip_address, split=True)"
   ]
  },
  {
   "cell_type": "code",
   "execution_count": 9,
   "metadata": {},
   "outputs": [],
   "source": [
    "first_feature_set = [\n",
    "    'author_ideology',\n",
    "    'author_party',\n",
    "    'author_is_chair',\n",
    "    'author_years_sen',\n",
    "    'author_total_funding',\n",
    "    'total_sponsors',\n",
    "    'sponsor_chairs',\n",
    "    'agg_funding_sponsors',\n",
    "    'agg_exp_sponsors',\n",
    "    'total_slips',\n",
    "    'slips_perc_pro',\n",
    "    'bipartisan',\n",
    "    'ideol_range',\n",
    "#     'first_word_approp',\n",
    "]"
   ]
  },
  {
   "cell_type": "code",
   "execution_count": 10,
   "metadata": {},
   "outputs": [],
   "source": [
    "X, y = normal_data[first_feature_set], normal_data.third_reading\n",
    "X_train, X_test, y_train, y_test = train_test_split(X, y, test_size=0.2, random_state=99, stratify=y)"
   ]
  },
  {
   "cell_type": "markdown",
   "metadata": {},
   "source": [
    "## Run Models"
   ]
  },
  {
   "cell_type": "code",
   "execution_count": 11,
   "metadata": {},
   "outputs": [],
   "source": [
    "models = [\n",
    "    ('dummy', {}, DummyClassifier),\n",
    "    ('knn', { 'n_neighbors': range(1, 21), 'weights': ['uniform', 'distance']}, KNeighborsClassifier),\n",
    "    ('log', { 'C': [x/10 for x in range(1, 11)], 'penalty': ['l1', 'l2']}, LogisticRegression),\n",
    "    ('bNB', {}, BernoulliNB),\n",
    "    ('rf', {\n",
    "        'n_estimators': [10, 20, 50, 100],\n",
    "        'max_depth': range(3, 20),\n",
    "        'min_samples_leaf': range(2, 25)\n",
    "    }, RandomForestClassifier),\n",
    "    ('svm', {\n",
    "#         'penalty': ['l1', 'l2'],\n",
    "#         'loss': ['hinged', 'squared_hinge'],\n",
    "        'C': [x/10 for x in range(1, 11)],\n",
    "        'random_state': [99]\n",
    "    }, LinearSVC),\n",
    "    ('dt', { 'max_depth': range(3, 20), 'min_samples_leaf': range(2, 15) }, DecisionTreeClassifier),\n",
    "    ('stupid_dt', {'max_depth': [2, 5], 'min_samples_leaf': range(10, 20), 'min_impurity_decrease': [0.01]}, DecisionTreeClassifier),\n",
    "]"
   ]
  },
  {
   "cell_type": "code",
   "execution_count": 9,
   "metadata": {},
   "outputs": [],
   "source": [
    "%%capture\n",
    "results, info = evaluation.comparison_pipeline(X_train, y_train, models, metrics)"
   ]
  },
  {
   "cell_type": "code",
   "execution_count": 13,
   "metadata": {},
   "outputs": [],
   "source": [
    "results['recall'] = [np.mean(x['scores']['test_recall']) for x in info]"
   ]
  },
  {
   "cell_type": "code",
   "execution_count": 14,
   "metadata": {},
   "outputs": [
    {
     "data": {
      "text/html": [
       "<div>\n",
       "<style scoped>\n",
       "    .dataframe tbody tr th:only-of-type {\n",
       "        vertical-align: middle;\n",
       "    }\n",
       "\n",
       "    .dataframe tbody tr th {\n",
       "        vertical-align: top;\n",
       "    }\n",
       "\n",
       "    .dataframe thead th {\n",
       "        text-align: right;\n",
       "    }\n",
       "</style>\n",
       "<table border=\"1\" class=\"dataframe\">\n",
       "  <thead>\n",
       "    <tr style=\"text-align: right;\">\n",
       "      <th></th>\n",
       "      <th>roc_auc</th>\n",
       "      <th>accuracy</th>\n",
       "      <th>precision</th>\n",
       "      <th>recall</th>\n",
       "    </tr>\n",
       "  </thead>\n",
       "  <tbody>\n",
       "    <tr>\n",
       "      <th>dummy</th>\n",
       "      <td>0.497225</td>\n",
       "      <td>0.733035</td>\n",
       "      <td>0.848211</td>\n",
       "      <td>0.833253</td>\n",
       "    </tr>\n",
       "    <tr>\n",
       "      <th>knn</th>\n",
       "      <td>0.604049</td>\n",
       "      <td>0.844587</td>\n",
       "      <td>0.844587</td>\n",
       "      <td>1.000000</td>\n",
       "    </tr>\n",
       "    <tr>\n",
       "      <th>log</th>\n",
       "      <td>0.637132</td>\n",
       "      <td>0.841645</td>\n",
       "      <td>0.846197</td>\n",
       "      <td>0.993043</td>\n",
       "    </tr>\n",
       "    <tr>\n",
       "      <th>bNB</th>\n",
       "      <td>0.549963</td>\n",
       "      <td>0.844587</td>\n",
       "      <td>0.844587</td>\n",
       "      <td>1.000000</td>\n",
       "    </tr>\n",
       "    <tr>\n",
       "      <th>rf</th>\n",
       "      <td>0.661216</td>\n",
       "      <td>0.844587</td>\n",
       "      <td>0.844587</td>\n",
       "      <td>1.000000</td>\n",
       "    </tr>\n",
       "    <tr>\n",
       "      <th>svm</th>\n",
       "      <td>NaN</td>\n",
       "      <td>0.841645</td>\n",
       "      <td>0.847217</td>\n",
       "      <td>0.991304</td>\n",
       "    </tr>\n",
       "    <tr>\n",
       "      <th>dt</th>\n",
       "      <td>0.599994</td>\n",
       "      <td>0.818244</td>\n",
       "      <td>0.855579</td>\n",
       "      <td>0.944468</td>\n",
       "    </tr>\n",
       "    <tr>\n",
       "      <th>stupid_dt</th>\n",
       "      <td>0.545121</td>\n",
       "      <td>0.844587</td>\n",
       "      <td>0.844587</td>\n",
       "      <td>1.000000</td>\n",
       "    </tr>\n",
       "  </tbody>\n",
       "</table>\n",
       "</div>"
      ],
      "text/plain": [
       "            roc_auc  accuracy  precision    recall\n",
       "dummy      0.497225  0.733035   0.848211  0.833253\n",
       "knn        0.604049  0.844587   0.844587  1.000000\n",
       "log        0.637132  0.841645   0.846197  0.993043\n",
       "bNB        0.549963  0.844587   0.844587  1.000000\n",
       "rf         0.661216  0.844587   0.844587  1.000000\n",
       "svm             NaN  0.841645   0.847217  0.991304\n",
       "dt         0.599994  0.818244   0.855579  0.944468\n",
       "stupid_dt  0.545121  0.844587   0.844587  1.000000"
      ]
     },
     "execution_count": 14,
     "metadata": {},
     "output_type": "execute_result"
    }
   ],
   "source": [
    "results"
   ]
  },
  {
   "cell_type": "code",
   "execution_count": 15,
   "metadata": {},
   "outputs": [],
   "source": [
    "rf_params = info[4]['best_params']"
   ]
  },
  {
   "cell_type": "code",
   "execution_count": 16,
   "metadata": {},
   "outputs": [
    {
     "data": {
      "text/plain": [
       "{'max_depth': 3, 'min_samples_leaf': 22, 'n_estimators': 100}"
      ]
     },
     "execution_count": 16,
     "metadata": {},
     "output_type": "execute_result"
    }
   ],
   "source": [
    "rf_params"
   ]
  },
  {
   "cell_type": "markdown",
   "metadata": {},
   "source": [
    "## Random Forest"
   ]
  },
  {
   "cell_type": "code",
   "execution_count": 21,
   "metadata": {},
   "outputs": [
    {
     "data": {
      "image/png": "[encoded data removed]",
      "text/plain": [
       "<Figure size 480x320 with 2 Axes>"
      ]
     },
     "metadata": {
      "needs_background": "light"
     },
     "output_type": "display_data"
    },
    {
     "data": {
      "image/png": "[encoded data removed]",
      "text/plain": [
       "<Figure size 480x320 with 2 Axes>"
      ]
     },
     "metadata": {
      "needs_background": "light"
     },
     "output_type": "display_data"
    },
    {
     "data": {
      "image/png": "[encoded data removed]",
      "text/plain": [
       "<Figure size 480x320 with 2 Axes>"
      ]
     },
     "metadata": {
      "needs_background": "light"
     },
     "output_type": "display_data"
    },
    {
     "data": {
      "image/png": "[encoded data removed]",
      "text/plain": [
       "<Figure size 480x320 with 2 Axes>"
      ]
     },
     "metadata": {
      "needs_background": "light"
     },
     "output_type": "display_data"
    },
    {
     "data": {
      "image/png": "[encoded data removed]",
      "text/plain": [
       "<Figure size 480x320 with 2 Axes>"
      ]
     },
     "metadata": {
      "needs_background": "light"
     },
     "output_type": "display_data"
    }
   ],
   "source": [
    "scores_rf = evaluation.cross_validate(\n",
    "    RandomForestClassifier,\n",
    "    X_train,\n",
    "    y_train,\n",
    "    fit_params=rf_params,\n",
    "    scoring=metrics,\n",
    "#     standardize=False,\n",
    "#     oversample=True,\n",
    "    show_conf_matrices=True\n",
    ")"
   ]
  },
  {
   "cell_type": "code",
   "execution_count": 20,
   "metadata": {},
   "outputs": [
    {
     "data": {
      "image/png": "[encoded data removed]",
      "text/plain": [
       "<Figure size 480x320 with 2 Axes>"
      ]
     },
     "metadata": {
      "needs_background": "light"
     },
     "output_type": "display_data"
    },
    {
     "data": {
      "image/png": "[encoded data removed]",
      "text/plain": [
       "<Figure size 480x320 with 2 Axes>"
      ]
     },
     "metadata": {
      "needs_background": "light"
     },
     "output_type": "display_data"
    },
    {
     "data": {
      "image/png": "[encoded data removed]",
      "text/plain": [
       "<Figure size 480x320 with 2 Axes>"
      ]
     },
     "metadata": {
      "needs_background": "light"
     },
     "output_type": "display_data"
    },
    {
     "data": {
      "image/png": "[encoded data removed]",
      "text/plain": [
       "<Figure size 480x320 with 2 Axes>"
      ]
     },
     "metadata": {
      "needs_background": "light"
     },
     "output_type": "display_data"
    },
    {
     "data": {
      "image/png": "[encoded data removed]",
      "text/plain": [
       "<Figure size 480x320 with 2 Axes>"
      ]
     },
     "metadata": {
      "needs_background": "light"
     },
     "output_type": "display_data"
    }
   ],
   "source": [
    "scores_rf_os = evaluation.cross_validate(\n",
    "    RandomForestClassifier,\n",
    "    X_train,\n",
    "    y_train,\n",
    "    fit_params=rf_params,\n",
    "    scoring=metrics,\n",
    "#     standardize=False,\n",
    "    oversample=True,\n",
    "    show_conf_matrices=True\n",
    ")"
   ]
  },
  {
   "cell_type": "code",
   "execution_count": 23,
   "metadata": {},
   "outputs": [
    {
     "data": {
      "text/html": [
       "<div>\n",
       "<style scoped>\n",
       "    .dataframe tbody tr th:only-of-type {\n",
       "        vertical-align: middle;\n",
       "    }\n",
       "\n",
       "    .dataframe tbody tr th {\n",
       "        vertical-align: top;\n",
       "    }\n",
       "\n",
       "    .dataframe thead th {\n",
       "        text-align: right;\n",
       "    }\n",
       "</style>\n",
       "<table border=\"1\" class=\"dataframe\">\n",
       "  <thead>\n",
       "    <tr style=\"text-align: right;\">\n",
       "      <th></th>\n",
       "      <th>metric</th>\n",
       "      <th>mean</th>\n",
       "      <th>std</th>\n",
       "      <th>in_sample</th>\n",
       "    </tr>\n",
       "  </thead>\n",
       "  <tbody>\n",
       "    <tr>\n",
       "      <th>0</th>\n",
       "      <td>roc_auc</td>\n",
       "      <td>0.664041</td>\n",
       "      <td>0.051590</td>\n",
       "      <td>0.803356</td>\n",
       "    </tr>\n",
       "    <tr>\n",
       "      <th>1</th>\n",
       "      <td>accuracy</td>\n",
       "      <td>0.690729</td>\n",
       "      <td>0.034350</td>\n",
       "      <td>0.731340</td>\n",
       "    </tr>\n",
       "    <tr>\n",
       "      <th>2</th>\n",
       "      <td>precision</td>\n",
       "      <td>0.893055</td>\n",
       "      <td>0.025805</td>\n",
       "      <td>0.720213</td>\n",
       "    </tr>\n",
       "    <tr>\n",
       "      <th>3</th>\n",
       "      <td>recall</td>\n",
       "      <td>0.720555</td>\n",
       "      <td>0.036443</td>\n",
       "      <td>0.759969</td>\n",
       "    </tr>\n",
       "  </tbody>\n",
       "</table>\n",
       "</div>"
      ],
      "text/plain": [
       "      metric      mean       std  in_sample\n",
       "0    roc_auc  0.664041  0.051590   0.803356\n",
       "1   accuracy  0.690729  0.034350   0.731340\n",
       "2  precision  0.893055  0.025805   0.720213\n",
       "3     recall  0.720555  0.036443   0.759969"
      ]
     },
     "execution_count": 23,
     "metadata": {},
     "output_type": "execute_result"
    }
   ],
   "source": [
    "evaluation.report_single_model_metrics(scores_rf_os, metrics=metrics)"
   ]
  },
  {
   "cell_type": "code",
   "execution_count": 53,
   "metadata": {},
   "outputs": [
    {
     "data": {
      "image/png": "[encoded data removed]",
      "text/plain": [
       "<Figure size 480x320 with 2 Axes>"
      ]
     },
     "metadata": {
      "needs_background": "light"
     },
     "output_type": "display_data"
    },
    {
     "data": {
      "image/png": "[encoded data removed]",
      "text/plain": [
       "<Figure size 480x320 with 2 Axes>"
      ]
     },
     "metadata": {
      "needs_background": "light"
     },
     "output_type": "display_data"
    },
    {
     "data": {
      "image/png": "[encoded data removed]",
      "text/plain": [
       "<Figure size 480x320 with 2 Axes>"
      ]
     },
     "metadata": {
      "needs_background": "light"
     },
     "output_type": "display_data"
    },
    {
     "data": {
      "image/png": "[encoded data removed]",
      "text/plain": [
       "<Figure size 480x320 with 2 Axes>"
      ]
     },
     "metadata": {
      "needs_background": "light"
     },
     "output_type": "display_data"
    },
    {
     "data": {
      "image/png": "[encoded data removed]",
      "text/plain": [
       "<Figure size 480x320 with 2 Axes>"
      ]
     },
     "metadata": {
      "needs_background": "light"
     },
     "output_type": "display_data"
    }
   ],
   "source": [
    "overfit_features = [\n",
    "    'author_ideology',\n",
    "    'author_party',\n",
    "    'author_is_chair',\n",
    "    'author_years_sen',\n",
    "#     'author_total_funding',\n",
    "    'total_sponsors',\n",
    "    'sponsor_chairs',\n",
    "#     'agg_funding_sponsors',\n",
    "    'agg_exp_sponsors',\n",
    "    'total_slips',\n",
    "    'slips_perc_pro',\n",
    "    'bipartisan',\n",
    "    'ideol_range',\n",
    "]\n",
    "\n",
    "scores_rf_os = evaluation.cross_validate(\n",
    "    RandomForestClassifier,\n",
    "    X_train[overfit_features],\n",
    "    y_train,\n",
    "    fit_params={'max_depth': 3, 'min_samples_leaf': 22, 'n_estimators': 200},\n",
    "    scoring=metrics,\n",
    "#     standardize=False,\n",
    "    oversample=True,\n",
    "    show_conf_matrices=True\n",
    ")"
   ]
  },
  {
   "cell_type": "code",
   "execution_count": 54,
   "metadata": {},
   "outputs": [
    {
     "data": {
      "text/html": [
       "<div>\n",
       "<style scoped>\n",
       "    .dataframe tbody tr th:only-of-type {\n",
       "        vertical-align: middle;\n",
       "    }\n",
       "\n",
       "    .dataframe tbody tr th {\n",
       "        vertical-align: top;\n",
       "    }\n",
       "\n",
       "    .dataframe thead th {\n",
       "        text-align: right;\n",
       "    }\n",
       "</style>\n",
       "<table border=\"1\" class=\"dataframe\">\n",
       "  <thead>\n",
       "    <tr style=\"text-align: right;\">\n",
       "      <th></th>\n",
       "      <th>metric</th>\n",
       "      <th>mean</th>\n",
       "      <th>std</th>\n",
       "      <th>in_sample</th>\n",
       "    </tr>\n",
       "  </thead>\n",
       "  <tbody>\n",
       "    <tr>\n",
       "      <th>0</th>\n",
       "      <td>roc_auc</td>\n",
       "      <td>0.642582</td>\n",
       "      <td>0.053216</td>\n",
       "      <td>0.792823</td>\n",
       "    </tr>\n",
       "    <tr>\n",
       "      <th>1</th>\n",
       "      <td>accuracy</td>\n",
       "      <td>0.658440</td>\n",
       "      <td>0.032740</td>\n",
       "      <td>0.709207</td>\n",
       "    </tr>\n",
       "    <tr>\n",
       "      <th>2</th>\n",
       "      <td>precision</td>\n",
       "      <td>0.888906</td>\n",
       "      <td>0.021279</td>\n",
       "      <td>0.705242</td>\n",
       "    </tr>\n",
       "    <tr>\n",
       "      <th>3</th>\n",
       "      <td>recall</td>\n",
       "      <td>0.680600</td>\n",
       "      <td>0.028758</td>\n",
       "      <td>0.719610</td>\n",
       "    </tr>\n",
       "  </tbody>\n",
       "</table>\n",
       "</div>"
      ],
      "text/plain": [
       "      metric      mean       std  in_sample\n",
       "0    roc_auc  0.642582  0.053216   0.792823\n",
       "1   accuracy  0.658440  0.032740   0.709207\n",
       "2  precision  0.888906  0.021279   0.705242\n",
       "3     recall  0.680600  0.028758   0.719610"
      ]
     },
     "execution_count": 54,
     "metadata": {},
     "output_type": "execute_result"
    }
   ],
   "source": [
    "evaluation.report_single_model_metrics(scores_rf_os, metrics=metrics)"
   ]
  },
  {
   "cell_type": "code",
   "execution_count": 55,
   "metadata": {},
   "outputs": [],
   "source": [
    "rf = scores_rf_os['estimators'][0]"
   ]
  },
  {
   "cell_type": "code",
   "execution_count": 56,
   "metadata": {},
   "outputs": [
    {
     "data": {
      "text/plain": [
       "200"
      ]
     },
     "execution_count": 56,
     "metadata": {},
     "output_type": "execute_result"
    }
   ],
   "source": [
    "len(rf.estimators_)"
   ]
  },
  {
   "cell_type": "code",
   "execution_count": 58,
   "metadata": {},
   "outputs": [
    {
     "name": "stdout",
     "output_type": "stream",
     "text": [
      "author_ideology 0.11307644207980083\n",
      "author_party 0.011070389521107615\n",
      "author_is_chair 0.00442853254589938\n",
      "author_years_sen 0.07192653188563063\n",
      "total_sponsors 0.019267722792810596\n",
      "sponsor_chairs 0.021529426762923548\n",
      "agg_exp_sponsors 0.049565954978354816\n",
      "total_slips 0.29509752128458633\n",
      "slips_perc_pro 0.3357725338876882\n",
      "bipartisan 0.004547465567834019\n",
      "ideol_range 0.07371747869336397\n"
     ]
    }
   ],
   "source": [
    "for n, f in zip(overfit_features, rf.feature_importances_):\n",
    "    print(n, f)"
   ]
  },
  {
   "cell_type": "markdown",
   "metadata": {},
   "source": [
    "## Tree Exploration"
   ]
  },
  {
   "cell_type": "code",
   "execution_count": 64,
   "metadata": {},
   "outputs": [
    {
     "name": "stdout",
     "output_type": "stream",
     "text": [
      "|--- total_slips <= 5.50\n",
      "|   |--- author_party <= 1.50\n",
      "|   |   |--- agg_exp_sponsors <= 15.50\n",
      "|   |   |   |--- class: 1.0\n",
      "|   |   |--- agg_exp_sponsors >  15.50\n",
      "|   |   |   |--- class: 1.0\n",
      "|   |--- author_party >  1.50\n",
      "|   |   |--- slips_perc_pro <= 0.55\n",
      "|   |   |   |--- class: 0.0\n",
      "|   |   |--- slips_perc_pro >  0.55\n",
      "|   |   |   |--- class: 1.0\n",
      "|--- total_slips >  5.50\n",
      "|   |--- author_years_sen <= 13.50\n",
      "|   |   |--- ideol_range <= 0.29\n",
      "|   |   |   |--- class: 0.0\n",
      "|   |   |--- ideol_range >  0.29\n",
      "|   |   |   |--- class: 1.0\n",
      "|   |--- author_years_sen >  13.50\n",
      "|   |   |--- total_slips <= 129.00\n",
      "|   |   |   |--- class: 0.0\n",
      "|   |   |--- total_slips >  129.00\n",
      "|   |   |   |--- class: 0.0\n",
      "\n"
     ]
    }
   ],
   "source": [
    "print(export_text(rf.estimators_[0], feature_names=overfit_features))"
   ]
  },
  {
   "cell_type": "code",
   "execution_count": 37,
   "metadata": {},
   "outputs": [],
   "source": [
    "# everything fails that doesn't have unanimous community support and is from a non-crazy conservative\n",
    "# arbitrary funding cut-off (3.1 mil)\n",
    "# another arbitrary funding cut-off (.5 mil), also (2.3 mil)"
   ]
  },
  {
   "cell_type": "code",
   "execution_count": null,
   "metadata": {},
   "outputs": [],
   "source": [
    "# ideas\n",
    "    # maybe bucket funding levels\n",
    "    # unanimous flag\n",
    "    # diff from madigan np_score (bust)\n",
    "    # vulnerable dems do better than secure dems / vulnerable reps do worse than secure reps\n",
    "        # funding as proxy for vulnerable/competative (funding good for dems, bad for republicans)\n",
    "        # years as proxy for vulnerable (youth good for dems, youth bad for reps)\n",
    "    # split on party and do eda or each feature (worth doing)\n",
    "        # model dem and rep separately\n",
    "    # do models for author quality, general senate support, community support\n",
    "        # add that into the data -> run it again\n",
    "    "
   ]
  },
  {
   "cell_type": "code",
   "execution_count": null,
   "metadata": {},
   "outputs": [],
   "source": []
  },
  {
   "cell_type": "code",
   "execution_count": null,
   "metadata": {},
   "outputs": [],
   "source": []
  },
  {
   "cell_type": "code",
   "execution_count": null,
   "metadata": {},
   "outputs": [],
   "source": []
  },
  {
   "cell_type": "code",
   "execution_count": null,
   "metadata": {},
   "outputs": [],
   "source": []
  },
  {
   "cell_type": "code",
   "execution_count": null,
   "metadata": {},
   "outputs": [],
   "source": []
  },
  {
   "cell_type": "code",
   "execution_count": null,
   "metadata": {},
   "outputs": [],
   "source": []
  },
  {
   "cell_type": "code",
   "execution_count": null,
   "metadata": {},
   "outputs": [],
   "source": []
  },
  {
   "cell_type": "code",
   "execution_count": null,
   "metadata": {},
   "outputs": [],
   "source": []
  },
  {
   "cell_type": "code",
   "execution_count": null,
   "metadata": {},
   "outputs": [],
   "source": []
  },
  {
   "cell_type": "code",
   "execution_count": null,
   "metadata": {},
   "outputs": [],
   "source": []
  },
  {
   "cell_type": "code",
   "execution_count": null,
   "metadata": {},
   "outputs": [],
   "source": []
  },
  {
   "cell_type": "code",
   "execution_count": null,
   "metadata": {},
   "outputs": [],
   "source": []
  },
  {
   "cell_type": "code",
   "execution_count": null,
   "metadata": {},
   "outputs": [],
   "source": []
  },
  {
   "cell_type": "code",
   "execution_count": null,
   "metadata": {},
   "outputs": [],
   "source": []
  },
  {
   "cell_type": "code",
   "execution_count": null,
   "metadata": {},
   "outputs": [],
   "source": []
  },
  {
   "cell_type": "code",
   "execution_count": null,
   "metadata": {},
   "outputs": [],
   "source": [
    "# Predicting like .27 for a whole bunch of them\n",
    "    # Threshold doesn't tune anything until going from 0.3 -> 0.2\n",
    "    # Basically switch from not-ovesampled (6% recall, 90% precision) to\n",
    "        # oversampled (54% accuracy, 24% precision, 80% recall)"
   ]
  }
 ],
 "metadata": {
  "kernelspec": {
   "display_name": "Python [conda env:metis] *",
   "language": "python",
   "name": "conda-env-metis-py"
  },
  "language_info": {
   "codemirror_mode": {
    "name": "ipython",
    "version": 3
   },
   "file_extension": ".py",
   "mimetype": "text/x-python",
   "name": "python",
   "nbconvert_exporter": "python",
   "pygments_lexer": "ipython3",
   "version": "3.7.4"
  }
 },
 "nbformat": 4,
 "nbformat_minor": 2
}
