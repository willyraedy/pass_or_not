{
 "cells": [
  {
   "cell_type": "markdown",
   "metadata": {},
   "source": [
    "Plan\n",
    "\n",
    "- Make a pipeline to get the data in to a sql database\n",
    "- Subset to just the bills introduced in the senate\n",
    "    - Actions up to the first third reading\n",
    "- Create the following features\n",
    "    - Madigan or not\n",
    "    - chief sponsor\n",
    "    - number of co sponsors\n",
    "    - committee it was in\n",
    "    - perhaps how long something took (intro to second reading)\n",
    "    - first word in description\n",
    "    - "
   ]
  },
  {
   "cell_type": "markdown",
   "metadata": {},
   "source": [
    "# Put Data In DB"
   ]
  },
  {
   "cell_type": "code",
   "execution_count": 1,
   "metadata": {},
   "outputs": [],
   "source": [
    "import pandas as pd\n",
    "import seaborn as sns\n",
    "import numpy as np\n",
    "from fuzzywuzzy import fuzz\n",
    "from sklearn.preprocessing import StandardScaler\n",
    "import re\n",
    "from bs4 import BeautifulSoup\n",
    "import requests\n",
    "import time\n",
    "import matplotlib.pyplot as plt\n",
    "import requests\n",
    "import pickle\n",
    "import psycopg2 as pg\n",
    "from sqlalchemy import create_engine\n",
    "\n",
    "pd.set_option('display.max_rows', 235)"
   ]
  },
  {
   "cell_type": "code",
   "execution_count": 2,
   "metadata": {},
   "outputs": [],
   "source": [
    "bills = pd.read_csv('./data/IL/2017-2018_100th_General_Assembly/csv/bills.csv')"
   ]
  },
  {
   "cell_type": "code",
   "execution_count": 3,
   "metadata": {},
   "outputs": [],
   "source": [
    "bills = bills.rename(columns={ 'bill_id': 'session_id', 'session_id': 'bill_number', 'bill_number': 'bill_id' })"
   ]
  },
  {
   "cell_type": "code",
   "execution_count": 4,
   "metadata": {},
   "outputs": [],
   "source": [
    "bills.to_csv('./data/IL/2017-2018_100th_General_Assembly/csv/bills_renamed.csv')"
   ]
  },
  {
   "cell_type": "code",
   "execution_count": 3,
   "metadata": {},
   "outputs": [],
   "source": [
    "local_engine = create_engine('postgresql://localhost:5432/ill_leg', echo=False)\n",
    "# local"
   ]
  },
  {
   "cell_type": "code",
   "execution_count": 4,
   "metadata": {},
   "outputs": [],
   "source": [
    "# connection_args = {\n",
    "#     'host': '13.58.254.0', # You'll have to update this to your IP\n",
    "#     'user': 'ubuntu',    # username\n",
    "#     'dbname': 'ubuntu',   # DB that we are connecting to\n",
    "#     'port': 5432         # port we opened on AWS\n",
    "# }\n",
    "\n",
    "# engine = pg.connect(**connection_args)\n",
    "\n",
    "aws_engine = create_engine('postgresql://ubuntu@18.188.253.160:5432/ubuntu', echo=False)\n",
    "# aws"
   ]
  },
  {
   "cell_type": "code",
   "execution_count": null,
   "metadata": {},
   "outputs": [],
   "source": [
    "# bills.to_sql('bill', con=engine)"
   ]
  },
  {
   "cell_type": "code",
   "execution_count": null,
   "metadata": {},
   "outputs": [],
   "source": [
    "history = pd.read_csv('./data/IL/2017-2018_100th_General_Assembly/csv/history.csv').to_sql('history', con=engine)\n",
    "# people = pd.read_csv('./data/IL/2017-2018_100th_General_Assembly/csv/people.csv')\n",
    "# roll_calls = pd.read_csv('./data/IL/2017-2018_100th_General_Assembly/csv/rollcalls.csv')\n",
    "# sponsors = pd.read_csv('./data/IL/2017-2018_100th_General_Assembly/csv/sponsors.csv')\n",
    "# votes = pd.read_csv('./data/IL/2017-2018_100th_General_Assembly/csv/votes.csv')"
   ]
  },
  {
   "cell_type": "code",
   "execution_count": null,
   "metadata": {},
   "outputs": [],
   "source": [
    "# for name, df in zip(['history', 'people', 'roll_call', 'sponsor', 'vote'],[history, people, roll_calls, sponsors, votes]):\n",
    "#     df.to_sql(name, con=engine)"
   ]
  },
  {
   "cell_type": "markdown",
   "metadata": {},
   "source": [
    "# Fetch Data"
   ]
  },
  {
   "cell_type": "code",
   "execution_count": null,
   "metadata": {},
   "outputs": [],
   "source": [
    "# Limit to just bills from this year that started in the Senate and got to a second reading\n",
    "query_bills = \"\"\"\n",
    "    with started_senate as (\n",
    "        select b.bill_id from bill b\n",
    "        join history h on h.bill_id = b.bill_id\n",
    "        where h.sequence = 1 and h.chamber = 'Senate'\n",
    "    ), had_sec_read as (\n",
    "        select b.bill_id from bill b\n",
    "        join history h on h.bill_id = b.bill_id\n",
    "        where h.action like 'Second Reading'\n",
    "    )\n",
    "    select * from bill\n",
    "    where bill_id in (\n",
    "        select * from started_senate\n",
    "    ) and bill_id in (\n",
    "        select * from had_sec_read\n",
    "    );\n",
    "\"\"\"\n",
    "\n",
    "bills = pd.read_sql(query_bills, con=engine)"
   ]
  },
  {
   "cell_type": "code",
   "execution_count": null,
   "metadata": {},
   "outputs": [],
   "source": [
    "bills = bills.drop(columns=['index'])"
   ]
  },
  {
   "cell_type": "markdown",
   "metadata": {},
   "source": [
    "# Remove Trivial Resolutions"
   ]
  },
  {
   "cell_type": "code",
   "execution_count": null,
   "metadata": {},
   "outputs": [],
   "source": [
    "bills = bills[~bills.last_action.str.contains('Resolution Adopted')]"
   ]
  },
  {
   "cell_type": "code",
   "execution_count": null,
   "metadata": {},
   "outputs": [],
   "source": [
    "bills.status_desc.value_counts()"
   ]
  },
  {
   "cell_type": "code",
   "execution_count": null,
   "metadata": {},
   "outputs": [],
   "source": [
    "526 / (526 + 1194)\n",
    "# Passing percentage of non-resolution bills that get a second reading"
   ]
  },
  {
   "cell_type": "markdown",
   "metadata": {},
   "source": [
    "# Explore Failures"
   ]
  },
  {
   "cell_type": "code",
   "execution_count": null,
   "metadata": {},
   "outputs": [],
   "source": [
    "bills[bills.status_desc == 'Failed'].last_action.value_counts()\n",
    "# evertything dies or is vetoed by gov (for the most part)\n",
    "# only 8 things lost a senate vote (and one of those passed)\n",
    "# vetoed is also a status (seems inconsistent - perhaps vetoed mean line item veto'd?)\n",
    "# most of the hanging \"introduced\" bills had failed votes (4 introduced, 2 engrossed)"
   ]
  },
  {
   "cell_type": "code",
   "execution_count": null,
   "metadata": {},
   "outputs": [],
   "source": [
    "bills.status_desc.value_counts()"
   ]
  },
  {
   "cell_type": "code",
   "execution_count": 381,
   "metadata": {},
   "outputs": [],
   "source": [
    "def clean_bills(df):\n",
    "    df = df[~df.last_action.str.contains('Resolution Adopted')].drop_duplicates(subset=['bill_id'])\n",
    "    df.third_reading = df.third_reading.map(lambda x: 1 if x else 0)\n",
    "    df.sponsor_count = df.sponsor_count.fillna(0)\n",
    "    return df"
   ]
  },
  {
   "cell_type": "markdown",
   "metadata": {},
   "source": [
    "# Get Ideology Data"
   ]
  },
  {
   "cell_type": "code",
   "execution_count": 13,
   "metadata": {},
   "outputs": [],
   "source": [
    "ideology = pd.read_stata('./data/shor+mccarty+1993-2016+individual+legislator+data+May+2018+release+(Updated+July+2018).dta')"
   ]
  },
  {
   "cell_type": "code",
   "execution_count": 17,
   "metadata": {},
   "outputs": [],
   "source": [
    "sen_ideol = ideology[[\n",
    "    'name',\n",
    "    'party',\n",
    "    'st',\n",
    "    'st_id',\n",
    "    'np_score',\n",
    "    'senate2015',\n",
    "    'senate2016',\n",
    "    'sdistrict2015',\n",
    "    'sdistrict2016'\n",
    "]]"
   ]
  },
  {
   "cell_type": "code",
   "execution_count": 22,
   "metadata": {},
   "outputs": [],
   "source": [
    "ill_sen_ideol = sen_ideol[sen_ideol.st == 'IL'].dropna(subset=['senate2015', 'senate2016', 'sdistrict2015', 'sdistrict2016'], how='all')"
   ]
  },
  {
   "cell_type": "code",
   "execution_count": 37,
   "metadata": {},
   "outputs": [],
   "source": [
    "ill_sen_ideol = ill_sen_ideol.replace(to_replace='', value=np.nan)"
   ]
  },
  {
   "cell_type": "code",
   "execution_count": 40,
   "metadata": {},
   "outputs": [],
   "source": [
    "query_senators = \"\"\"\n",
    "    select * from people p\n",
    "    where role = 'Sen'\n",
    "\"\"\"\n",
    "\n",
    "people = pd.read_sql(query_senators, con=engine)"
   ]
  },
  {
   "cell_type": "code",
   "execution_count": 55,
   "metadata": {},
   "outputs": [],
   "source": [
    "ill_sen_ideol['first_last'] = ill_sen_ideol.name.map(lambda x: x.split(', ')[1] + ' ' + x.split(', ')[0])"
   ]
  },
  {
   "cell_type": "code",
   "execution_count": 108,
   "metadata": {},
   "outputs": [],
   "source": [
    "def find_best_sen_match(first_last):\n",
    "    sim_scores = people.name.map(lambda x: fuzz.token_set_ratio(x, first_last))\n",
    "    if sim_scores.max() < 80:\n",
    "        return np.nan\n",
    "    return people.loc[sim_scores.idxmax(), 'people_id']"
   ]
  },
  {
   "cell_type": "code",
   "execution_count": 109,
   "metadata": {},
   "outputs": [],
   "source": [
    "ill_sen_ideol['people_id'] = ill_sen_ideol.first_last.map(find_best_sen_match)"
   ]
  },
  {
   "cell_type": "code",
   "execution_count": 118,
   "metadata": {},
   "outputs": [],
   "source": [
    "ill_sen_ideol.people_id = ill_sen_ideol.people_id.astype('Int32')"
   ]
  },
  {
   "cell_type": "code",
   "execution_count": 119,
   "metadata": {},
   "outputs": [],
   "source": [
    "ill_sen_ideol.loc[ill_sen_ideol.first_last == 'Patricia Van Pelt', 'people_id'] = 14324\n",
    "ill_sen_ideol.loc[ill_sen_ideol.first_last == 'William Jr. Brady', 'people_id'] = 1052"
   ]
  },
  {
   "cell_type": "code",
   "execution_count": null,
   "metadata": {},
   "outputs": [],
   "source": [
    "# ill_sen_ideol.to_sql('ideology', con=engine)"
   ]
  },
  {
   "cell_type": "markdown",
   "metadata": {},
   "source": [
    "# Number of Co-sponsors at Second Reading"
   ]
  },
  {
   "cell_type": "code",
   "execution_count": 382,
   "metadata": {},
   "outputs": [],
   "source": [
    "query_sponsors_at_second = \"\"\"\n",
    "    with started_senate as (\n",
    "        select b.bill_id from bill b\n",
    "        join history h on h.bill_id = b.bill_id\n",
    "        where h.sequence = 1 and h.chamber = 'Senate'\n",
    "    ), had_sec_read as (\n",
    "        select b.bill_id from bill b\n",
    "        join history h on h.bill_id = b.bill_id\n",
    "        where h.action like 'Second Reading'\n",
    "    ), num_sponsors_at_sec as (\n",
    "    \tselect b.bill_id, count(h.action) as sponsor_count\n",
    "    \tfrom bill b\n",
    "    \tjoin history hs on hs.bill_id = b.bill_id and hs.action ~* '^second reading'\n",
    "    \tjoin history h on h.bill_id = b.bill_id\n",
    "    \twhere h.action ~* 'sponsor' and h.action ~* 'added' and h.sequence < hs.sequence\n",
    "    \tgroup by b.bill_id\n",
    "    )\n",
    "    select b.*, n.sponsor_count, case when h.index > 0 then true else false end as third_reading from bill b\n",
    "    left join num_sponsors_at_sec n on n.bill_id = b.bill_id\n",
    "    left join history h on h.bill_id = b.bill_id and h.action ~* 'third reading' and (h.action ~* 'passed' or h.action ~* 'lost')\n",
    "    where b.bill_id in (\n",
    "        select * from started_senate\n",
    "    ) and b.bill_id in (\n",
    "        select * from had_sec_read\n",
    "    );\n",
    "\"\"\"\n",
    "\n",
    "bill_spons_sec = pd.read_sql(query_sponsors_at_second, con=engine)"
   ]
  },
  {
   "cell_type": "code",
   "execution_count": 383,
   "metadata": {},
   "outputs": [],
   "source": [
    "bill_spons_sec = clean_bills(bill_spons_sec)"
   ]
  },
  {
   "cell_type": "code",
   "execution_count": 535,
   "metadata": {},
   "outputs": [
    {
     "data": {
      "text/plain": [
       "<seaborn.axisgrid.PairGrid at 0x15516b2d90>"
      ]
     },
     "execution_count": 535,
     "metadata": {},
     "output_type": "execute_result"
    },
    {
     "data": {
      "image/png": "[encoded data removed]",
      "text/plain": [
       "<Figure size 435x360 with 6 Axes>"
      ]
     },
     "metadata": {
      "needs_background": "light"
     },
     "output_type": "display_data"
    }
   ],
   "source": [
    "sns.pairplot(\n",
    "    bill_spons_sec[['third_reading', 'sponsor_count']],\n",
    "    plot_kws={ 'alpha': 0.2},\n",
    "    hue='third_reading',\n",
    "    diag_kind='hist',\n",
    "    diag_kws={ 'alpha': 0.4 }\n",
    ")"
   ]
  },
  {
   "cell_type": "code",
   "execution_count": 168,
   "metadata": {},
   "outputs": [
    {
     "data": {
      "text/plain": [
       "0    793\n",
       "1    328\n",
       "Name: third_reading_id, dtype: int64"
      ]
     },
     "execution_count": 168,
     "metadata": {},
     "output_type": "execute_result"
    }
   ],
   "source": [
    "bill_spons_sec[bill_spons_sec.sponsor_count == 0].third_reading_id.value_counts()"
   ]
  },
  {
   "cell_type": "code",
   "execution_count": 169,
   "metadata": {},
   "outputs": [
    {
     "data": {
      "text/plain": [
       "6538.0"
      ]
     },
     "execution_count": 169,
     "metadata": {},
     "output_type": "execute_result"
    }
   ],
   "source": [
    "bill_spons_sec.sponsor_count.sum()"
   ]
  },
  {
   "cell_type": "markdown",
   "metadata": {},
   "source": [
    "# Ideology of Author"
   ]
  },
  {
   "cell_type": "code",
   "execution_count": 147,
   "metadata": {},
   "outputs": [],
   "source": [
    "query_bill_author = \"\"\"\n",
    "    select b.bill_id, a.people_id, i.*, b.third_reading\n",
    "    from sen_bill b\n",
    "    left join author a on a.bill_id = b.bill_id\n",
    "    left join ideology i on a.people_id = i.people_id\n",
    "\"\"\"\n",
    "\n",
    "author = pd.read_sql(query_bill_author, con=engine)\n",
    "# 47 second query -> improve"
   ]
  },
  {
   "cell_type": "code",
   "execution_count": 164,
   "metadata": {},
   "outputs": [],
   "source": [
    "std = StandardScaler()\n",
    "author['scaled_np_score'] = np.abs(author.np_score - author.np_score.mean())"
   ]
  },
  {
   "cell_type": "code",
   "execution_count": 165,
   "metadata": {},
   "outputs": [
    {
     "data": {
      "text/plain": [
       "count    1468.000000\n",
       "mean        0.520628\n",
       "std         0.262165\n",
       "min         0.006412\n",
       "25%         0.458412\n",
       "50%         0.491412\n",
       "75%         0.695588\n",
       "max         1.241588\n",
       "Name: scaled_np_score, dtype: float64"
      ]
     },
     "execution_count": 165,
     "metadata": {},
     "output_type": "execute_result"
    }
   ],
   "source": [
    "author.scaled_np_score.describe()"
   ]
  },
  {
   "cell_type": "code",
   "execution_count": 533,
   "metadata": {},
   "outputs": [
    {
     "name": "stderr",
     "output_type": "stream",
     "text": [
      "/Users/willyraedy/anaconda3/envs/metis/lib/python3.7/site-packages/statsmodels/nonparametric/kde.py:447: RuntimeWarning: invalid value encountered in greater\n",
      "  X = X[np.logical_and(X > clip[0], X < clip[1])] # won't work for two columns.\n",
      "/Users/willyraedy/anaconda3/envs/metis/lib/python3.7/site-packages/statsmodels/nonparametric/kde.py:447: RuntimeWarning: invalid value encountered in less\n",
      "  X = X[np.logical_and(X > clip[0], X < clip[1])] # won't work for two columns.\n"
     ]
    },
    {
     "data": {
      "text/plain": [
       "<seaborn.axisgrid.PairGrid at 0x1550e79cd0>"
      ]
     },
     "execution_count": 533,
     "metadata": {},
     "output_type": "execute_result"
    },
    {
     "data": {
      "image/png": "[encoded data removed]",
      "text/plain": [
       "<Figure size 435x360 with 6 Axes>"
      ]
     },
     "metadata": {
      "needs_background": "light"
     },
     "output_type": "display_data"
    }
   ],
   "source": [
    "sns.pairplot(author[['third_reading', 'scaled_np_score']], plot_kws={ 'alpha': 0.2}, hue='third_reading')"
   ]
  },
  {
   "cell_type": "code",
   "execution_count": 386,
   "metadata": {},
   "outputs": [
    {
     "name": "stderr",
     "output_type": "stream",
     "text": [
      "/Users/willyraedy/anaconda3/envs/metis/lib/python3.7/site-packages/numpy/lib/histograms.py:839: RuntimeWarning: invalid value encountered in greater_equal\n",
      "  keep = (tmp_a >= first_edge)\n",
      "/Users/willyraedy/anaconda3/envs/metis/lib/python3.7/site-packages/numpy/lib/histograms.py:840: RuntimeWarning: invalid value encountered in less_equal\n",
      "  keep &= (tmp_a <= last_edge)\n"
     ]
    },
    {
     "data": {
      "text/plain": [
       "(array([178.,  44., 123., 568.,  14., 331.,  84.,  58.,  55.,  13.]),\n",
       " array([0.00641213, 0.1299297 , 0.25344728, 0.37696485, 0.50048243,\n",
       "        0.624     , 0.74751757, 0.87103515, 0.99455272, 1.1180703 ,\n",
       "        1.24158787]),\n",
       " <a list of 10 Patch objects>)"
      ]
     },
     "execution_count": 386,
     "metadata": {},
     "output_type": "execute_result"
    },
    {
     "data": {
      "image/png": "[encoded data removed]",
      "text/plain": [
       "<Figure size 432x288 with 1 Axes>"
      ]
     },
     "metadata": {
      "needs_background": "light"
     },
     "output_type": "display_data"
    }
   ],
   "source": [
    "plt.hist(author['scaled_np_score'])"
   ]
  },
  {
   "cell_type": "code",
   "execution_count": 387,
   "metadata": {},
   "outputs": [
    {
     "data": {
      "text/plain": [
       "<seaborn.axisgrid.PairGrid at 0x1540783dd0>"
      ]
     },
     "execution_count": 387,
     "metadata": {},
     "output_type": "execute_result"
    },
    {
     "data": {
      "image/png": "[encoded data removed]",
      "text/plain": [
       "<Figure size 435x360 with 6 Axes>"
      ]
     },
     "metadata": {
      "needs_background": "light"
     },
     "output_type": "display_data"
    }
   ],
   "source": [
    "sns.pairplot(author[['third_reading', 'np_score']], plot_kws={ 'alpha': 0.2}, hue='third_reading')"
   ]
  },
  {
   "cell_type": "markdown",
   "metadata": {},
   "source": [
    "# Ideology Range of Sponsors at 2nd Reading"
   ]
  },
  {
   "cell_type": "code",
   "execution_count": 173,
   "metadata": {},
   "outputs": [],
   "source": [
    "query_range = \"\"\"\n",
    "select b.bill_id, min(i.np_score) as min_score, max(i.np_score) as max_score, b.third_reading\n",
    "from sen_bill b\n",
    "left join sponsor_at_second s on b.bill_id = s.bill_id\n",
    "left join ideology i on i.people_id = s.people_id\n",
    "group by b.bill_id, b.third_reading\n",
    "\"\"\"\n",
    "\n",
    "ideol_range = pd.read_sql(query_range, con=engine)"
   ]
  },
  {
   "cell_type": "code",
   "execution_count": 174,
   "metadata": {},
   "outputs": [],
   "source": [
    "ideol_range['ideol_range'] = np.abs(ideol_range.max_score - ideol_range.min_score)\n",
    "ideol_range.ideol_range = ideol_range.ideol_range.fillna(0)"
   ]
  },
  {
   "cell_type": "code",
   "execution_count": 175,
   "metadata": {},
   "outputs": [
    {
     "data": {
      "text/html": [
       "<div>\n",
       "<style scoped>\n",
       "    .dataframe tbody tr th:only-of-type {\n",
       "        vertical-align: middle;\n",
       "    }\n",
       "\n",
       "    .dataframe tbody tr th {\n",
       "        vertical-align: top;\n",
       "    }\n",
       "\n",
       "    .dataframe thead th {\n",
       "        text-align: right;\n",
       "    }\n",
       "</style>\n",
       "<table border=\"1\" class=\"dataframe\">\n",
       "  <thead>\n",
       "    <tr style=\"text-align: right;\">\n",
       "      <th></th>\n",
       "      <th>bill_id</th>\n",
       "      <th>min_score</th>\n",
       "      <th>max_score</th>\n",
       "      <th>third_reading</th>\n",
       "      <th>ideol_range</th>\n",
       "    </tr>\n",
       "  </thead>\n",
       "  <tbody>\n",
       "    <tr>\n",
       "      <th>0</th>\n",
       "      <td>1087131</td>\n",
       "      <td>NaN</td>\n",
       "      <td>NaN</td>\n",
       "      <td>1</td>\n",
       "      <td>0.000</td>\n",
       "    </tr>\n",
       "    <tr>\n",
       "      <th>1</th>\n",
       "      <td>1087344</td>\n",
       "      <td>NaN</td>\n",
       "      <td>NaN</td>\n",
       "      <td>0</td>\n",
       "      <td>0.000</td>\n",
       "    </tr>\n",
       "    <tr>\n",
       "      <th>2</th>\n",
       "      <td>1074782</td>\n",
       "      <td>0.431</td>\n",
       "      <td>0.655</td>\n",
       "      <td>1</td>\n",
       "      <td>0.224</td>\n",
       "    </tr>\n",
       "    <tr>\n",
       "      <th>3</th>\n",
       "      <td>1089962</td>\n",
       "      <td>-1.241</td>\n",
       "      <td>-0.436</td>\n",
       "      <td>0</td>\n",
       "      <td>0.805</td>\n",
       "    </tr>\n",
       "    <tr>\n",
       "      <th>4</th>\n",
       "      <td>1084143</td>\n",
       "      <td>NaN</td>\n",
       "      <td>NaN</td>\n",
       "      <td>1</td>\n",
       "      <td>0.000</td>\n",
       "    </tr>\n",
       "  </tbody>\n",
       "</table>\n",
       "</div>"
      ],
      "text/plain": [
       "   bill_id  min_score  max_score  third_reading  ideol_range\n",
       "0  1087131        NaN        NaN              1        0.000\n",
       "1  1087344        NaN        NaN              0        0.000\n",
       "2  1074782      0.431      0.655              1        0.224\n",
       "3  1089962     -1.241     -0.436              0        0.805\n",
       "4  1084143        NaN        NaN              1        0.000"
      ]
     },
     "execution_count": 175,
     "metadata": {},
     "output_type": "execute_result"
    }
   ],
   "source": [
    "ideol_range.head()"
   ]
  },
  {
   "cell_type": "code",
   "execution_count": 531,
   "metadata": {},
   "outputs": [
    {
     "data": {
      "text/plain": [
       "<seaborn.axisgrid.PairGrid at 0x154bce6a90>"
      ]
     },
     "execution_count": 531,
     "metadata": {},
     "output_type": "execute_result"
    },
    {
     "data": {
      "image/png": "[encoded data removed]",
      "text/plain": [
       "<Figure size 435x360 with 6 Axes>"
      ]
     },
     "metadata": {
      "needs_background": "light"
     },
     "output_type": "display_data"
    }
   ],
   "source": [
    "sns.pairplot(\n",
    "    ideol_range[['third_reading', 'ideol_range']],\n",
    "    plot_kws={ 'alpha': 0.2},\n",
    "    hue='third_reading',\n",
    "    diag_kind='hist',\n",
    "    diag_kws={ 'alpha': 0.4 }\n",
    ")       \n"
   ]
  },
  {
   "cell_type": "markdown",
   "metadata": {},
   "source": [
    "# Get Hearing Data"
   ]
  },
  {
   "cell_type": "code",
   "execution_count": 362,
   "metadata": {},
   "outputs": [],
   "source": [
    "def scrape_slips(url):\n",
    "    dfs = pd.read_html(url, attrs={ 'width': '100%', 'cellpadding': '3'}, header=0)\n",
    "    hearing = dfs[0]\n",
    "    if len(hearing) == 1:\n",
    "        return pd.DataFrame(columns=['name', 'firm_business_or_agency', 'representing'])\n",
    "    hearing['date'] = hearing.Name.map(lambda x: x if 'Hearing Date and Time' in x else np.nan)\n",
    "    hearing.date = hearing.date.fillna(method='ffill')\n",
    "    hearing = hearing.loc[~hearing.Name.str.contains('Hearing Date and Time')]\n",
    "    hearing['bill_number'] = 'SB-0003'\n",
    "    hearing.date = hearing.date.map(lambda x: pd.to_datetime(re.compile('\\d{1,2}\\/\\d{1,2}\\/\\d{4}').search(x)[0]))\n",
    "    hearing.columns = [x.lower().replace(' ', '_').replace(',', '') for x in hearing.columns]\n",
    "    return hearing"
   ]
  },
  {
   "cell_type": "code",
   "execution_count": 363,
   "metadata": {},
   "outputs": [],
   "source": [
    "def scrape_all_positions(url):\n",
    "    frames = []\n",
    "    for pos in ['PROP', 'OPP', 'NOPOS']:\n",
    "        df = scrape_slips(url + '&WSType=' + pos)\n",
    "        df['position'] = pos\n",
    "        frames.append(df)\n",
    "    return pd.concat(frames)"
   ]
  },
  {
   "cell_type": "code",
   "execution_count": 364,
   "metadata": {},
   "outputs": [],
   "source": [
    "def scrape_totals(url):\n",
    "    dfs = pd.read_html(url, attrs={ 'width': '600', 'bordercolor': 'white'})\n",
    "    hearing_totals = dfs[0]\n",
    "    col_names = ['proponents', 'opponents', 'no_position']\n",
    "    hearing_totals.columns = col_names + ['na']\n",
    "    hearing_totals = hearing_totals.dropna(how='all')[col_names]\n",
    "    for col in ['proponents', 'opponents', 'no_position']:\n",
    "        hearing_totals[col] = hearing_totals[col].map(lambda x: x.split(': ')[1]).astype('int')\n",
    "    return hearing_totals"
   ]
  },
  {
   "cell_type": "code",
   "execution_count": 365,
   "metadata": {},
   "outputs": [],
   "source": [
    "def scrape_100():\n",
    "    all_sen_bills_url = 'http://www.ilga.gov/legislation/grplist.asp?num1=1&num2=3649&DocTypeID=SB&GA=100&SessionId=91'\n",
    "    res = requests.get(all_sen_bills_url)\n",
    "    bs = BeautifulSoup(res.text)\n",
    "    hearing_frames = []\n",
    "    witness_slip_frames = []\n",
    "    for a in bs.find('ul').find_all('a'):\n",
    "        time.sleep(0.2)\n",
    "        hearing_url = 'http://www.ilga.gov{url}'.format(url = a.get('href')).replace('BillStatus', 'witnessslip')\n",
    "        bill_number = re.compile('SB\\d{4}').search(a.text)[0]\n",
    "\n",
    "        if int(bill_number.replace('SB', '')) % 100 == 0:\n",
    "            print(bill_number)\n",
    "        \n",
    "        new_hearing = scrape_totals(hearing_url)\n",
    "        new_hearing['bill_number'] = bill_number\n",
    "        hearing_frames.append(new_hearing)\n",
    "        \n",
    "        new_witness = scrape_all_positions(hearing_url)\n",
    "        new_witness['bill_number'] = bill_number\n",
    "        witness_slip_frames.append(new_witness)\n",
    "        \n",
    "    return pd.concat(hearing_frames), pd.concat(witness_slip_frames)"
   ]
  },
  {
   "cell_type": "code",
   "execution_count": null,
   "metadata": {},
   "outputs": [],
   "source": [
    "hearing, slips = scrape_100()"
   ]
  },
  {
   "cell_type": "code",
   "execution_count": 359,
   "metadata": {},
   "outputs": [],
   "source": [
    "hearing.to_sql('hearing', con=engine)"
   ]
  },
  {
   "cell_type": "code",
   "execution_count": 370,
   "metadata": {},
   "outputs": [],
   "source": [
    "slips.to_sql('witness_slip', con=engine)"
   ]
  },
  {
   "cell_type": "code",
   "execution_count": 388,
   "metadata": {},
   "outputs": [
    {
     "data": {
      "text/html": [
       "<div>\n",
       "<style scoped>\n",
       "    .dataframe tbody tr th:only-of-type {\n",
       "        vertical-align: middle;\n",
       "    }\n",
       "\n",
       "    .dataframe tbody tr th {\n",
       "        vertical-align: top;\n",
       "    }\n",
       "\n",
       "    .dataframe thead th {\n",
       "        text-align: right;\n",
       "    }\n",
       "</style>\n",
       "<table border=\"1\" class=\"dataframe\">\n",
       "  <thead>\n",
       "    <tr style=\"text-align: right;\">\n",
       "      <th></th>\n",
       "      <th>proponents</th>\n",
       "      <th>opponents</th>\n",
       "      <th>no_position</th>\n",
       "    </tr>\n",
       "  </thead>\n",
       "  <tbody>\n",
       "    <tr>\n",
       "      <th>count</th>\n",
       "      <td>3649.000000</td>\n",
       "      <td>3649.000000</td>\n",
       "      <td>3649.000000</td>\n",
       "    </tr>\n",
       "    <tr>\n",
       "      <th>mean</th>\n",
       "      <td>23.103590</td>\n",
       "      <td>20.755824</td>\n",
       "      <td>0.281995</td>\n",
       "    </tr>\n",
       "    <tr>\n",
       "      <th>std</th>\n",
       "      <td>187.146299</td>\n",
       "      <td>311.202061</td>\n",
       "      <td>1.398506</td>\n",
       "    </tr>\n",
       "    <tr>\n",
       "      <th>min</th>\n",
       "      <td>0.000000</td>\n",
       "      <td>0.000000</td>\n",
       "      <td>0.000000</td>\n",
       "    </tr>\n",
       "    <tr>\n",
       "      <th>25%</th>\n",
       "      <td>0.000000</td>\n",
       "      <td>0.000000</td>\n",
       "      <td>0.000000</td>\n",
       "    </tr>\n",
       "    <tr>\n",
       "      <th>50%</th>\n",
       "      <td>0.000000</td>\n",
       "      <td>0.000000</td>\n",
       "      <td>0.000000</td>\n",
       "    </tr>\n",
       "    <tr>\n",
       "      <th>75%</th>\n",
       "      <td>4.000000</td>\n",
       "      <td>1.000000</td>\n",
       "      <td>0.000000</td>\n",
       "    </tr>\n",
       "    <tr>\n",
       "      <th>max</th>\n",
       "      <td>5842.000000</td>\n",
       "      <td>14428.000000</td>\n",
       "      <td>46.000000</td>\n",
       "    </tr>\n",
       "  </tbody>\n",
       "</table>\n",
       "</div>"
      ],
      "text/plain": [
       "        proponents     opponents  no_position\n",
       "count  3649.000000   3649.000000  3649.000000\n",
       "mean     23.103590     20.755824     0.281995\n",
       "std     187.146299    311.202061     1.398506\n",
       "min       0.000000      0.000000     0.000000\n",
       "25%       0.000000      0.000000     0.000000\n",
       "50%       0.000000      0.000000     0.000000\n",
       "75%       4.000000      1.000000     0.000000\n",
       "max    5842.000000  14428.000000    46.000000"
      ]
     },
     "execution_count": 388,
     "metadata": {},
     "output_type": "execute_result"
    }
   ],
   "source": [
    "hearing.describe()"
   ]
  },
  {
   "cell_type": "code",
   "execution_count": 369,
   "metadata": {},
   "outputs": [
    {
     "data": {
      "text/plain": [
       "PROP     84305\n",
       "OPP      75738\n",
       "NOPOS     1029\n",
       "Name: position, dtype: int64"
      ]
     },
     "execution_count": 369,
     "metadata": {},
     "output_type": "execute_result"
    }
   ],
   "source": [
    "slips.position.value_counts()"
   ]
  },
  {
   "cell_type": "markdown",
   "metadata": {},
   "source": [
    "# Slips Before Second Reading"
   ]
  },
  {
   "cell_type": "code",
   "execution_count": 456,
   "metadata": {},
   "outputs": [],
   "source": [
    "query_slip = \"\"\"\n",
    " SELECT b.bill_id, w.position, count(w.name)\n",
    "   FROM sen_bill b\n",
    "     JOIN history hs ON hs.bill_id = b.bill_id AND hs.action ~* '^second reading'::text\n",
    "     JOIN witness_slip w on w.bill_number = b.bill_number and w.date <= to_date(hs.date, 'YYYY-MM-DD')\n",
    "     group by b.bill_id, w.position, b.third_reading\n",
    "\"\"\"\n",
    "\n",
    "slip_features = pd.read_sql(query_slip, con=engine)"
   ]
  },
  {
   "cell_type": "code",
   "execution_count": 457,
   "metadata": {},
   "outputs": [],
   "source": [
    "slip_features = slip_features.pivot(index='bill_id', columns='position', values='count').reset_index().fillna(0)"
   ]
  },
  {
   "cell_type": "code",
   "execution_count": 458,
   "metadata": {},
   "outputs": [],
   "source": [
    "slip_features.columns = [x for x in slip_features.columns]"
   ]
  },
  {
   "cell_type": "code",
   "execution_count": 459,
   "metadata": {},
   "outputs": [
    {
     "data": {
      "text/html": [
       "<div>\n",
       "<style scoped>\n",
       "    .dataframe tbody tr th:only-of-type {\n",
       "        vertical-align: middle;\n",
       "    }\n",
       "\n",
       "    .dataframe tbody tr th {\n",
       "        vertical-align: top;\n",
       "    }\n",
       "\n",
       "    .dataframe thead th {\n",
       "        text-align: right;\n",
       "    }\n",
       "</style>\n",
       "<table border=\"1\" class=\"dataframe\">\n",
       "  <thead>\n",
       "    <tr style=\"text-align: right;\">\n",
       "      <th></th>\n",
       "      <th>bill_id</th>\n",
       "      <th>NOPOS</th>\n",
       "      <th>OPP</th>\n",
       "      <th>PROP</th>\n",
       "    </tr>\n",
       "  </thead>\n",
       "  <tbody>\n",
       "    <tr>\n",
       "      <th>0</th>\n",
       "      <td>907435</td>\n",
       "      <td>0.0</td>\n",
       "      <td>0.0</td>\n",
       "      <td>13.0</td>\n",
       "    </tr>\n",
       "    <tr>\n",
       "      <th>1</th>\n",
       "      <td>907445</td>\n",
       "      <td>0.0</td>\n",
       "      <td>5.0</td>\n",
       "      <td>1.0</td>\n",
       "    </tr>\n",
       "    <tr>\n",
       "      <th>2</th>\n",
       "      <td>907471</td>\n",
       "      <td>0.0</td>\n",
       "      <td>0.0</td>\n",
       "      <td>14.0</td>\n",
       "    </tr>\n",
       "    <tr>\n",
       "      <th>3</th>\n",
       "      <td>907494</td>\n",
       "      <td>0.0</td>\n",
       "      <td>3.0</td>\n",
       "      <td>24.0</td>\n",
       "    </tr>\n",
       "    <tr>\n",
       "      <th>4</th>\n",
       "      <td>907529</td>\n",
       "      <td>3.0</td>\n",
       "      <td>10.0</td>\n",
       "      <td>79.0</td>\n",
       "    </tr>\n",
       "  </tbody>\n",
       "</table>\n",
       "</div>"
      ],
      "text/plain": [
       "   bill_id  NOPOS   OPP  PROP\n",
       "0   907435    0.0   0.0  13.0\n",
       "1   907445    0.0   5.0   1.0\n",
       "2   907471    0.0   0.0  14.0\n",
       "3   907494    0.0   3.0  24.0\n",
       "4   907529    3.0  10.0  79.0"
      ]
     },
     "execution_count": 459,
     "metadata": {},
     "output_type": "execute_result"
    }
   ],
   "source": [
    "slip_features.head()"
   ]
  },
  {
   "cell_type": "code",
   "execution_count": 460,
   "metadata": {},
   "outputs": [],
   "source": [
    "slip_features['total'] = slip_features.NOPOS + slip_features.OPP + slip_features.PROP"
   ]
  },
  {
   "cell_type": "code",
   "execution_count": 461,
   "metadata": {},
   "outputs": [],
   "source": [
    "slip_features['perc_pro'] = slip_features.PROP / slip_features.total"
   ]
  },
  {
   "cell_type": "code",
   "execution_count": 465,
   "metadata": {},
   "outputs": [],
   "source": [
    "all_bills = pd.read_sql('select bill_id, third_reading from sen_bill', con=engine)\n",
    "slip_features = all_bills.merge(slip_features, on='bill_id', how='left')"
   ]
  },
  {
   "cell_type": "code",
   "execution_count": 467,
   "metadata": {},
   "outputs": [],
   "source": [
    "slip_features = slip_features.fillna(0)"
   ]
  },
  {
   "cell_type": "code",
   "execution_count": 537,
   "metadata": {},
   "outputs": [
    {
     "data": {
      "text/plain": [
       "<seaborn.axisgrid.PairGrid at 0x1551f9dad0>"
      ]
     },
     "execution_count": 537,
     "metadata": {},
     "output_type": "execute_result"
    },
    {
     "data": {
      "image/png": "[encoded data removed]",
      "text/plain": [
       "<Figure size 435x360 with 6 Axes>"
      ]
     },
     "metadata": {
      "needs_background": "light"
     },
     "output_type": "display_data"
    }
   ],
   "source": [
    "sns.pairplot(\n",
    "    slip_features[['perc_pro', 'third_reading']],\n",
    "    hue='third_reading',\n",
    "    diag_kind='hist',\n",
    "    diag_kws={ 'alpha': 0.4 }\n",
    ")"
   ]
  },
  {
   "cell_type": "code",
   "execution_count": 538,
   "metadata": {},
   "outputs": [
    {
     "data": {
      "text/plain": [
       "<seaborn.axisgrid.PairGrid at 0x1552bb1150>"
      ]
     },
     "execution_count": 538,
     "metadata": {},
     "output_type": "execute_result"
    },
    {
     "data": {
      "image/png": "[encoded data removed]",
      "text/plain": [
       "<Figure size 435x360 with 6 Axes>"
      ]
     },
     "metadata": {
      "needs_background": "light"
     },
     "output_type": "display_data"
    }
   ],
   "source": [
    "sns.pairplot(\n",
    "    slip_features[['total', 'third_reading']],\n",
    "    hue='third_reading',\n",
    "    diag_kind='hist',\n",
    "    diag_kws={ 'alpha': 0.4 }\n",
    ")"
   ]
  },
  {
   "cell_type": "code",
   "execution_count": 539,
   "metadata": {},
   "outputs": [
    {
     "data": {
      "text/plain": [
       "<seaborn.axisgrid.PairGrid at 0x1553089d50>"
      ]
     },
     "execution_count": 539,
     "metadata": {},
     "output_type": "execute_result"
    },
    {
     "data": {
      "image/png": "[encoded data removed]",
      "text/plain": [
       "<Figure size 435x360 with 6 Axes>"
      ]
     },
     "metadata": {
      "needs_background": "light"
     },
     "output_type": "display_data"
    }
   ],
   "source": [
    "sns.pairplot(\n",
    "    slip_features[['PROP', 'third_reading']],\n",
    "    hue='third_reading',\n",
    "    diag_kind='hist',\n",
    "    diag_kws={ 'alpha': 0.4 }\n",
    ")"
   ]
  },
  {
   "cell_type": "code",
   "execution_count": 541,
   "metadata": {},
   "outputs": [
    {
     "data": {
      "text/plain": [
       "<seaborn.axisgrid.PairGrid at 0x155421f4d0>"
      ]
     },
     "execution_count": 541,
     "metadata": {},
     "output_type": "execute_result"
    },
    {
     "data": {
      "image/png": "[encoded data removed]",
      "text/plain": [
       "<Figure size 435x360 with 6 Axes>"
      ]
     },
     "metadata": {
      "needs_background": "light"
     },
     "output_type": "display_data"
    }
   ],
   "source": [
    "sns.pairplot(\n",
    "    slip_features[['NOPOS', 'third_reading']],\n",
    "    hue='third_reading',\n",
    "    diag_kind='hist',\n",
    "    diag_kws={ 'alpha': 0.4 }\n",
    ")"
   ]
  },
  {
   "cell_type": "markdown",
   "metadata": {},
   "source": [
    "# Get Senator Info"
   ]
  },
  {
   "cell_type": "markdown",
   "metadata": {},
   "source": [
    "## Scrape Info"
   ]
  },
  {
   "cell_type": "code",
   "execution_count": 4,
   "metadata": {},
   "outputs": [],
   "source": [
    "def scrape_experience(vote_smart_id):\n",
    "    url_bio = f'https://justfacts.votesmart.org/candidate/biography/{vote_smart_id}'\n",
    "    res = requests.get(url_bio)\n",
    "    sen_soup = BeautifulSoup(res.text)\n",
    "    exp = scrape_collapse(sen_soup, 'collapseThree')\n",
    "    comms = scrape_collapse(sen_soup, 'collapseFour')\n",
    "    return { 'committees': comms, 'experience': exp }"
   ]
  },
  {
   "cell_type": "code",
   "execution_count": 5,
   "metadata": {},
   "outputs": [],
   "source": [
    "def scrape_collapse(soup, id_):\n",
    "    try:\n",
    "        return [p.text for p in soup.find(id=id_).find_all('p')]\n",
    "    except KeyboardInterrupt:\n",
    "        raise\n",
    "    except:\n",
    "        return []"
   ]
  },
  {
   "cell_type": "code",
   "execution_count": 6,
   "metadata": {},
   "outputs": [],
   "source": [
    "def scrape_funding(vote_smart_id):\n",
    "    url_fund = f'https://justfacts.votesmart.org/candidate/campaign-finance/{vote_smart_id}'\n",
    "    res_fund = requests.get(url_fund)\n",
    "    soup_fund = BeautifulSoup(res_fund.text)\n",
    "    summary = scrape_funding_section(soup_fund, 'nimspSummary')\n",
    "    by_industry = scrape_funding_section(soup_fund, 'nimspIndustries')\n",
    "    by_sector = scrape_funding_section(soup_fund, 'nimspSectors')\n",
    "    \n",
    "    return { 'indsutry': by_industry, 'sector': by_sector, 'summary': summary }"
   ]
  },
  {
   "cell_type": "code",
   "execution_count": 7,
   "metadata": {},
   "outputs": [],
   "source": [
    "def scrape_funding_section(soup, id_):\n",
    "    funding_cat = {}\n",
    "    try:\n",
    "        for tr in soup.find(id=id_).find('table').find_all('tr'):\n",
    "            tds = tr.find_all('td')\n",
    "            try:\n",
    "                funding_cat[tds[0].text] = tds[1].text\n",
    "            except KeyboardInterrupt:\n",
    "                raise\n",
    "            except:\n",
    "                continue\n",
    "    except KeyboardInterrupt:\n",
    "        raise\n",
    "    except:\n",
    "        if id_ == 'nimspSummary':\n",
    "            return scrape_funding_section(soup, 'crpSummary')\n",
    "        # do nothing\n",
    "\n",
    "    return funding_cat"
   ]
  },
  {
   "cell_type": "code",
   "execution_count": 8,
   "metadata": {},
   "outputs": [],
   "source": [
    "query_get_vote_smart_id = \"\"\"\n",
    "    select p.people_id, p.votesmart_id\n",
    "    from people p\n",
    "    where role ='Sen'\n",
    "\"\"\"\n",
    "\n",
    "sen_vote_smart = pd.read_sql(query_get_vote_smart_id, con=engine)"
   ]
  },
  {
   "cell_type": "code",
   "execution_count": 9,
   "metadata": {},
   "outputs": [
    {
     "data": {
      "text/html": [
       "<div>\n",
       "<style scoped>\n",
       "    .dataframe tbody tr th:only-of-type {\n",
       "        vertical-align: middle;\n",
       "    }\n",
       "\n",
       "    .dataframe tbody tr th {\n",
       "        vertical-align: top;\n",
       "    }\n",
       "\n",
       "    .dataframe thead th {\n",
       "        text-align: right;\n",
       "    }\n",
       "</style>\n",
       "<table border=\"1\" class=\"dataframe\">\n",
       "  <thead>\n",
       "    <tr style=\"text-align: right;\">\n",
       "      <th></th>\n",
       "      <th>people_id</th>\n",
       "      <th>votesmart_id</th>\n",
       "    </tr>\n",
       "  </thead>\n",
       "  <tbody>\n",
       "    <tr>\n",
       "      <th>0</th>\n",
       "      <td>949</td>\n",
       "      <td>33905</td>\n",
       "    </tr>\n",
       "    <tr>\n",
       "      <th>1</th>\n",
       "      <td>984</td>\n",
       "      <td>68145</td>\n",
       "    </tr>\n",
       "    <tr>\n",
       "      <th>2</th>\n",
       "      <td>1013</td>\n",
       "      <td>83646</td>\n",
       "    </tr>\n",
       "    <tr>\n",
       "      <th>3</th>\n",
       "      <td>1051</td>\n",
       "      <td>18385</td>\n",
       "    </tr>\n",
       "    <tr>\n",
       "      <th>4</th>\n",
       "      <td>1052</td>\n",
       "      <td>6303</td>\n",
       "    </tr>\n",
       "  </tbody>\n",
       "</table>\n",
       "</div>"
      ],
      "text/plain": [
       "   people_id  votesmart_id\n",
       "0        949         33905\n",
       "1        984         68145\n",
       "2       1013         83646\n",
       "3       1051         18385\n",
       "4       1052          6303"
      ]
     },
     "execution_count": 9,
     "metadata": {},
     "output_type": "execute_result"
    }
   ],
   "source": [
    "sen_vote_smart.head()"
   ]
  },
  {
   "cell_type": "code",
   "execution_count": 10,
   "metadata": {},
   "outputs": [],
   "source": [
    "results =[]\n",
    "\n",
    "def scrape_all(people_id, votesmart_id):\n",
    "    exp = scrape_experience(votesmart_id)\n",
    "    funding = scrape_funding(votesmart_id)\n",
    "    new_data = { 'people_id': people_id, ** exp, **funding }\n",
    "    results.append(new_data)"
   ]
  },
  {
   "cell_type": "code",
   "execution_count": 11,
   "metadata": {},
   "outputs": [
    {
     "data": {
      "text/plain": [
       "0     None\n",
       "1     None\n",
       "2     None\n",
       "3     None\n",
       "4     None\n",
       "5     None\n",
       "6     None\n",
       "7     None\n",
       "8     None\n",
       "9     None\n",
       "10    None\n",
       "11    None\n",
       "12    None\n",
       "13    None\n",
       "14    None\n",
       "15    None\n",
       "16    None\n",
       "17    None\n",
       "18    None\n",
       "19    None\n",
       "20    None\n",
       "21    None\n",
       "22    None\n",
       "23    None\n",
       "24    None\n",
       "25    None\n",
       "26    None\n",
       "27    None\n",
       "28    None\n",
       "29    None\n",
       "30    None\n",
       "31    None\n",
       "32    None\n",
       "33    None\n",
       "34    None\n",
       "35    None\n",
       "36    None\n",
       "37    None\n",
       "38    None\n",
       "39    None\n",
       "40    None\n",
       "41    None\n",
       "42    None\n",
       "43    None\n",
       "44    None\n",
       "45    None\n",
       "46    None\n",
       "47    None\n",
       "48    None\n",
       "49    None\n",
       "50    None\n",
       "51    None\n",
       "52    None\n",
       "53    None\n",
       "54    None\n",
       "55    None\n",
       "56    None\n",
       "57    None\n",
       "58    None\n",
       "59    None\n",
       "60    None\n",
       "61    None\n",
       "62    None\n",
       "63    None\n",
       "64    None\n",
       "65    None\n",
       "66    None\n",
       "67    None\n",
       "68    None\n",
       "69    None\n",
       "dtype: object"
      ]
     },
     "execution_count": 11,
     "metadata": {},
     "output_type": "execute_result"
    }
   ],
   "source": [
    "sen_vote_smart.apply(lambda x: scrape_all(x.people_id, x.votesmart_id), axis=1)"
   ]
  },
  {
   "cell_type": "code",
   "execution_count": 13,
   "metadata": {},
   "outputs": [],
   "source": [
    "with open('./data/scrape_results.pickle', 'wb') as write_file:\n",
    "    pickle.dump(results, write_file)"
   ]
  },
  {
   "cell_type": "code",
   "execution_count": 2,
   "metadata": {},
   "outputs": [],
   "source": [
    "with open('./data/scrape_results.pickle', 'rb') as read_file:\n",
    "    scraped_results = pickle.load(read_file)"
   ]
  },
  {
   "cell_type": "markdown",
   "metadata": {},
   "source": [
    "## Persist Committee Data"
   ]
  },
  {
   "cell_type": "code",
   "execution_count": 8,
   "metadata": {},
   "outputs": [],
   "source": [
    "def create_committee_df(scraped_results):\n",
    "    rows = []\n",
    "    for res in scraped_results:\n",
    "        people_id = res['people_id']\n",
    "        new_rows = [{ 'people_id': people_id, 'committee': comm } for comm in res['committees']]\n",
    "        rows = rows + new_rows\n",
    "    return pd.DataFrame(rows)\n",
    "    "
   ]
  },
  {
   "cell_type": "code",
   "execution_count": 10,
   "metadata": {},
   "outputs": [],
   "source": [
    "comms = create_committee_df(scraped_results)"
   ]
  },
  {
   "cell_type": "code",
   "execution_count": null,
   "metadata": {},
   "outputs": [],
   "source": [
    "comms = comms.replace(to_replace='No committee memberships found.', value=np.nan)"
   ]
  },
  {
   "cell_type": "code",
   "execution_count": null,
   "metadata": {},
   "outputs": [],
   "source": [
    "comms['role'] = comms.committee.map(lambda x: x.split(',')[0], na_action='ignore')"
   ]
  },
  {
   "cell_type": "code",
   "execution_count": 25,
   "metadata": {},
   "outputs": [],
   "source": [
    "comms['committee'] = comms.committee.map(lambda x: x.split(',')[1], na_action='ignore')"
   ]
  },
  {
   "cell_type": "code",
   "execution_count": 32,
   "metadata": {},
   "outputs": [
    {
     "data": {
      "text/plain": [
       " Agriculture                                                   10\n",
       " Appropriations I                                              11\n",
       " Appropriations II                                              9\n",
       " Assignments                                                    3\n",
       " Commerce and Economic Development                             10\n",
       " Committee of the Whole                                        49\n",
       " Criminal Law                                                   6\n",
       " Criminal Law Subcommittee on Firearms                          1\n",
       " Criminal Law Subcommittee on Special Issues                    2\n",
       " Education                                                     14\n",
       " Education Subcommittee on Special Issues                       3\n",
       " Energy and Public Utilities                                   21\n",
       " Energy and Public Utilities Subcommittee on Special Issues     2\n",
       " Environment and Conservation                                   8\n",
       " Executive                                                     17\n",
       " Executive Appointments                                        11\n",
       " Executive Subcommittee on Special Issues                       2\n",
       " Financial Institutions                                         7\n",
       " Government Accountability Pensions                             8\n",
       " Government Reform                                              7\n",
       " Higher Education                                              12\n",
       " Human Services                                                10\n",
       " Human Services Subcommittee on Special Issues                  3\n",
       " Insurance                                                     10\n",
       " Insurance Subcommittee on Special Issues                       2\n",
       " Judiciary                                                      6\n",
       " Judiciary Subcommittee on Firearms                             2\n",
       " Labor                                                         16\n",
       " Licensed Activities                                            7\n",
       " Licensed Activities and Pensions                              10\n",
       " Local Government                                               6\n",
       " Public Health                                                  8\n",
       " Revenue                                                        8\n",
       " Special Committee on Oversight of Medicaid Managed Care       10\n",
       " Special Committee on Pension Investments                       6\n",
       " Special Committee on Supplier Diversity                        7\n",
       " State Government                                               8\n",
       " State Government and Veterans Affairs                         10\n",
       " Subcommittee on Business Entities                              2\n",
       " Subcommittee on CLEAR Compliance                               2\n",
       " Subcommittee on Capital                                        7\n",
       " Subcommittee on Charter Schools                                2\n",
       " Subcommittee on Civil Rights                                   2\n",
       " Subcommittee on Constitutional Amendments                      2\n",
       " Subcommittee on Election Law                                   3\n",
       " Subcommittee on Gaming                                         3\n",
       " Subcommittee on Government Operations                          3\n",
       " Subcommittee on Interscholastic Athletics                      3\n",
       " Subcommittee on Local Policies                                 3\n",
       " Subcommittee on Prisons                                        2\n",
       " Subcommittee on Tax Exemptions and Credits                     2\n",
       " Subcommittee on Tort Reform                                    2\n",
       " Subcommittee on Utility Rate Regulations                       1\n",
       " Subcommittee on the Constitution and Redistricting             2\n",
       " Telecommunications and Information Technology                  7\n",
       " Transportation                                                21\n",
       " Transportation Subcommittee on Capital                        10\n",
       " Veteran Affairs                                                8\n",
       "Name: committee, dtype: int64"
      ]
     },
     "execution_count": 32,
     "metadata": {},
     "output_type": "execute_result"
    }
   ],
   "source": [
    "comms.committee.value_counts().sort_index()\n",
    "# looks like no typos"
   ]
  },
  {
   "cell_type": "code",
   "execution_count": 33,
   "metadata": {},
   "outputs": [
    {
     "data": {
      "text/html": [
       "<div>\n",
       "<style scoped>\n",
       "    .dataframe tbody tr th:only-of-type {\n",
       "        vertical-align: middle;\n",
       "    }\n",
       "\n",
       "    .dataframe tbody tr th {\n",
       "        vertical-align: top;\n",
       "    }\n",
       "\n",
       "    .dataframe thead th {\n",
       "        text-align: right;\n",
       "    }\n",
       "</style>\n",
       "<table border=\"1\" class=\"dataframe\">\n",
       "  <thead>\n",
       "    <tr style=\"text-align: right;\">\n",
       "      <th></th>\n",
       "      <th>people_id</th>\n",
       "      <th>committee</th>\n",
       "      <th>role</th>\n",
       "    </tr>\n",
       "  </thead>\n",
       "  <tbody>\n",
       "    <tr>\n",
       "      <th>0</th>\n",
       "      <td>949</td>\n",
       "      <td>Appropriations I</td>\n",
       "      <td>Member</td>\n",
       "    </tr>\n",
       "    <tr>\n",
       "      <th>1</th>\n",
       "      <td>949</td>\n",
       "      <td>Appropriations II</td>\n",
       "      <td>Member</td>\n",
       "    </tr>\n",
       "    <tr>\n",
       "      <th>2</th>\n",
       "      <td>949</td>\n",
       "      <td>Committee of the Whole</td>\n",
       "      <td>Member</td>\n",
       "    </tr>\n",
       "    <tr>\n",
       "      <th>3</th>\n",
       "      <td>949</td>\n",
       "      <td>Financial Institutions</td>\n",
       "      <td>Member</td>\n",
       "    </tr>\n",
       "    <tr>\n",
       "      <th>4</th>\n",
       "      <td>949</td>\n",
       "      <td>Higher Education</td>\n",
       "      <td>Member</td>\n",
       "    </tr>\n",
       "  </tbody>\n",
       "</table>\n",
       "</div>"
      ],
      "text/plain": [
       "   people_id                committee    role\n",
       "0        949         Appropriations I  Member\n",
       "1        949        Appropriations II  Member\n",
       "2        949   Committee of the Whole  Member\n",
       "3        949   Financial Institutions  Member\n",
       "4        949         Higher Education  Member"
      ]
     },
     "execution_count": 33,
     "metadata": {},
     "output_type": "execute_result"
    }
   ],
   "source": [
    "comms.head()"
   ]
  },
  {
   "cell_type": "code",
   "execution_count": 37,
   "metadata": {},
   "outputs": [],
   "source": [
    "committees = pd.DataFrame(comms.committee.unique().reshape(-1, 1), columns=['name']).dropna()"
   ]
  },
  {
   "cell_type": "code",
   "execution_count": 39,
   "metadata": {},
   "outputs": [],
   "source": [
    "# replace committee value with id from \n",
    "comms['committee_id'] = comms.committee.map(lambda x: committees[committees.name == x].index[0], na_action='ignore')"
   ]
  },
  {
   "cell_type": "code",
   "execution_count": 43,
   "metadata": {},
   "outputs": [],
   "source": [
    "comms = comms.dropna()"
   ]
  },
  {
   "cell_type": "code",
   "execution_count": 45,
   "metadata": {},
   "outputs": [
    {
     "name": "stderr",
     "output_type": "stream",
     "text": [
      "/Users/willyraedy/anaconda3/envs/metis/lib/python3.7/site-packages/pandas/core/generic.py:5208: SettingWithCopyWarning: \n",
      "A value is trying to be set on a copy of a slice from a DataFrame.\n",
      "Try using .loc[row_indexer,col_indexer] = value instead\n",
      "\n",
      "See the caveats in the documentation: http://pandas.pydata.org/pandas-docs/stable/user_guide/indexing.html#returning-a-view-versus-a-copy\n",
      "  self[name] = value\n"
     ]
    }
   ],
   "source": [
    "comms.committee_id = comms.committee_id.astype(int)"
   ]
  },
  {
   "cell_type": "code",
   "execution_count": 48,
   "metadata": {},
   "outputs": [
    {
     "data": {
      "text/html": [
       "<div>\n",
       "<style scoped>\n",
       "    .dataframe tbody tr th:only-of-type {\n",
       "        vertical-align: middle;\n",
       "    }\n",
       "\n",
       "    .dataframe tbody tr th {\n",
       "        vertical-align: top;\n",
       "    }\n",
       "\n",
       "    .dataframe thead th {\n",
       "        text-align: right;\n",
       "    }\n",
       "</style>\n",
       "<table border=\"1\" class=\"dataframe\">\n",
       "  <thead>\n",
       "    <tr style=\"text-align: right;\">\n",
       "      <th></th>\n",
       "      <th>people_id</th>\n",
       "      <th>committee</th>\n",
       "      <th>role</th>\n",
       "      <th>committee_id</th>\n",
       "    </tr>\n",
       "  </thead>\n",
       "  <tbody>\n",
       "    <tr>\n",
       "      <th>0</th>\n",
       "      <td>949</td>\n",
       "      <td>Appropriations I</td>\n",
       "      <td>Member</td>\n",
       "      <td>0</td>\n",
       "    </tr>\n",
       "    <tr>\n",
       "      <th>1</th>\n",
       "      <td>949</td>\n",
       "      <td>Appropriations II</td>\n",
       "      <td>Member</td>\n",
       "      <td>1</td>\n",
       "    </tr>\n",
       "    <tr>\n",
       "      <th>2</th>\n",
       "      <td>949</td>\n",
       "      <td>Committee of the Whole</td>\n",
       "      <td>Member</td>\n",
       "      <td>2</td>\n",
       "    </tr>\n",
       "    <tr>\n",
       "      <th>3</th>\n",
       "      <td>949</td>\n",
       "      <td>Financial Institutions</td>\n",
       "      <td>Member</td>\n",
       "      <td>3</td>\n",
       "    </tr>\n",
       "    <tr>\n",
       "      <th>4</th>\n",
       "      <td>949</td>\n",
       "      <td>Higher Education</td>\n",
       "      <td>Member</td>\n",
       "      <td>4</td>\n",
       "    </tr>\n",
       "  </tbody>\n",
       "</table>\n",
       "</div>"
      ],
      "text/plain": [
       "   people_id                committee    role  committee_id\n",
       "0        949         Appropriations I  Member             0\n",
       "1        949        Appropriations II  Member             1\n",
       "2        949   Committee of the Whole  Member             2\n",
       "3        949   Financial Institutions  Member             3\n",
       "4        949         Higher Education  Member             4"
      ]
     },
     "execution_count": 48,
     "metadata": {},
     "output_type": "execute_result"
    }
   ],
   "source": [
    "comms.head()"
   ]
  },
  {
   "cell_type": "code",
   "execution_count": 49,
   "metadata": {},
   "outputs": [],
   "source": [
    "comms = comms.drop(columns=['committee'])"
   ]
  },
  {
   "cell_type": "code",
   "execution_count": 86,
   "metadata": {},
   "outputs": [
    {
     "data": {
      "text/html": [
       "<div>\n",
       "<style scoped>\n",
       "    .dataframe tbody tr th:only-of-type {\n",
       "        vertical-align: middle;\n",
       "    }\n",
       "\n",
       "    .dataframe tbody tr th {\n",
       "        vertical-align: top;\n",
       "    }\n",
       "\n",
       "    .dataframe thead th {\n",
       "        text-align: right;\n",
       "    }\n",
       "</style>\n",
       "<table border=\"1\" class=\"dataframe\">\n",
       "  <thead>\n",
       "    <tr style=\"text-align: right;\">\n",
       "      <th></th>\n",
       "      <th>name</th>\n",
       "    </tr>\n",
       "  </thead>\n",
       "  <tbody>\n",
       "    <tr>\n",
       "      <th>0</th>\n",
       "      <td>Appropriations I</td>\n",
       "    </tr>\n",
       "    <tr>\n",
       "      <th>1</th>\n",
       "      <td>Appropriations II</td>\n",
       "    </tr>\n",
       "    <tr>\n",
       "      <th>2</th>\n",
       "      <td>Committee of the Whole</td>\n",
       "    </tr>\n",
       "    <tr>\n",
       "      <th>3</th>\n",
       "      <td>Financial Institutions</td>\n",
       "    </tr>\n",
       "    <tr>\n",
       "      <th>4</th>\n",
       "      <td>Higher Education</td>\n",
       "    </tr>\n",
       "  </tbody>\n",
       "</table>\n",
       "</div>"
      ],
      "text/plain": [
       "                      name\n",
       "0         Appropriations I\n",
       "1        Appropriations II\n",
       "2   Committee of the Whole\n",
       "3   Financial Institutions\n",
       "4         Higher Education"
      ]
     },
     "execution_count": 86,
     "metadata": {},
     "output_type": "execute_result"
    }
   ],
   "source": [
    "# csv, scp file to aws, copy from psql\n",
    "comms.loc[1:, :].to_csv('./data/people_committee.csv')"
   ]
  },
  {
   "cell_type": "code",
   "execution_count": 88,
   "metadata": {},
   "outputs": [],
   "source": [
    "# really small table so use slow api\n",
    "committees.to_sql('committee', con=aws_engine)"
   ]
  },
  {
   "cell_type": "code",
   "execution_count": null,
   "metadata": {},
   "outputs": [],
   "source": []
  },
  {
   "cell_type": "markdown",
   "metadata": {},
   "source": [
    "## Experience and Funding"
   ]
  },
  {
   "cell_type": "code",
   "execution_count": 102,
   "metadata": {},
   "outputs": [],
   "source": [
    "def create_experience_df(scraped_results):\n",
    "    rows = []\n",
    "    for res in scraped_results:\n",
    "        people_id = res['people_id']\n",
    "        new_rows = [{ 'people_id': people_id, 'experience': exp } for exp in res['experience'] if 'Illinois State Senate' in exp]\n",
    "        rows = rows + new_rows\n",
    "    return pd.DataFrame(rows)\n",
    "    "
   ]
  },
  {
   "cell_type": "code",
   "execution_count": 103,
   "metadata": {},
   "outputs": [],
   "source": [
    "exp_exploration = create_experience_df(scraped_results)"
   ]
  },
  {
   "cell_type": "code",
   "execution_count": 114,
   "metadata": {},
   "outputs": [],
   "source": [
    "# If it says Senator or Representative -> add up the years\n",
    "# if it says Leader/WHIP and Illinois State Senate/House\n",
    "sen_exp = exp_exploration[exp_exploration.experience.str.contains('Senator,')]"
   ]
  },
  {
   "cell_type": "code",
   "execution_count": 122,
   "metadata": {},
   "outputs": [
    {
     "name": "stderr",
     "output_type": "stream",
     "text": [
      "/Users/willyraedy/anaconda3/envs/metis/lib/python3.7/site-packages/ipykernel_launcher.py:1: SettingWithCopyWarning: \n",
      "A value is trying to be set on a copy of a slice from a DataFrame.\n",
      "Try using .loc[row_indexer,col_indexer] = value instead\n",
      "\n",
      "See the caveats in the documentation: http://pandas.pydata.org/pandas-docs/stable/user_guide/indexing.html#returning-a-view-versus-a-copy\n",
      "  \"\"\"Entry point for launching an IPython kernel.\n"
     ]
    }
   ],
   "source": [
    "sen_exp['years_senate_raw'] = sen_exp.experience.map(lambda x: x.split(', ')[-1])"
   ]
  },
  {
   "cell_type": "code",
   "execution_count": 123,
   "metadata": {},
   "outputs": [
    {
     "name": "stderr",
     "output_type": "stream",
     "text": [
      "/Users/willyraedy/anaconda3/envs/metis/lib/python3.7/site-packages/ipykernel_launcher.py:1: SettingWithCopyWarning: \n",
      "A value is trying to be set on a copy of a slice from a DataFrame.\n",
      "Try using .loc[row_indexer,col_indexer] = value instead\n",
      "\n",
      "See the caveats in the documentation: http://pandas.pydata.org/pandas-docs/stable/user_guide/indexing.html#returning-a-view-versus-a-copy\n",
      "  \"\"\"Entry point for launching an IPython kernel.\n"
     ]
    }
   ],
   "source": [
    "sen_exp['years_senate'] = sen_exp.years_senate_raw.map(lambda x: 2017 - int(x.split('-')[0]))"
   ]
  },
  {
   "cell_type": "code",
   "execution_count": 129,
   "metadata": {},
   "outputs": [
    {
     "name": "stderr",
     "output_type": "stream",
     "text": [
      "/Users/willyraedy/anaconda3/envs/metis/lib/python3.7/site-packages/pandas/core/generic.py:5208: SettingWithCopyWarning: \n",
      "A value is trying to be set on a copy of a slice from a DataFrame.\n",
      "Try using .loc[row_indexer,col_indexer] = value instead\n",
      "\n",
      "See the caveats in the documentation: http://pandas.pydata.org/pandas-docs/stable/user_guide/indexing.html#returning-a-view-versus-a-copy\n",
      "  self[name] = value\n"
     ]
    }
   ],
   "source": [
    "sen_exp.years_senate = sen_exp.years_senate.where(sen_exp.years_senate >=0, 0)"
   ]
  },
  {
   "cell_type": "code",
   "execution_count": 130,
   "metadata": {},
   "outputs": [
    {
     "data": {
      "text/html": [
       "<div>\n",
       "<style scoped>\n",
       "    .dataframe tbody tr th:only-of-type {\n",
       "        vertical-align: middle;\n",
       "    }\n",
       "\n",
       "    .dataframe tbody tr th {\n",
       "        vertical-align: top;\n",
       "    }\n",
       "\n",
       "    .dataframe thead th {\n",
       "        text-align: right;\n",
       "    }\n",
       "</style>\n",
       "<table border=\"1\" class=\"dataframe\">\n",
       "  <thead>\n",
       "    <tr style=\"text-align: right;\">\n",
       "      <th></th>\n",
       "      <th>people_id</th>\n",
       "      <th>experience</th>\n",
       "      <th>years_senate</th>\n",
       "      <th>years_senate_raw</th>\n",
       "    </tr>\n",
       "  </thead>\n",
       "  <tbody>\n",
       "    <tr>\n",
       "      <th>1</th>\n",
       "      <td>949</td>\n",
       "      <td>Senator, Illinois State Senate,  District 51, ...</td>\n",
       "      <td>5</td>\n",
       "      <td>2012-present</td>\n",
       "    </tr>\n",
       "    <tr>\n",
       "      <th>4</th>\n",
       "      <td>984</td>\n",
       "      <td>Senator, Illinois State Senate,  District 47, ...</td>\n",
       "      <td>0</td>\n",
       "      <td>2017-present</td>\n",
       "    </tr>\n",
       "    <tr>\n",
       "      <th>8</th>\n",
       "      <td>1013</td>\n",
       "      <td>Senator, Illinois State Senate,  District 21, ...</td>\n",
       "      <td>5</td>\n",
       "      <td>2012-2019</td>\n",
       "    </tr>\n",
       "    <tr>\n",
       "      <th>11</th>\n",
       "      <td>1051</td>\n",
       "      <td>Senator, Illinois State Senate,  District 1, 1...</td>\n",
       "      <td>18</td>\n",
       "      <td>1999-present</td>\n",
       "    </tr>\n",
       "    <tr>\n",
       "      <th>13</th>\n",
       "      <td>1052</td>\n",
       "      <td>Senator, Illinois State Senate,  District 44, ...</td>\n",
       "      <td>15</td>\n",
       "      <td>2002-present</td>\n",
       "    </tr>\n",
       "  </tbody>\n",
       "</table>\n",
       "</div>"
      ],
      "text/plain": [
       "    people_id                                         experience  \\\n",
       "1         949  Senator, Illinois State Senate,  District 51, ...   \n",
       "4         984  Senator, Illinois State Senate,  District 47, ...   \n",
       "8        1013  Senator, Illinois State Senate,  District 21, ...   \n",
       "11       1051  Senator, Illinois State Senate,  District 1, 1...   \n",
       "13       1052  Senator, Illinois State Senate,  District 44, ...   \n",
       "\n",
       "    years_senate years_senate_raw  \n",
       "1              5     2012-present  \n",
       "4              0     2017-present  \n",
       "8              5        2012-2019  \n",
       "11            18     1999-present  \n",
       "13            15     2002-present  "
      ]
     },
     "execution_count": 130,
     "metadata": {},
     "output_type": "execute_result"
    }
   ],
   "source": [
    "sen_exp.head()"
   ]
  },
  {
   "cell_type": "code",
   "execution_count": 140,
   "metadata": {},
   "outputs": [],
   "source": [
    "def create_funding_df(scraped_results):\n",
    "    rows = []\n",
    "    for res in scraped_results:\n",
    "        people_id = res['people_id']\n",
    "        total = res['summary']['Total'] if 'Total' in res['summary'] else np.nan\n",
    "        new_rows = { 'people_id': people_id, 'total_funding': total }\n",
    "        rows.append(new_rows)\n",
    "    return pd.DataFrame(rows)\n",
    "    "
   ]
  },
  {
   "cell_type": "code",
   "execution_count": 142,
   "metadata": {},
   "outputs": [],
   "source": [
    "funding_df = create_funding_df(scraped_results)"
   ]
  },
  {
   "cell_type": "code",
   "execution_count": 145,
   "metadata": {},
   "outputs": [],
   "source": [
    "sen_bio = sen_exp.merge(funding_df, on='people_id', how='outer')"
   ]
  },
  {
   "cell_type": "code",
   "execution_count": 148,
   "metadata": {},
   "outputs": [],
   "source": [
    "sen_bio = sen_bio.drop(columns=['experience', 'years_senate_raw'])"
   ]
  },
  {
   "cell_type": "code",
   "execution_count": 150,
   "metadata": {},
   "outputs": [],
   "source": [
    "sen_bio.total_funding = sen_bio.total_funding.str.replace('$', '')\n",
    "sen_bio.total_funding = sen_bio.total_funding.str.replace(',', '')\n",
    "sen_bio.total_funding = sen_bio.total_funding.astype(float)"
   ]
  },
  {
   "cell_type": "code",
   "execution_count": 151,
   "metadata": {},
   "outputs": [
    {
     "data": {
      "text/html": [
       "<div>\n",
       "<style scoped>\n",
       "    .dataframe tbody tr th:only-of-type {\n",
       "        vertical-align: middle;\n",
       "    }\n",
       "\n",
       "    .dataframe tbody tr th {\n",
       "        vertical-align: top;\n",
       "    }\n",
       "\n",
       "    .dataframe thead th {\n",
       "        text-align: right;\n",
       "    }\n",
       "</style>\n",
       "<table border=\"1\" class=\"dataframe\">\n",
       "  <thead>\n",
       "    <tr style=\"text-align: right;\">\n",
       "      <th></th>\n",
       "      <th>people_id</th>\n",
       "      <th>years_senate</th>\n",
       "      <th>total_funding</th>\n",
       "    </tr>\n",
       "  </thead>\n",
       "  <tbody>\n",
       "    <tr>\n",
       "      <th>0</th>\n",
       "      <td>949</td>\n",
       "      <td>5.0</td>\n",
       "      <td>275977.39</td>\n",
       "    </tr>\n",
       "    <tr>\n",
       "      <th>1</th>\n",
       "      <td>984</td>\n",
       "      <td>0.0</td>\n",
       "      <td>206051.47</td>\n",
       "    </tr>\n",
       "    <tr>\n",
       "      <th>2</th>\n",
       "      <td>1013</td>\n",
       "      <td>5.0</td>\n",
       "      <td>1300803.62</td>\n",
       "    </tr>\n",
       "    <tr>\n",
       "      <th>3</th>\n",
       "      <td>1051</td>\n",
       "      <td>18.0</td>\n",
       "      <td>1419612.36</td>\n",
       "    </tr>\n",
       "    <tr>\n",
       "      <th>4</th>\n",
       "      <td>1052</td>\n",
       "      <td>15.0</td>\n",
       "      <td>3478061.43</td>\n",
       "    </tr>\n",
       "  </tbody>\n",
       "</table>\n",
       "</div>"
      ],
      "text/plain": [
       "   people_id  years_senate  total_funding\n",
       "0        949           5.0      275977.39\n",
       "1        984           0.0      206051.47\n",
       "2       1013           5.0     1300803.62\n",
       "3       1051          18.0     1419612.36\n",
       "4       1052          15.0     3478061.43"
      ]
     },
     "execution_count": 151,
     "metadata": {},
     "output_type": "execute_result"
    }
   ],
   "source": [
    "sen_bio.head()"
   ]
  },
  {
   "cell_type": "code",
   "execution_count": 153,
   "metadata": {},
   "outputs": [
    {
     "name": "stdout",
     "output_type": "stream",
     "text": [
      "<class 'pandas.core.frame.DataFrame'>\n",
      "Int64Index: 70 entries, 0 to 69\n",
      "Data columns (total 3 columns):\n",
      "people_id        70 non-null int64\n",
      "years_senate     66 non-null float64\n",
      "total_funding    61 non-null float64\n",
      "dtypes: float64(2), int64(1)\n",
      "memory usage: 2.2 KB\n"
     ]
    }
   ],
   "source": [
    "sen_bio.info()"
   ]
  },
  {
   "cell_type": "code",
   "execution_count": 154,
   "metadata": {},
   "outputs": [],
   "source": [
    "# really small table so use slow api\n",
    "sen_bio.to_sql('people_detail', con=aws_engine)"
   ]
  },
  {
   "cell_type": "markdown",
   "metadata": {},
   "source": [
    "# Author is a Committee Chair"
   ]
  },
  {
   "cell_type": "code",
   "execution_count": 163,
   "metadata": {},
   "outputs": [],
   "source": [
    "query_auth_comm = \"\"\"\n",
    "select b.bill_id, b.third_reading, case when max(pc.people_id) > 0 then 1 else 0 end as is_chair from sen_bill b\n",
    "join author a on a.bill_id = b.bill_id\n",
    "left join people_committee pc on pc.people_id = a.people_id and pc.role ~* 'chair'\n",
    "group by b.bill_id, b.third_reading;\n",
    "\"\"\"\n",
    "\n",
    "auth_comm = pd.read_sql(query_auth_comm, con=aws_engine)"
   ]
  },
  {
   "cell_type": "code",
   "execution_count": 166,
   "metadata": {},
   "outputs": [
    {
     "data": {
      "text/plain": [
       "<seaborn.axisgrid.PairGrid at 0x153297ba50>"
      ]
     },
     "execution_count": 166,
     "metadata": {},
     "output_type": "execute_result"
    },
    {
     "data": {
      "image/png": "[encoded data removed]",
      "text/plain": [
       "<Figure size 435x360 with 6 Axes>"
      ]
     },
     "metadata": {
      "needs_background": "light"
     },
     "output_type": "display_data"
    }
   ],
   "source": [
    "sns.pairplot(\n",
    "    auth_comm[['is_chair', 'third_reading']],\n",
    "    hue='third_reading',\n",
    "    diag_kind='hist',\n",
    "    diag_kws={ 'alpha': 0.4 }\n",
    ")"
   ]
  },
  {
   "cell_type": "markdown",
   "metadata": {},
   "source": [
    "# Experience of Author"
   ]
  },
  {
   "cell_type": "code",
   "execution_count": 155,
   "metadata": {},
   "outputs": [],
   "source": [
    "query_auth_exp = \"\"\"\n",
    "select * from sen_bill b\n",
    "join author a on a.bill_id = b.bill_id\n",
    "join people_detail p on p.people_id = a.people_id;\n",
    "\"\"\"\n",
    "\n",
    "auth_exp = pd.read_sql(query_auth_exp, con=aws_engine)"
   ]
  },
  {
   "cell_type": "code",
   "execution_count": 158,
   "metadata": {},
   "outputs": [
    {
     "name": "stderr",
     "output_type": "stream",
     "text": [
      "/Users/willyraedy/anaconda3/envs/metis/lib/python3.7/site-packages/statsmodels/nonparametric/kde.py:447: RuntimeWarning: invalid value encountered in greater\n",
      "  X = X[np.logical_and(X > clip[0], X < clip[1])] # won't work for two columns.\n",
      "/Users/willyraedy/anaconda3/envs/metis/lib/python3.7/site-packages/statsmodels/nonparametric/kde.py:447: RuntimeWarning: invalid value encountered in less\n",
      "  X = X[np.logical_and(X > clip[0], X < clip[1])] # won't work for two columns.\n",
      "/Users/willyraedy/anaconda3/envs/metis/lib/python3.7/site-packages/statsmodels/nonparametric/kde.py:487: RuntimeWarning: invalid value encountered in true_divide\n",
      "  binned = fast_linbin(X, a, b, gridsize) / (delta * nobs)\n",
      "/Users/willyraedy/anaconda3/envs/metis/lib/python3.7/site-packages/statsmodels/nonparametric/kdetools.py:34: RuntimeWarning: invalid value encountered in double_scalars\n",
      "  FAC1 = 2*(np.pi*bw/RANGE)**2\n"
     ]
    },
    {
     "data": {
      "text/plain": [
       "<seaborn.axisgrid.PairGrid at 0x1531cedd10>"
      ]
     },
     "execution_count": 158,
     "metadata": {},
     "output_type": "execute_result"
    },
    {
     "data": {
      "image/png": "[encoded data removed]",
      "text/plain": [
       "<Figure size 435x360 with 6 Axes>"
      ]
     },
     "metadata": {
      "needs_background": "light"
     },
     "output_type": "display_data"
    }
   ],
   "source": [
    "sns.pairplot(\n",
    "    auth_exp[['years_senate', 'third_reading']],\n",
    "    hue='third_reading',\n",
    "    diag_kind='kde',\n",
    "    diag_kws={ 'alpha': 0.4 }\n",
    ")"
   ]
  },
  {
   "cell_type": "markdown",
   "metadata": {},
   "source": [
    "# Funding of Author"
   ]
  },
  {
   "cell_type": "code",
   "execution_count": 159,
   "metadata": {},
   "outputs": [
    {
     "data": {
      "text/plain": [
       "<seaborn.axisgrid.PairGrid at 0x1532222050>"
      ]
     },
     "execution_count": 159,
     "metadata": {},
     "output_type": "execute_result"
    },
    {
     "data": {
      "image/png": "[encoded data removed]",
      "text/plain": [
       "<Figure size 435x360 with 6 Axes>"
      ]
     },
     "metadata": {
      "needs_background": "light"
     },
     "output_type": "display_data"
    }
   ],
   "source": [
    "sns.pairplot(\n",
    "    auth_exp[['total_funding', 'third_reading']],\n",
    "    hue='third_reading',\n",
    "    diag_kind='kde',\n",
    "    diag_kws={ 'alpha': 0.4 }\n",
    ")"
   ]
  },
  {
   "cell_type": "markdown",
   "metadata": {},
   "source": [
    "# Has a Committee Chair Sponsor"
   ]
  },
  {
   "cell_type": "code",
   "execution_count": 167,
   "metadata": {},
   "outputs": [],
   "source": [
    "sponsor_chair = \"\"\"\n",
    "select b.bill_id, b.third_reading, case when max(pc.people_id) > 0 then 1 else 0 end as has_chair from sen_bill b\n",
    "left join sponsor_at_second a on a.bill_id = b.bill_id\n",
    "left join people_committee pc on pc.people_id = a.people_id and pc.role ~* 'chair'\n",
    "group by b.bill_id, b.third_reading;\n",
    "\"\"\"\n",
    "\n",
    "spons_chair = pd.read_sql(sponsor_chair, con=aws_engine)"
   ]
  },
  {
   "cell_type": "code",
   "execution_count": 169,
   "metadata": {},
   "outputs": [
    {
     "data": {
      "text/plain": [
       "<seaborn.axisgrid.PairGrid at 0x15347e2190>"
      ]
     },
     "execution_count": 169,
     "metadata": {},
     "output_type": "execute_result"
    },
    {
     "data": {
      "image/png": "[encoded data removed]",
      "text/plain": [
       "<Figure size 435x360 with 6 Axes>"
      ]
     },
     "metadata": {
      "needs_background": "light"
     },
     "output_type": "display_data"
    }
   ],
   "source": [
    "sns.pairplot(\n",
    "    spons_chair[['has_chair', 'third_reading']],\n",
    "    hue='third_reading',\n",
    "    diag_kind='hist',\n",
    "    diag_kws={ 'alpha': 0.4 }\n",
    ")"
   ]
  },
  {
   "cell_type": "markdown",
   "metadata": {},
   "source": [
    "# Aggregate Experience of Co-Sponsors"
   ]
  },
  {
   "cell_type": "code",
   "execution_count": 177,
   "metadata": {},
   "outputs": [],
   "source": [
    "query_spons_exp = \"\"\"\n",
    "select b.bill_id, b.third_reading, coalesce(sum(pd.years_senate), 0) as agg_exp from sen_bill b\n",
    "left join sponsor_at_second a on a.bill_id = b.bill_id\n",
    "left join people_detail pd on pd.people_id = a.people_id\n",
    "group by b.bill_id, b.third_reading;\n",
    "\"\"\"\n",
    "\n",
    "spons_exp = pd.read_sql(query_spons_exp, con=aws_engine)"
   ]
  },
  {
   "cell_type": "code",
   "execution_count": 174,
   "metadata": {},
   "outputs": [
    {
     "data": {
      "text/plain": [
       "<seaborn.axisgrid.PairGrid at 0x15312cbed0>"
      ]
     },
     "execution_count": 174,
     "metadata": {},
     "output_type": "execute_result"
    },
    {
     "data": {
      "image/png": "[encoded data removed]",
      "text/plain": [
       "<Figure size 435x360 with 6 Axes>"
      ]
     },
     "metadata": {
      "needs_background": "light"
     },
     "output_type": "display_data"
    }
   ],
   "source": [
    "sns.pairplot(\n",
    "    spons_exp[['agg_exp', 'third_reading']],\n",
    "    hue='third_reading',\n",
    "    diag_kind='hist',\n",
    "    diag_kws={ 'alpha': 0.4 }\n",
    ")"
   ]
  },
  {
   "cell_type": "markdown",
   "metadata": {},
   "source": [
    "# Avg Experience of the Co-Sponsor"
   ]
  },
  {
   "cell_type": "code",
   "execution_count": 187,
   "metadata": {},
   "outputs": [],
   "source": [
    "query_spons_exp_avg = \"\"\"\n",
    "select \n",
    "\tb.bill_id,\n",
    "\tb.third_reading, \n",
    "\tcoalesce(sum(pd.years_senate), 0) / case when count(pd.years_senate) > 0 then count(pd.years_senate) else 1 end as avg_exp\n",
    "from sen_bill b\n",
    "left join sponsor_at_second a on a.bill_id = b.bill_id\n",
    "left join people_detail pd on pd.people_id = a.people_id\n",
    "group by b.bill_id, b.third_reading;\n",
    "\"\"\"\n",
    "\n",
    "spons_exp_avg = pd.read_sql(query_spons_exp_avg, con=aws_engine)"
   ]
  },
  {
   "cell_type": "code",
   "execution_count": 189,
   "metadata": {},
   "outputs": [
    {
     "data": {
      "text/plain": [
       "<seaborn.axisgrid.PairGrid at 0x153596a110>"
      ]
     },
     "execution_count": 189,
     "metadata": {},
     "output_type": "execute_result"
    },
    {
     "data": {
      "image/png": "[encoded data removed]",
      "text/plain": [
       "<Figure size 435x360 with 6 Axes>"
      ]
     },
     "metadata": {
      "needs_background": "light"
     },
     "output_type": "display_data"
    }
   ],
   "source": [
    "sns.pairplot(\n",
    "    spons_exp_avg[['avg_exp', 'third_reading']],\n",
    "    hue='third_reading',\n",
    "    diag_kind='hist',\n",
    "    diag_kws={ 'alpha': 0.4 }\n",
    ")"
   ]
  },
  {
   "cell_type": "markdown",
   "metadata": {},
   "source": [
    "# Aggregate Funding of Co-Sponsors"
   ]
  },
  {
   "cell_type": "code",
   "execution_count": 191,
   "metadata": {},
   "outputs": [],
   "source": [
    "query_spons_fund = \"\"\"\n",
    "select b.bill_id, b.third_reading, coalesce(sum(pd.total_funding), 0) as agg_funding from sen_bill b\n",
    "left join sponsor_at_second a on a.bill_id = b.bill_id\n",
    "left join people_detail pd on pd.people_id = a.people_id\n",
    "group by b.bill_id, b.third_reading;\n",
    "\"\"\"\n",
    "\n",
    "spons_fund = pd.read_sql(query_spons_fund, con=aws_engine)"
   ]
  },
  {
   "cell_type": "code",
   "execution_count": 192,
   "metadata": {},
   "outputs": [
    {
     "data": {
      "text/plain": [
       "<seaborn.axisgrid.PairGrid at 0x1535cfe450>"
      ]
     },
     "execution_count": 192,
     "metadata": {},
     "output_type": "execute_result"
    },
    {
     "data": {
      "image/png": "[encoded data removed]",
      "text/plain": [
       "<Figure size 435x360 with 6 Axes>"
      ]
     },
     "metadata": {
      "needs_background": "light"
     },
     "output_type": "display_data"
    }
   ],
   "source": [
    "sns.pairplot(\n",
    "    spons_fund[['agg_funding', 'third_reading']],\n",
    "    hue='third_reading',\n",
    "    diag_kind='hist',\n",
    "    diag_kws={ 'alpha': 0.4 }\n",
    ")"
   ]
  },
  {
   "cell_type": "markdown",
   "metadata": {},
   "source": [
    "# Avg Sponsor Funding"
   ]
  },
  {
   "cell_type": "code",
   "execution_count": 194,
   "metadata": {},
   "outputs": [],
   "source": [
    "query_spons_fund_avg = \"\"\"\n",
    "select \n",
    "\tb.bill_id,\n",
    "\tb.third_reading, \n",
    "\tcoalesce(sum(pd.years_senate), 0) / case when count(pd.total_funding) > 0 then count(pd.total_funding) else 1 end as avg_fund\n",
    "from sen_bill b\n",
    "left join sponsor_at_second a on a.bill_id = b.bill_id\n",
    "left join people_detail pd on pd.people_id = a.people_id\n",
    "group by b.bill_id, b.third_reading;\n",
    "\"\"\"\n",
    "\n",
    "spons_fund_avg = pd.read_sql(query_spons_fund_avg, con=aws_engine)"
   ]
  },
  {
   "cell_type": "code",
   "execution_count": 195,
   "metadata": {},
   "outputs": [
    {
     "data": {
      "text/plain": [
       "<seaborn.axisgrid.PairGrid at 0x1536281450>"
      ]
     },
     "execution_count": 195,
     "metadata": {},
     "output_type": "execute_result"
    },
    {
     "data": {
      "image/png": "[encoded data removed]",
      "text/plain": [
       "<Figure size 435x360 with 6 Axes>"
      ]
     },
     "metadata": {
      "needs_background": "light"
     },
     "output_type": "display_data"
    }
   ],
   "source": [
    "sns.pairplot(\n",
    "    spons_fund_avg[['avg_fund', 'third_reading']],\n",
    "    hue='third_reading',\n",
    "    diag_kind='hist',\n",
    "    diag_kws={ 'alpha': 0.4 }\n",
    ")"
   ]
  },
  {
   "cell_type": "markdown",
   "metadata": {},
   "source": [
    "# What party author is in"
   ]
  },
  {
   "cell_type": "code",
   "execution_count": 199,
   "metadata": {},
   "outputs": [],
   "source": [
    "query_auth_party = \"\"\"\n",
    "select b.bill_id, b.third_reading, p.party_id from sen_bill b\n",
    "join author a on a.bill_id = b.bill_id\n",
    "join people p on a.people_id = p.people_id\n",
    "\"\"\"\n",
    "\n",
    "auth_party = pd.read_sql(query_auth_party, con=aws_engine)"
   ]
  },
  {
   "cell_type": "code",
   "execution_count": 201,
   "metadata": {},
   "outputs": [
    {
     "data": {
      "text/plain": [
       "<seaborn.axisgrid.PairGrid at 0x1536c2f8d0>"
      ]
     },
     "execution_count": 201,
     "metadata": {},
     "output_type": "execute_result"
    },
    {
     "data": {
      "image/png": "[encoded data removed]",
      "text/plain": [
       "<Figure size 435x360 with 6 Axes>"
      ]
     },
     "metadata": {
      "needs_background": "light"
     },
     "output_type": "display_data"
    }
   ],
   "source": [
    "sns.pairplot(\n",
    "    auth_party[['party_id', 'third_reading']],\n",
    "    hue='third_reading',\n",
    "    diag_kind='hist',\n",
    "    diag_kws={ 'alpha': 0.4 }\n",
    ")"
   ]
  },
  {
   "cell_type": "markdown",
   "metadata": {},
   "source": [
    "# Has Bipartisan Sponsors"
   ]
  },
  {
   "cell_type": "code",
   "execution_count": 202,
   "metadata": {},
   "outputs": [],
   "source": [
    "query_bipartisan = \"\"\"\n",
    "select\n",
    "\tb.bill_id,\n",
    "\tb.third_reading,\n",
    "\tcase when max(pd.people_id) > 0 and max(pr.people_id) > 0 then 1 else 0 end as is_bipart\n",
    "from sen_bill b\n",
    "left join sponsor_at_second sd on sd.bill_id = b.bill_id\n",
    "left join people pd on pd.people_id = sd.people_id and pd.party = 'D'\n",
    "left join sponsor_at_second sr on sr.bill_id = b.bill_id\n",
    "left join people pr on pr.people_id = sr.people_id and pr.party = 'R'\n",
    "group by b.bill_id, b.third_reading;\n",
    "\"\"\"\n",
    "\n",
    "bipart = pd.read_sql(query_bipartisan, con=aws_engine)"
   ]
  },
  {
   "cell_type": "code",
   "execution_count": 203,
   "metadata": {},
   "outputs": [
    {
     "data": {
      "text/plain": [
       "<seaborn.axisgrid.PairGrid at 0x1537039850>"
      ]
     },
     "execution_count": 203,
     "metadata": {},
     "output_type": "execute_result"
    },
    {
     "data": {
      "image/png": "[encoded data removed]",
      "text/plain": [
       "<Figure size 435x360 with 6 Axes>"
      ]
     },
     "metadata": {
      "needs_background": "light"
     },
     "output_type": "display_data"
    }
   ],
   "source": [
    "sns.pairplot(\n",
    "    bipart[['is_bipart', 'third_reading']],\n",
    "    hue='third_reading',\n",
    "    diag_kind='hist',\n",
    "    diag_kws={ 'alpha': 0.4 }\n",
    ")"
   ]
  },
  {
   "cell_type": "markdown",
   "metadata": {},
   "source": [
    "# First word"
   ]
  },
  {
   "cell_type": "code",
   "execution_count": 32,
   "metadata": {},
   "outputs": [],
   "source": [
    "query_text = \"\"\"\n",
    "select b.bill_id, b.third_reading, b.description, b.status_desc\n",
    "from sen_bill b\n",
    "\"\"\"\n",
    "\n",
    "bill_text = pd.read_sql(query_text, con=aws_engine)"
   ]
  },
  {
   "cell_type": "code",
   "execution_count": 33,
   "metadata": {},
   "outputs": [],
   "source": [
    "bill_text['first_word'] = bill_text.description.map(lambda x: x.split(' ')[0])"
   ]
  },
  {
   "cell_type": "code",
   "execution_count": 38,
   "metadata": {},
   "outputs": [
    {
     "data": {
      "text/plain": [
       "Amends          1641\n",
       "Creates           72\n",
       "Appropriates      21\n",
       "Repeals            6\n",
       "Authorizes         3\n",
       "Makes              2\n",
       "Provides           2\n",
       "Requires           1\n",
       "Name: first_word, dtype: int64"
      ]
     },
     "execution_count": 38,
     "metadata": {},
     "output_type": "execute_result"
    }
   ],
   "source": [
    "bill_text.first_word.value_counts()"
   ]
  },
  {
   "cell_type": "code",
   "execution_count": 34,
   "metadata": {},
   "outputs": [],
   "source": [
    "bill_text['amends_first_word'] = bill_text.first_word.map(lambda x: 1 if x == 'Amends' else 0)"
   ]
  },
  {
   "cell_type": "code",
   "execution_count": 35,
   "metadata": {},
   "outputs": [],
   "source": [
    "bill_text['app_first_word'] = bill_text.first_word.map(lambda x: 1 if x == 'Appropriates' else 0)"
   ]
  },
  {
   "cell_type": "code",
   "execution_count": 39,
   "metadata": {},
   "outputs": [],
   "source": [
    "bill_text['create_first_word'] = bill_text.first_word.map(lambda x: 1 if x == 'Creates' else 0)"
   ]
  },
  {
   "cell_type": "code",
   "execution_count": 36,
   "metadata": {},
   "outputs": [
    {
     "data": {
      "text/plain": [
       "0    1727\n",
       "1      21\n",
       "Name: app_first_word, dtype: int64"
      ]
     },
     "execution_count": 36,
     "metadata": {},
     "output_type": "execute_result"
    }
   ],
   "source": [
    "bill_text.app_first_word.value_counts()"
   ]
  },
  {
   "cell_type": "code",
   "execution_count": 40,
   "metadata": {},
   "outputs": [
    {
     "data": {
      "text/plain": [
       "<seaborn.axisgrid.PairGrid at 0x1531936b50>"
      ]
     },
     "execution_count": 40,
     "metadata": {},
     "output_type": "execute_result"
    },
    {
     "data": {
      "image/png": "[encoded data removed]",
      "text/plain": [
       "<Figure size 795x720 with 20 Axes>"
      ]
     },
     "metadata": {
      "needs_background": "light"
     },
     "output_type": "display_data"
    }
   ],
   "source": [
    "sns.pairplot(\n",
    "    bill_text[['amends_first_word', 'app_first_word', 'create_first_word', 'third_reading']],\n",
    "    hue='third_reading',\n",
    "    diag_kind='hist',\n",
    "    diag_kws={ 'alpha': 0.4 }\n",
    ")"
   ]
  },
  {
   "cell_type": "code",
   "execution_count": 25,
   "metadata": {},
   "outputs": [
    {
     "data": {
      "text/html": [
       "<div>\n",
       "<style scoped>\n",
       "    .dataframe tbody tr th:only-of-type {\n",
       "        vertical-align: middle;\n",
       "    }\n",
       "\n",
       "    .dataframe tbody tr th {\n",
       "        vertical-align: top;\n",
       "    }\n",
       "\n",
       "    .dataframe thead th {\n",
       "        text-align: right;\n",
       "    }\n",
       "</style>\n",
       "<table border=\"1\" class=\"dataframe\">\n",
       "  <thead>\n",
       "    <tr style=\"text-align: right;\">\n",
       "      <th></th>\n",
       "      <th>bill_id</th>\n",
       "      <th>third_reading</th>\n",
       "      <th>description</th>\n",
       "      <th>status_desc</th>\n",
       "      <th>first_word</th>\n",
       "      <th>amends_first_word</th>\n",
       "      <th>app_first_word</th>\n",
       "    </tr>\n",
       "  </thead>\n",
       "  <tbody>\n",
       "    <tr>\n",
       "      <th>84</th>\n",
       "      <td>918020</td>\n",
       "      <td>0</td>\n",
       "      <td>Appropriates $2 from the General Revenue Fund ...</td>\n",
       "      <td>Failed</td>\n",
       "      <td>Appropriates</td>\n",
       "      <td>1</td>\n",
       "      <td>0</td>\n",
       "    </tr>\n",
       "    <tr>\n",
       "      <th>212</th>\n",
       "      <td>918018</td>\n",
       "      <td>0</td>\n",
       "      <td>Appropriates $2 from the General Revenue Fund ...</td>\n",
       "      <td>Failed</td>\n",
       "      <td>Appropriates</td>\n",
       "      <td>1</td>\n",
       "      <td>0</td>\n",
       "    </tr>\n",
       "    <tr>\n",
       "      <th>510</th>\n",
       "      <td>917338</td>\n",
       "      <td>0</td>\n",
       "      <td>Appropriates $2 from the General Revenue Fund ...</td>\n",
       "      <td>Failed</td>\n",
       "      <td>Appropriates</td>\n",
       "      <td>1</td>\n",
       "      <td>0</td>\n",
       "    </tr>\n",
       "    <tr>\n",
       "      <th>722</th>\n",
       "      <td>917792</td>\n",
       "      <td>0</td>\n",
       "      <td>Appropriates $2 from the General Revenue Fund ...</td>\n",
       "      <td>Failed</td>\n",
       "      <td>Appropriates</td>\n",
       "      <td>1</td>\n",
       "      <td>0</td>\n",
       "    </tr>\n",
       "    <tr>\n",
       "      <th>728</th>\n",
       "      <td>917884</td>\n",
       "      <td>0</td>\n",
       "      <td>Appropriates $2 from the General Revenue Fund ...</td>\n",
       "      <td>Failed</td>\n",
       "      <td>Appropriates</td>\n",
       "      <td>1</td>\n",
       "      <td>0</td>\n",
       "    </tr>\n",
       "    <tr>\n",
       "      <th>769</th>\n",
       "      <td>917256</td>\n",
       "      <td>0</td>\n",
       "      <td>Appropriates $2 from the General Revenue Fund ...</td>\n",
       "      <td>Failed</td>\n",
       "      <td>Appropriates</td>\n",
       "      <td>1</td>\n",
       "      <td>0</td>\n",
       "    </tr>\n",
       "    <tr>\n",
       "      <th>771</th>\n",
       "      <td>917712</td>\n",
       "      <td>0</td>\n",
       "      <td>Appropriates $2 from the General Revenue Fund ...</td>\n",
       "      <td>Failed</td>\n",
       "      <td>Appropriates</td>\n",
       "      <td>1</td>\n",
       "      <td>0</td>\n",
       "    </tr>\n",
       "    <tr>\n",
       "      <th>843</th>\n",
       "      <td>917207</td>\n",
       "      <td>0</td>\n",
       "      <td>Appropriates $2 from the General Revenue Fund ...</td>\n",
       "      <td>Failed</td>\n",
       "      <td>Appropriates</td>\n",
       "      <td>1</td>\n",
       "      <td>0</td>\n",
       "    </tr>\n",
       "    <tr>\n",
       "      <th>882</th>\n",
       "      <td>917601</td>\n",
       "      <td>0</td>\n",
       "      <td>Appropriates $2 from the General Revenue Fund ...</td>\n",
       "      <td>Failed</td>\n",
       "      <td>Appropriates</td>\n",
       "      <td>1</td>\n",
       "      <td>0</td>\n",
       "    </tr>\n",
       "    <tr>\n",
       "      <th>995</th>\n",
       "      <td>917581</td>\n",
       "      <td>0</td>\n",
       "      <td>Appropriates $2 from the General Revenue Fund ...</td>\n",
       "      <td>Failed</td>\n",
       "      <td>Appropriates</td>\n",
       "      <td>1</td>\n",
       "      <td>0</td>\n",
       "    </tr>\n",
       "    <tr>\n",
       "      <th>1020</th>\n",
       "      <td>917809</td>\n",
       "      <td>0</td>\n",
       "      <td>Appropriates $2 from the General Revenue Fund ...</td>\n",
       "      <td>Failed</td>\n",
       "      <td>Appropriates</td>\n",
       "      <td>1</td>\n",
       "      <td>0</td>\n",
       "    </tr>\n",
       "    <tr>\n",
       "      <th>1055</th>\n",
       "      <td>917627</td>\n",
       "      <td>0</td>\n",
       "      <td>Appropriates $2 from the General Revenue Fund ...</td>\n",
       "      <td>Failed</td>\n",
       "      <td>Appropriates</td>\n",
       "      <td>1</td>\n",
       "      <td>0</td>\n",
       "    </tr>\n",
       "    <tr>\n",
       "      <th>1266</th>\n",
       "      <td>917501</td>\n",
       "      <td>0</td>\n",
       "      <td>Appropriates $2 from the General Revenue Fund ...</td>\n",
       "      <td>Failed</td>\n",
       "      <td>Appropriates</td>\n",
       "      <td>1</td>\n",
       "      <td>0</td>\n",
       "    </tr>\n",
       "    <tr>\n",
       "      <th>1297</th>\n",
       "      <td>917518</td>\n",
       "      <td>0</td>\n",
       "      <td>Appropriates $2 from the General Revenue Fund ...</td>\n",
       "      <td>Failed</td>\n",
       "      <td>Appropriates</td>\n",
       "      <td>1</td>\n",
       "      <td>0</td>\n",
       "    </tr>\n",
       "    <tr>\n",
       "      <th>1414</th>\n",
       "      <td>917483</td>\n",
       "      <td>0</td>\n",
       "      <td>Appropriates $2 from the General Revenue Fund ...</td>\n",
       "      <td>Failed</td>\n",
       "      <td>Appropriates</td>\n",
       "      <td>1</td>\n",
       "      <td>0</td>\n",
       "    </tr>\n",
       "    <tr>\n",
       "      <th>1481</th>\n",
       "      <td>917827</td>\n",
       "      <td>0</td>\n",
       "      <td>Appropriates $2 from the General Revenue Fund ...</td>\n",
       "      <td>Failed</td>\n",
       "      <td>Appropriates</td>\n",
       "      <td>1</td>\n",
       "      <td>0</td>\n",
       "    </tr>\n",
       "    <tr>\n",
       "      <th>1483</th>\n",
       "      <td>917721</td>\n",
       "      <td>0</td>\n",
       "      <td>Appropriates $2 from the General Revenue Fund ...</td>\n",
       "      <td>Failed</td>\n",
       "      <td>Appropriates</td>\n",
       "      <td>1</td>\n",
       "      <td>0</td>\n",
       "    </tr>\n",
       "    <tr>\n",
       "      <th>1644</th>\n",
       "      <td>917381</td>\n",
       "      <td>0</td>\n",
       "      <td>Appropriates $2 from the General Revenue Fund ...</td>\n",
       "      <td>Failed</td>\n",
       "      <td>Appropriates</td>\n",
       "      <td>1</td>\n",
       "      <td>0</td>\n",
       "    </tr>\n",
       "    <tr>\n",
       "      <th>1693</th>\n",
       "      <td>917634</td>\n",
       "      <td>0</td>\n",
       "      <td>Appropriates $2 from the General Revenue Fund ...</td>\n",
       "      <td>Failed</td>\n",
       "      <td>Appropriates</td>\n",
       "      <td>1</td>\n",
       "      <td>0</td>\n",
       "    </tr>\n",
       "    <tr>\n",
       "      <th>1716</th>\n",
       "      <td>917510</td>\n",
       "      <td>0</td>\n",
       "      <td>Appropriates $2 from the General Revenue Fund ...</td>\n",
       "      <td>Failed</td>\n",
       "      <td>Appropriates</td>\n",
       "      <td>1</td>\n",
       "      <td>0</td>\n",
       "    </tr>\n",
       "    <tr>\n",
       "      <th>1717</th>\n",
       "      <td>917187</td>\n",
       "      <td>0</td>\n",
       "      <td>Appropriates $2 from the General Revenue Fund ...</td>\n",
       "      <td>Failed</td>\n",
       "      <td>Appropriates</td>\n",
       "      <td>1</td>\n",
       "      <td>0</td>\n",
       "    </tr>\n",
       "  </tbody>\n",
       "</table>\n",
       "</div>"
      ],
      "text/plain": [
       "      bill_id  third_reading  \\\n",
       "84     918020              0   \n",
       "212    918018              0   \n",
       "510    917338              0   \n",
       "722    917792              0   \n",
       "728    917884              0   \n",
       "769    917256              0   \n",
       "771    917712              0   \n",
       "843    917207              0   \n",
       "882    917601              0   \n",
       "995    917581              0   \n",
       "1020   917809              0   \n",
       "1055   917627              0   \n",
       "1266   917501              0   \n",
       "1297   917518              0   \n",
       "1414   917483              0   \n",
       "1481   917827              0   \n",
       "1483   917721              0   \n",
       "1644   917381              0   \n",
       "1693   917634              0   \n",
       "1716   917510              0   \n",
       "1717   917187              0   \n",
       "\n",
       "                                            description status_desc  \\\n",
       "84    Appropriates $2 from the General Revenue Fund ...      Failed   \n",
       "212   Appropriates $2 from the General Revenue Fund ...      Failed   \n",
       "510   Appropriates $2 from the General Revenue Fund ...      Failed   \n",
       "722   Appropriates $2 from the General Revenue Fund ...      Failed   \n",
       "728   Appropriates $2 from the General Revenue Fund ...      Failed   \n",
       "769   Appropriates $2 from the General Revenue Fund ...      Failed   \n",
       "771   Appropriates $2 from the General Revenue Fund ...      Failed   \n",
       "843   Appropriates $2 from the General Revenue Fund ...      Failed   \n",
       "882   Appropriates $2 from the General Revenue Fund ...      Failed   \n",
       "995   Appropriates $2 from the General Revenue Fund ...      Failed   \n",
       "1020  Appropriates $2 from the General Revenue Fund ...      Failed   \n",
       "1055  Appropriates $2 from the General Revenue Fund ...      Failed   \n",
       "1266  Appropriates $2 from the General Revenue Fund ...      Failed   \n",
       "1297  Appropriates $2 from the General Revenue Fund ...      Failed   \n",
       "1414  Appropriates $2 from the General Revenue Fund ...      Failed   \n",
       "1481  Appropriates $2 from the General Revenue Fund ...      Failed   \n",
       "1483  Appropriates $2 from the General Revenue Fund ...      Failed   \n",
       "1644  Appropriates $2 from the General Revenue Fund ...      Failed   \n",
       "1693  Appropriates $2 from the General Revenue Fund ...      Failed   \n",
       "1716  Appropriates $2 from the General Revenue Fund ...      Failed   \n",
       "1717  Appropriates $2 from the General Revenue Fund ...      Failed   \n",
       "\n",
       "        first_word  amends_first_word  app_first_word  \n",
       "84    Appropriates                  1               0  \n",
       "212   Appropriates                  1               0  \n",
       "510   Appropriates                  1               0  \n",
       "722   Appropriates                  1               0  \n",
       "728   Appropriates                  1               0  \n",
       "769   Appropriates                  1               0  \n",
       "771   Appropriates                  1               0  \n",
       "843   Appropriates                  1               0  \n",
       "882   Appropriates                  1               0  \n",
       "995   Appropriates                  1               0  \n",
       "1020  Appropriates                  1               0  \n",
       "1055  Appropriates                  1               0  \n",
       "1266  Appropriates                  1               0  \n",
       "1297  Appropriates                  1               0  \n",
       "1414  Appropriates                  1               0  \n",
       "1481  Appropriates                  1               0  \n",
       "1483  Appropriates                  1               0  \n",
       "1644  Appropriates                  1               0  \n",
       "1693  Appropriates                  1               0  \n",
       "1716  Appropriates                  1               0  \n",
       "1717  Appropriates                  1               0  "
      ]
     },
     "execution_count": 25,
     "metadata": {},
     "output_type": "execute_result"
    }
   ],
   "source": [
    "bill_text[bill_text.first_word == 'Appropriates']"
   ]
  },
  {
   "cell_type": "code",
   "execution_count": null,
   "metadata": {},
   "outputs": [],
   "source": [
    "# first word doesn't matter\n",
    "# except that if it's \"Appropriates\" it never passed -> need to understand this better"
   ]
  },
  {
   "cell_type": "code",
   "execution_count": null,
   "metadata": {},
   "outputs": [],
   "source": []
  },
  {
   "cell_type": "code",
   "execution_count": null,
   "metadata": {},
   "outputs": [],
   "source": []
  },
  {
   "cell_type": "code",
   "execution_count": 45,
   "metadata": {},
   "outputs": [],
   "source": [
    "val = [12, 23, 1, 13, 13, 13]\n",
    "ids = [1, 2, 3, 4, 4, 4]"
   ]
  },
  {
   "cell_type": "code",
   "execution_count": 50,
   "metadata": {},
   "outputs": [
    {
     "data": {
      "text/plain": [
       "28.0"
      ]
     },
     "execution_count": 50,
     "metadata": {},
     "output_type": "execute_result"
    }
   ],
   "source": [
    "(sum(val) / 6) * 4"
   ]
  },
  {
   "cell_type": "code",
   "execution_count": 43,
   "metadata": {},
   "outputs": [
    {
     "data": {
      "text/plain": [
       "12.25"
      ]
     },
     "execution_count": 43,
     "metadata": {},
     "output_type": "execute_result"
    }
   ],
   "source": [
    "sum([12, 23, 1, 13]) / 4"
   ]
  },
  {
   "cell_type": "code",
   "execution_count": null,
   "metadata": {},
   "outputs": [],
   "source": []
  }
 ],
 "metadata": {
  "kernelspec": {
   "display_name": "Python [conda env:metis] *",
   "language": "python",
   "name": "conda-env-metis-py"
  },
  "language_info": {
   "codemirror_mode": {
    "name": "ipython",
    "version": 3
   },
   "file_extension": ".py",
   "mimetype": "text/x-python",
   "name": "python",
   "nbconvert_exporter": "python",
   "pygments_lexer": "ipython3",
   "version": "3.7.4"
  },
  "toc": {
   "base_numbering": 1,
   "nav_menu": {},
   "number_sections": true,
   "sideBar": true,
   "skip_h1_title": false,
   "title_cell": "Table of Contents",
   "title_sidebar": "Contents",
   "toc_cell": false,
   "toc_position": {},
   "toc_section_display": true,
   "toc_window_display": false
  }
 },
 "nbformat": 4,
 "nbformat_minor": 2
}
