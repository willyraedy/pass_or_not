{
 "cells": [
  {
   "cell_type": "code",
   "execution_count": 1,
   "metadata": {},
   "outputs": [],
   "source": [
    "import pandas as pd\n",
    "import matplotlib.pyplot as plt\n",
    "\n",
    "pd.set_option('display.max_rows', 150)"
   ]
  },
  {
   "cell_type": "code",
   "execution_count": null,
   "metadata": {},
   "outputs": [],
   "source": [
    "bills = pd.read_csv('./IL/2019-2020_101st_General_Assembly/csv/bills.csv')"
   ]
  },
  {
   "cell_type": "code",
   "execution_count": null,
   "metadata": {},
   "outputs": [],
   "source": [
    "df.info()"
   ]
  },
  {
   "cell_type": "code",
   "execution_count": null,
   "metadata": {},
   "outputs": [],
   "source": [
    "df.status_desc.value_counts()"
   ]
  },
  {
   "cell_type": "code",
   "execution_count": null,
   "metadata": {},
   "outputs": [],
   "source": [
    "non_memorial = df[~df.title.str.contains('MEMORIAL-')]"
   ]
  },
  {
   "cell_type": "code",
   "execution_count": null,
   "metadata": {},
   "outputs": [],
   "source": [
    "df[df.title.str.contains('MEMORIAL-')].sort_values('committee_id')[['committee_id', 'title', 'description', 'committee']]"
   ]
  },
  {
   "cell_type": "code",
   "execution_count": null,
   "metadata": {},
   "outputs": [],
   "source": [
    "non_memorial[non_memorial.title.str.contains('MEMORIAL')]"
   ]
  },
  {
   "cell_type": "code",
   "execution_count": null,
   "metadata": {},
   "outputs": [],
   "source": [
    "non_memorial.status_desc.value_counts()"
   ]
  },
  {
   "cell_type": "code",
   "execution_count": null,
   "metadata": {},
   "outputs": [],
   "source": []
  },
  {
   "cell_type": "code",
   "execution_count": null,
   "metadata": {},
   "outputs": [],
   "source": []
  },
  {
   "cell_type": "code",
   "execution_count": null,
   "metadata": {},
   "outputs": [],
   "source": []
  },
  {
   "cell_type": "code",
   "execution_count": null,
   "metadata": {},
   "outputs": [],
   "source": [
    "history = pd.read_csv('./IL/2019-2020_101st_General_Assembly/csv/history.csv')"
   ]
  },
  {
   "cell_type": "code",
   "execution_count": null,
   "metadata": {},
   "outputs": [],
   "source": [
    "history.info()"
   ]
  },
  {
   "cell_type": "code",
   "execution_count": null,
   "metadata": {},
   "outputs": [],
   "source": [
    "history.groupby('bill_id').agg({'sequence': 'max'})"
   ]
  },
  {
   "cell_type": "code",
   "execution_count": null,
   "metadata": {},
   "outputs": [],
   "source": []
  },
  {
   "cell_type": "code",
   "execution_count": null,
   "metadata": {},
   "outputs": [],
   "source": [
    "roll_calls = pd.read_csv('./IL/2019-2020_101st_General_Assembly/csv/rollcalls.csv')"
   ]
  },
  {
   "cell_type": "code",
   "execution_count": null,
   "metadata": {},
   "outputs": [],
   "source": [
    "roll_calls.info()"
   ]
  },
  {
   "cell_type": "code",
   "execution_count": null,
   "metadata": {},
   "outputs": [],
   "source": [
    "roll_calls.description.value_counts()"
   ]
  },
  {
   "cell_type": "code",
   "execution_count": null,
   "metadata": {},
   "outputs": [],
   "source": [
    "at_least_one_nay = roll_calls[roll_calls.nay > 0]"
   ]
  },
  {
   "cell_type": "code",
   "execution_count": null,
   "metadata": {},
   "outputs": [],
   "source": [
    "roll_calls[(roll_calls.yea + roll_calls.nay + roll_calls.nv + roll_calls.absent) == roll_calls.total]"
   ]
  },
  {
   "cell_type": "code",
   "execution_count": null,
   "metadata": {},
   "outputs": [],
   "source": [
    "roll_calls[roll_calls.chamber == 'Senate'].nv.value_counts()"
   ]
  },
  {
   "cell_type": "code",
   "execution_count": null,
   "metadata": {},
   "outputs": [],
   "source": [
    "roll_calls.chamber.value_counts()"
   ]
  },
  {
   "cell_type": "code",
   "execution_count": null,
   "metadata": {},
   "outputs": [],
   "source": []
  },
  {
   "cell_type": "code",
   "execution_count": null,
   "metadata": {},
   "outputs": [],
   "source": []
  },
  {
   "cell_type": "code",
   "execution_count": null,
   "metadata": {},
   "outputs": [],
   "source": [
    "at_least_one_nay = at_least_one_nay.merge(df, on='bill_id')"
   ]
  },
  {
   "cell_type": "code",
   "execution_count": null,
   "metadata": {},
   "outputs": [],
   "source": [
    "at_least_one_nay.info()"
   ]
  },
  {
   "cell_type": "code",
   "execution_count": null,
   "metadata": {},
   "outputs": [],
   "source": [
    "at_least_one_nay[at_least_one_nay.yea < at_least_one_nay.nay].shape"
   ]
  },
  {
   "cell_type": "code",
   "execution_count": null,
   "metadata": {},
   "outputs": [],
   "source": [
    "senate_bills = non_memorial[non_memorial.bill_number.str.contains('SB')]"
   ]
  },
  {
   "cell_type": "code",
   "execution_count": null,
   "metadata": {},
   "outputs": [],
   "source": [
    "senate_roll_calls = roll_calls[roll_calls.chamber == 'Senate']"
   ]
  },
  {
   "cell_type": "code",
   "execution_count": null,
   "metadata": {},
   "outputs": [],
   "source": [
    "senate_merged = senate_bills.merge(senate_roll_calls[['bill_id', 'roll_call_id']], on='bill_id', how='left')"
   ]
  },
  {
   "cell_type": "code",
   "execution_count": null,
   "metadata": {},
   "outputs": [],
   "source": [
    "senate_merged.shape"
   ]
  },
  {
   "cell_type": "code",
   "execution_count": null,
   "metadata": {},
   "outputs": [],
   "source": [
    "senate_merged.drop_duplicates(subset='bill_id').info()"
   ]
  },
  {
   "cell_type": "code",
   "execution_count": null,
   "metadata": {},
   "outputs": [],
   "source": [
    "house_bills = non_memorial[non_memorial.bill_number.str.contains('HB')]\n",
    "house_roll_calls = roll_calls[roll_calls.chamber == 'House']\n",
    "house_merged = house_bills.merge(house_roll_calls[['bill_id', 'roll_call_id']], on='bill_id', how='left')\n",
    "house_merged.drop_duplicates(subset='bill_id').roll_call_id.isna().some()"
   ]
  },
  {
   "cell_type": "code",
   "execution_count": null,
   "metadata": {},
   "outputs": [],
   "source": []
  },
  {
   "cell_type": "code",
   "execution_count": null,
   "metadata": {},
   "outputs": [],
   "source": []
  },
  {
   "cell_type": "code",
   "execution_count": null,
   "metadata": {},
   "outputs": [],
   "source": []
  },
  {
   "cell_type": "code",
   "execution_count": null,
   "metadata": {},
   "outputs": [],
   "source": []
  },
  {
   "cell_type": "code",
   "execution_count": null,
   "metadata": {},
   "outputs": [],
   "source": []
  },
  {
   "cell_type": "code",
   "execution_count": null,
   "metadata": {},
   "outputs": [],
   "source": []
  },
  {
   "cell_type": "code",
   "execution_count": null,
   "metadata": {},
   "outputs": [],
   "source": []
  },
  {
   "cell_type": "code",
   "execution_count": null,
   "metadata": {},
   "outputs": [],
   "source": []
  },
  {
   "cell_type": "code",
   "execution_count": null,
   "metadata": {},
   "outputs": [],
   "source": []
  },
  {
   "cell_type": "code",
   "execution_count": null,
   "metadata": {},
   "outputs": [],
   "source": []
  },
  {
   "cell_type": "code",
   "execution_count": null,
   "metadata": {},
   "outputs": [],
   "source": [
    "def get_percent_roll_call(bills_raw, roll_calls):\n",
    "    bills = bills_raw[~bills_raw.title.str.contains('MEMORIAL-')]\n",
    "    \n",
    "    sen_bills = bills[bills.bill_number.str.contains('SB')]\n",
    "    sen_roll_calls = roll_calls[roll_calls.chamber == 'Senate']\n",
    "    sen_merged = sen_bills.merge(sen_roll_calls[['bill_id', 'roll_call_id', 'nay']], on='bill_id', how='left')\n",
    "    sen = sen_merged.drop_duplicates(subset='bill_id')\n",
    "    sen_with_roll = sen[sen.roll_call_id.isna()].shape[0]\n",
    "    print('Senate Percentage', sen_with_roll / sen.shape[0])\n",
    "    \n",
    "    house_bills = bills[bills.bill_number.str.contains('HB')]\n",
    "    house_roll_calls = roll_calls[roll_calls.chamber == 'House']\n",
    "    house_merged = house_bills.merge(house_roll_calls[['bill_id', 'roll_call_id', 'nay']], on='bill_id', how='left')\n",
    "    house = house_merged.drop_duplicates(subset='bill_id')\n",
    "    house_with_roll = house[house.roll_call_id.isna()].shape[0]\n",
    "    print('House Percentage', house_with_roll / house.shape[0])\n",
    "    \n",
    "    print('Total:', (house_with_roll + sen_with_roll) / (house.shape[0] + sen.shape[0]))\n",
    "    \n",
    "    "
   ]
  },
  {
   "cell_type": "code",
   "execution_count": null,
   "metadata": {},
   "outputs": [],
   "source": [
    "roll_calls_101 = pd.read_csv('./IL/2019-2020_101st_General_Assembly/csv/rollcalls.csv')\n",
    "bills_101 = pd.read_csv('./IL/2019-2020_101st_General_Assembly/csv/bills.csv')\n",
    "bills_101 = bills_101[~bills_101.title.str.contains('MEMORIAL-')]\n",
    "roll_calls_101.drop_duplicates(subset='bill_id').shape[0] / bills_101.drop_duplicates(subset=['bill_id']).shape[0]"
   ]
  },
  {
   "cell_type": "code",
   "execution_count": null,
   "metadata": {
    "scrolled": true
   },
   "outputs": [],
   "source": [
    "roll_calls_100 = pd.read_csv('./IL/2017-2018_100th_General_Assembly/csv/rollcalls.csv')\n",
    "bills_100 = pd.read_csv('./IL/2017-2018_100th_General_Assembly/csv/bills.csv')\n",
    "bills_100 = bills_100[~bills_100.title.str.contains('MEMORIAL-')]\n",
    "roll_calls_100.drop_duplicates(subset='bill_id').shape[0] / bills_100.drop_duplicates(subset=['bill_number']).shape[0]"
   ]
  },
  {
   "cell_type": "code",
   "execution_count": null,
   "metadata": {},
   "outputs": [],
   "source": [
    "roll_calls_99 = pd.read_csv('./IL/2015-2016_99th_General_Assembly/csv/rollcalls.csv')\n",
    "bills_99 = pd.read_csv('./IL/2015-2016_99th_General_Assembly/csv/bills.csv')\n",
    "bills_99 = bills_99[~bills_99.title.str.contains('MEMORIAL-')]\n",
    "roll_calls_99.drop_duplicates(subset='bill_id').shape[0] / bills_99.drop_duplicates(subset=['bill_number']).shape[0]"
   ]
  },
  {
   "cell_type": "code",
   "execution_count": null,
   "metadata": {},
   "outputs": [],
   "source": [
    "history_100 = pd.read_csv('./IL/2017-2018_100th_General_Assembly/csv/history.csv')\n",
    "fluff_bills = bills_100[bills_100.description.str.startswith('Mourns') | bills_100.description.str.startswith('Congratulates')]\n",
    "# history_100 = history_100[]"
   ]
  },
  {
   "cell_type": "code",
   "execution_count": null,
   "metadata": {},
   "outputs": [],
   "source": [
    "bills_100.drop_duplicates(subset=['bill_number']).shape"
   ]
  },
  {
   "cell_type": "code",
   "execution_count": null,
   "metadata": {},
   "outputs": [],
   "source": [
    "first = history_100[(history_100.chamber == 'Senate') & history_100.action.str.contains('First Reading') & ~history_100.bill_id.isin(fluff_bills.bill_number)].drop_duplicates(subset=['bill_id'])\n",
    "second = history_100[(history_100.chamber == 'Senate') & history_100.action.str.contains('Second Reading') & ~history_100.bill_id.isin(fluff_bills.bill_number)].drop_duplicates(subset=['bill_id'])\n",
    "third = history_100[(history_100.chamber == 'Senate') & history_100.action.str.contains('Third Reading') & ~history_100.bill_id.isin(fluff_bills.bill_number)].drop_duplicates(subset=['bill_id'])\n"
   ]
  },
  {
   "cell_type": "code",
   "execution_count": null,
   "metadata": {},
   "outputs": [],
   "source": [
    "first.shape"
   ]
  },
  {
   "cell_type": "code",
   "execution_count": null,
   "metadata": {},
   "outputs": [],
   "source": [
    "second.shape"
   ]
  },
  {
   "cell_type": "code",
   "execution_count": null,
   "metadata": {},
   "outputs": [],
   "source": [
    "third.shape"
   ]
  },
  {
   "cell_type": "code",
   "execution_count": null,
   "metadata": {},
   "outputs": [],
   "source": [
    "first.sequence.mean()"
   ]
  },
  {
   "cell_type": "code",
   "execution_count": null,
   "metadata": {},
   "outputs": [],
   "source": [
    "second.sequence.mean()"
   ]
  },
  {
   "cell_type": "code",
   "execution_count": null,
   "metadata": {},
   "outputs": [],
   "source": [
    "second.sequence.std()"
   ]
  },
  {
   "cell_type": "code",
   "execution_count": null,
   "metadata": {},
   "outputs": [],
   "source": [
    "third.sequence.mean()"
   ]
  },
  {
   "cell_type": "code",
   "execution_count": null,
   "metadata": {},
   "outputs": [],
   "source": [
    "third.sequence.std()"
   ]
  },
  {
   "cell_type": "code",
   "execution_count": null,
   "metadata": {},
   "outputs": [],
   "source": [
    "bills_100[bills_100.bill_number.isin(third.bill_id)][['title', 'description']].sample(50)"
   ]
  },
  {
   "cell_type": "code",
   "execution_count": null,
   "metadata": {},
   "outputs": [],
   "source": [
    "bills_100['first_word'] = bills_100.description.map(lambda s: s.split(' ')[0])"
   ]
  },
  {
   "cell_type": "code",
   "execution_count": null,
   "metadata": {},
   "outputs": [],
   "source": [
    "bills_100.first_word.value_counts()"
   ]
  },
  {
   "cell_type": "code",
   "execution_count": null,
   "metadata": {},
   "outputs": [],
   "source": []
  },
  {
   "cell_type": "markdown",
   "metadata": {},
   "source": [
    "# What happens btwn 2nd and 3rd Reading?"
   ]
  },
  {
   "cell_type": "code",
   "execution_count": null,
   "metadata": {},
   "outputs": [],
   "source": [
    "history_100.action.value_counts()[0:80]"
   ]
  },
  {
   "cell_type": "code",
   "execution_count": null,
   "metadata": {},
   "outputs": [],
   "source": [
    "history_100.bill_id"
   ]
  },
  {
   "cell_type": "code",
   "execution_count": null,
   "metadata": {},
   "outputs": [],
   "source": [
    "bills_ids_with_third_readings = history_100[history_100.action.str.contains('Third Reading')].bill_id\n",
    "bills_started_in_senate = history_100[(history_100.sequence == 1) & (history_100.chamber == 'Senate')].bill_id"
   ]
  },
  {
   "cell_type": "code",
   "execution_count": null,
   "metadata": {},
   "outputs": [],
   "source": [
    "history_100[\n",
    "    history_100.bill_id.isin(bills_ids_with_third_readings) &\n",
    "    history_100.bill_id.isin(bills_started_in_senate) &\n",
    "    (history_100.chamber == 'Senate') &\n",
    "    (history_100.bill_id == 908098)\n",
    "].groupby(['bill_id', 'chamber', 'sequence']).agg('last').head(150)"
   ]
  },
  {
   "cell_type": "code",
   "execution_count": null,
   "metadata": {},
   "outputs": [],
   "source": [
    "bills_ids_with_second_readings = history_100[history_100.action.str.contains('Second Reading')].bill_id\n",
    "sen_only = history_100[\n",
    "    history_100.bill_id.isin(bills_ids_with_second_readings) &\n",
    "    history_100.bill_id.isin(bills_started_in_senate) &\n",
    "    (history_100.chamber == 'Senate')\n",
    "]"
   ]
  },
  {
   "cell_type": "code",
   "execution_count": null,
   "metadata": {},
   "outputs": [],
   "source": [
    "bill_id_second_sequence = sen_only[sen_only.action.str.startswith('Second Reading')][['bill_id', 'sequence']]\n",
    "bill_id_second_sequence = bill_id_second_sequence.rename(columns={'sequence': 'second_seq'})\n",
    "bill_id_second_sequence = bill_id_second_sequence.groupby('bill_id').agg('last').reset_index()"
   ]
  },
  {
   "cell_type": "code",
   "execution_count": null,
   "metadata": {},
   "outputs": [],
   "source": [
    "bill_id_third_sequence = sen_only[sen_only.action.str.startswith('Third Reading')][['bill_id', 'sequence']]\n",
    "bill_id_third_sequence = bill_id_third_sequence.rename(columns={'sequence': 'third_seq'})\n",
    "bill_id_third_sequence = bill_id_third_sequence.groupby('bill_id').agg('last').reset_index()\n",
    "# sen_only['second_seq'] = sen_only.groupby('bill_id')"
   ]
  },
  {
   "cell_type": "code",
   "execution_count": null,
   "metadata": {},
   "outputs": [],
   "source": [
    "sen_only = sen_only.merge(bill_id_second_sequence, on='bill_id', how='left').merge(bill_id_third_sequence, on='bill_id', how='left')\n"
   ]
  },
  {
   "cell_type": "code",
   "execution_count": null,
   "metadata": {},
   "outputs": [],
   "source": [
    "sen_only['sec_third_action_diff'] = sen_only.third_seq - sen_only.second_seq"
   ]
  },
  {
   "cell_type": "code",
   "execution_count": null,
   "metadata": {},
   "outputs": [],
   "source": [
    "sen_only.sec_third_action_diff.describe()"
   ]
  },
  {
   "cell_type": "code",
   "execution_count": null,
   "metadata": {},
   "outputs": [],
   "source": [
    "len(sen_only[~sen_only.second_seq.isna()].bill_id.unique())"
   ]
  },
  {
   "cell_type": "code",
   "execution_count": null,
   "metadata": {},
   "outputs": [],
   "source": [
    "len(sen_only[~sen_only.third_seq.isna()].bill_id.unique())"
   ]
  },
  {
   "cell_type": "code",
   "execution_count": null,
   "metadata": {},
   "outputs": [],
   "source": [
    "sen_only['max_seq'] = sen_only.groupby('bill_id').sequence.transform('last')"
   ]
  },
  {
   "cell_type": "code",
   "execution_count": null,
   "metadata": {},
   "outputs": [],
   "source": [
    "sen_only.head()"
   ]
  },
  {
   "cell_type": "code",
   "execution_count": null,
   "metadata": {},
   "outputs": [],
   "source": [
    "sen_only['perc_btwn_second_third'] = sen_only.sec_third_action_diff / sen_only.max_seq"
   ]
  },
  {
   "cell_type": "code",
   "execution_count": null,
   "metadata": {},
   "outputs": [],
   "source": [
    "sen_only.groupby('bill_id').agg({ 'perc_btwn_second_third': 'last'}).reset_index().perc_btwn_second_third"
   ]
  },
  {
   "cell_type": "code",
   "execution_count": null,
   "metadata": {},
   "outputs": [],
   "source": [
    "plt.hist(sen_only.groupby('bill_id').agg({ 'perc_btwn_second_third': 'last'}).reset_index().perc_btwn_second_third)\n",
    "plt.title('Percent of actions that happened btwn second and third readings');"
   ]
  },
  {
   "cell_type": "code",
   "execution_count": null,
   "metadata": {},
   "outputs": [],
   "source": [
    "sen_only['before_second'] = sen_only.sequence < sen_only.second_seq"
   ]
  },
  {
   "cell_type": "code",
   "execution_count": null,
   "metadata": {},
   "outputs": [],
   "source": [
    "sen_only['perc_before_second'] = (sen_only.second_seq - 1) / sen_only.max_seq"
   ]
  },
  {
   "cell_type": "code",
   "execution_count": null,
   "metadata": {},
   "outputs": [],
   "source": [
    "plt.hist(sen_only.groupby('bill_id').agg({ 'perc_before_second': 'last'}).reset_index().perc_before_second)\n",
    "plt.title('Percent of actions before Second Reading');"
   ]
  },
  {
   "cell_type": "code",
   "execution_count": null,
   "metadata": {},
   "outputs": [],
   "source": [
    "sen_only['perc_after_third'] = (sen_only.max_seq - sen_only.third_seq) / sen_only.max_seq"
   ]
  },
  {
   "cell_type": "code",
   "execution_count": null,
   "metadata": {},
   "outputs": [],
   "source": [
    "plt.hist(sen_only.groupby('bill_id').agg({ 'perc_after_third': 'last'}).reset_index().perc_after_third)\n",
    "plt.title('Percent of actions After Third Reading');"
   ]
  },
  {
   "cell_type": "code",
   "execution_count": null,
   "metadata": {},
   "outputs": [],
   "source": [
    "sen_only['ratio_before_btwn'] = sen_only.perc_before_second / sen_only.perc_btwn_second_third"
   ]
  },
  {
   "cell_type": "code",
   "execution_count": null,
   "metadata": {},
   "outputs": [],
   "source": [
    "plt.hist(sen_only.groupby('bill_id').agg({ 'ratio_before_btwn': 'last'}).reset_index().ratio_before_btwn, bins=21)\n",
    "plt.title('Ratio of Before 2nd and Between Third');"
   ]
  },
  {
   "cell_type": "code",
   "execution_count": null,
   "metadata": {},
   "outputs": [],
   "source": [
    "sen_only['ratio_before_btwn'].describe([.1, .15, .25, .5, .75, .9])"
   ]
  },
  {
   "cell_type": "code",
   "execution_count": null,
   "metadata": {},
   "outputs": [],
   "source": [
    "sen_only['ratio_before_btwn'].quantile(.17)"
   ]
  },
  {
   "cell_type": "code",
   "execution_count": null,
   "metadata": {},
   "outputs": [],
   "source": [
    "by_bill = sen_only.groupby('bill_id').agg({ 'ratio_before_btwn': 'last'}).reset_index()"
   ]
  },
  {
   "cell_type": "code",
   "execution_count": null,
   "metadata": {},
   "outputs": [],
   "source": [
    "by_bill.ratio_before_btwn.describe()"
   ]
  },
  {
   "cell_type": "code",
   "execution_count": null,
   "metadata": {},
   "outputs": [],
   "source": [
    "sen_by_bill = sen_only.groupby('bill_id').agg('last')"
   ]
  },
  {
   "cell_type": "code",
   "execution_count": null,
   "metadata": {},
   "outputs": [],
   "source": [
    "sen_by_bill.shape"
   ]
  },
  {
   "cell_type": "code",
   "execution_count": null,
   "metadata": {},
   "outputs": [],
   "source": [
    "sen_by_bill[~sen_by_bill.third_seq.isna()].shape"
   ]
  },
  {
   "cell_type": "code",
   "execution_count": null,
   "metadata": {},
   "outputs": [],
   "source": [
    "883 / 1748"
   ]
  },
  {
   "cell_type": "code",
   "execution_count": null,
   "metadata": {},
   "outputs": [],
   "source": []
  }
 ],
 "metadata": {
  "kernelspec": {
   "display_name": "Python [conda env:metis] *",
   "language": "python",
   "name": "conda-env-metis-py"
  },
  "language_info": {
   "codemirror_mode": {
    "name": "ipython",
    "version": 3
   },
   "file_extension": ".py",
   "mimetype": "text/x-python",
   "name": "python",
   "nbconvert_exporter": "python",
   "pygments_lexer": "ipython3",
   "version": "3.7.4"
  },
  "toc": {
   "base_numbering": 1,
   "nav_menu": {},
   "number_sections": true,
   "sideBar": true,
   "skip_h1_title": false,
   "title_cell": "Table of Contents",
   "title_sidebar": "Contents",
   "toc_cell": false,
   "toc_position": {},
   "toc_section_display": true,
   "toc_window_display": false
  }
 },
 "nbformat": 4,
 "nbformat_minor": 2
}
