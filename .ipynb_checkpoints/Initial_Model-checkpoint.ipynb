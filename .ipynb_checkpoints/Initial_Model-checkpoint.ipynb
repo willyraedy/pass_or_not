{
 "cells": [
  {
   "cell_type": "markdown",
   "metadata": {},
   "source": [
    "Plan\n",
    "\n",
    "- Make a pipeline to get the data in to a sql database\n",
    "- Subset to just the bills introduced in the senate\n",
    "    - Actions up to the first third reading\n",
    "- Create the following features\n",
    "    - Madigan or not\n",
    "    - chief sponsor\n",
    "    - number of co sponsors\n",
    "    - committee it was in\n",
    "    - perhaps how long something took (intro to second reading)\n",
    "    - first word in description\n",
    "    - "
   ]
  },
  {
   "cell_type": "markdown",
   "metadata": {},
   "source": [
    "# Put Data In DB"
   ]
  },
  {
   "cell_type": "code",
   "execution_count": 374,
   "metadata": {},
   "outputs": [],
   "source": [
    "import pandas as pd\n",
    "import seaborn as sns\n",
    "import numpy as np\n",
    "from fuzzywuzzy import fuzz\n",
    "from sklearn.preprocessing import StandardScaler\n",
    "import re\n",
    "from bs4 import BeautifulSoup\n",
    "import requests\n",
    "import time\n",
    "import matplotlib.pyplot as plt\n",
    "\n",
    "pd.set_option('display.max_rows', 80)"
   ]
  },
  {
   "cell_type": "code",
   "execution_count": 2,
   "metadata": {},
   "outputs": [],
   "source": [
    "bills = pd.read_csv('./data/IL/2017-2018_100th_General_Assembly/csv/bills.csv')"
   ]
  },
  {
   "cell_type": "code",
   "execution_count": 3,
   "metadata": {},
   "outputs": [],
   "source": [
    "bills = bills.rename(columns={ 'bill_id': 'session_id', 'session_id': 'bill_number', 'bill_number': 'bill_id' })"
   ]
  },
  {
   "cell_type": "code",
   "execution_count": 4,
   "metadata": {},
   "outputs": [],
   "source": [
    "bills.to_csv('./data/IL/2017-2018_100th_General_Assembly/csv/bills_renamed.csv')"
   ]
  },
  {
   "cell_type": "code",
   "execution_count": 5,
   "metadata": {},
   "outputs": [],
   "source": [
    "from sqlalchemy import create_engine\n",
    "engine = create_engine('postgresql://localhost:5432/ill_leg', echo=False)"
   ]
  },
  {
   "cell_type": "code",
   "execution_count": null,
   "metadata": {},
   "outputs": [],
   "source": [
    "# bills.to_sql('bill', con=engine)"
   ]
  },
  {
   "cell_type": "code",
   "execution_count": null,
   "metadata": {},
   "outputs": [],
   "source": [
    "history = pd.read_csv('./data/IL/2017-2018_100th_General_Assembly/csv/history.csv').to_sql('history', con=engine)\n",
    "# people = pd.read_csv('./data/IL/2017-2018_100th_General_Assembly/csv/people.csv')\n",
    "# roll_calls = pd.read_csv('./data/IL/2017-2018_100th_General_Assembly/csv/rollcalls.csv')\n",
    "# sponsors = pd.read_csv('./data/IL/2017-2018_100th_General_Assembly/csv/sponsors.csv')\n",
    "# votes = pd.read_csv('./data/IL/2017-2018_100th_General_Assembly/csv/votes.csv')"
   ]
  },
  {
   "cell_type": "code",
   "execution_count": null,
   "metadata": {},
   "outputs": [],
   "source": [
    "# for name, df in zip(['history', 'people', 'roll_call', 'sponsor', 'vote'],[history, people, roll_calls, sponsors, votes]):\n",
    "#     df.to_sql(name, con=engine)"
   ]
  },
  {
   "cell_type": "markdown",
   "metadata": {},
   "source": [
    "# Fetch Data"
   ]
  },
  {
   "cell_type": "code",
   "execution_count": null,
   "metadata": {},
   "outputs": [],
   "source": [
    "# Limit to just bills from this year that started in the Senate and got to a second reading\n",
    "query_bills = \"\"\"\n",
    "    with started_senate as (\n",
    "        select b.bill_id from bill b\n",
    "        join history h on h.bill_id = b.bill_id\n",
    "        where h.sequence = 1 and h.chamber = 'Senate'\n",
    "    ), had_sec_read as (\n",
    "        select b.bill_id from bill b\n",
    "        join history h on h.bill_id = b.bill_id\n",
    "        where h.action like 'Second Reading'\n",
    "    )\n",
    "    select * from bill\n",
    "    where bill_id in (\n",
    "        select * from started_senate\n",
    "    ) and bill_id in (\n",
    "        select * from had_sec_read\n",
    "    );\n",
    "\"\"\"\n",
    "\n",
    "bills = pd.read_sql(query_bills, con=engine)"
   ]
  },
  {
   "cell_type": "code",
   "execution_count": null,
   "metadata": {},
   "outputs": [],
   "source": [
    "bills = bills.drop(columns=['index'])"
   ]
  },
  {
   "cell_type": "markdown",
   "metadata": {},
   "source": [
    "# Remove Trivial Resolutions"
   ]
  },
  {
   "cell_type": "code",
   "execution_count": null,
   "metadata": {},
   "outputs": [],
   "source": [
    "bills = bills[~bills.last_action.str.contains('Resolution Adopted')]"
   ]
  },
  {
   "cell_type": "code",
   "execution_count": null,
   "metadata": {},
   "outputs": [],
   "source": [
    "bills.status_desc.value_counts()"
   ]
  },
  {
   "cell_type": "code",
   "execution_count": null,
   "metadata": {},
   "outputs": [],
   "source": [
    "526 / (526 + 1194)\n",
    "# Passing percentage of non-resolution bills that get a second reading"
   ]
  },
  {
   "cell_type": "markdown",
   "metadata": {},
   "source": [
    "# Explore Failures"
   ]
  },
  {
   "cell_type": "code",
   "execution_count": null,
   "metadata": {},
   "outputs": [],
   "source": [
    "bills[bills.status_desc == 'Failed'].last_action.value_counts()\n",
    "# evertything dies or is vetoed by gov (for the most part)\n",
    "# only 8 things lost a senate vote (and one of those passed)\n",
    "# vetoed is also a status (seems inconsistent - perhaps vetoed mean line item veto'd?)\n",
    "# most of the hanging \"introduced\" bills had failed votes (4 introduced, 2 engrossed)"
   ]
  },
  {
   "cell_type": "code",
   "execution_count": null,
   "metadata": {},
   "outputs": [],
   "source": [
    "bills.status_desc.value_counts()"
   ]
  },
  {
   "cell_type": "code",
   "execution_count": 381,
   "metadata": {},
   "outputs": [],
   "source": [
    "def clean_bills(df):\n",
    "    df = df[~df.last_action.str.contains('Resolution Adopted')].drop_duplicates(subset=['bill_id'])\n",
    "    df.third_reading = df.third_reading.map(lambda x: 1 if x else 0)\n",
    "    df.sponsor_count = df.sponsor_count.fillna(0)\n",
    "    return df"
   ]
  },
  {
   "cell_type": "markdown",
   "metadata": {},
   "source": [
    "# Get Ideology Data"
   ]
  },
  {
   "cell_type": "code",
   "execution_count": 13,
   "metadata": {},
   "outputs": [],
   "source": [
    "ideology = pd.read_stata('./data/shor+mccarty+1993-2016+individual+legislator+data+May+2018+release+(Updated+July+2018).dta')"
   ]
  },
  {
   "cell_type": "code",
   "execution_count": 17,
   "metadata": {},
   "outputs": [],
   "source": [
    "sen_ideol = ideology[[\n",
    "    'name',\n",
    "    'party',\n",
    "    'st',\n",
    "    'st_id',\n",
    "    'np_score',\n",
    "    'senate2015',\n",
    "    'senate2016',\n",
    "    'sdistrict2015',\n",
    "    'sdistrict2016'\n",
    "]]"
   ]
  },
  {
   "cell_type": "code",
   "execution_count": 22,
   "metadata": {},
   "outputs": [],
   "source": [
    "ill_sen_ideol = sen_ideol[sen_ideol.st == 'IL'].dropna(subset=['senate2015', 'senate2016', 'sdistrict2015', 'sdistrict2016'], how='all')"
   ]
  },
  {
   "cell_type": "code",
   "execution_count": 37,
   "metadata": {},
   "outputs": [],
   "source": [
    "ill_sen_ideol = ill_sen_ideol.replace(to_replace='', value=np.nan)"
   ]
  },
  {
   "cell_type": "code",
   "execution_count": 40,
   "metadata": {},
   "outputs": [],
   "source": [
    "query_senators = \"\"\"\n",
    "    select * from people p\n",
    "    where role = 'Sen'\n",
    "\"\"\"\n",
    "\n",
    "people = pd.read_sql(query_senators, con=engine)"
   ]
  },
  {
   "cell_type": "code",
   "execution_count": 55,
   "metadata": {},
   "outputs": [],
   "source": [
    "ill_sen_ideol['first_last'] = ill_sen_ideol.name.map(lambda x: x.split(', ')[1] + ' ' + x.split(', ')[0])"
   ]
  },
  {
   "cell_type": "code",
   "execution_count": 108,
   "metadata": {},
   "outputs": [],
   "source": [
    "def find_best_sen_match(first_last):\n",
    "    sim_scores = people.name.map(lambda x: fuzz.token_set_ratio(x, first_last))\n",
    "    if sim_scores.max() < 80:\n",
    "        return np.nan\n",
    "    return people.loc[sim_scores.idxmax(), 'people_id']"
   ]
  },
  {
   "cell_type": "code",
   "execution_count": 109,
   "metadata": {},
   "outputs": [],
   "source": [
    "ill_sen_ideol['people_id'] = ill_sen_ideol.first_last.map(find_best_sen_match)"
   ]
  },
  {
   "cell_type": "code",
   "execution_count": 118,
   "metadata": {},
   "outputs": [],
   "source": [
    "ill_sen_ideol.people_id = ill_sen_ideol.people_id.astype('Int32')"
   ]
  },
  {
   "cell_type": "code",
   "execution_count": 119,
   "metadata": {},
   "outputs": [],
   "source": [
    "ill_sen_ideol.loc[ill_sen_ideol.first_last == 'Patricia Van Pelt', 'people_id'] = 14324\n",
    "ill_sen_ideol.loc[ill_sen_ideol.first_last == 'William Jr. Brady', 'people_id'] = 1052"
   ]
  },
  {
   "cell_type": "code",
   "execution_count": null,
   "metadata": {},
   "outputs": [],
   "source": [
    "# ill_sen_ideol.to_sql('ideology', con=engine)"
   ]
  },
  {
   "cell_type": "markdown",
   "metadata": {},
   "source": [
    "# Number of Co-sponsors at Second Reading"
   ]
  },
  {
   "cell_type": "code",
   "execution_count": 382,
   "metadata": {},
   "outputs": [],
   "source": [
    "query_sponsors_at_second = \"\"\"\n",
    "    with started_senate as (\n",
    "        select b.bill_id from bill b\n",
    "        join history h on h.bill_id = b.bill_id\n",
    "        where h.sequence = 1 and h.chamber = 'Senate'\n",
    "    ), had_sec_read as (\n",
    "        select b.bill_id from bill b\n",
    "        join history h on h.bill_id = b.bill_id\n",
    "        where h.action like 'Second Reading'\n",
    "    ), num_sponsors_at_sec as (\n",
    "    \tselect b.bill_id, count(h.action) as sponsor_count\n",
    "    \tfrom bill b\n",
    "    \tjoin history hs on hs.bill_id = b.bill_id and hs.action ~* '^second reading'\n",
    "    \tjoin history h on h.bill_id = b.bill_id\n",
    "    \twhere h.action ~* 'sponsor' and h.action ~* 'added' and h.sequence < hs.sequence\n",
    "    \tgroup by b.bill_id\n",
    "    )\n",
    "    select b.*, n.sponsor_count, case when h.index > 0 then true else false end as third_reading from bill b\n",
    "    left join num_sponsors_at_sec n on n.bill_id = b.bill_id\n",
    "    left join history h on h.bill_id = b.bill_id and h.action ~* 'third reading' and (h.action ~* 'passed' or h.action ~* 'lost')\n",
    "    where b.bill_id in (\n",
    "        select * from started_senate\n",
    "    ) and b.bill_id in (\n",
    "        select * from had_sec_read\n",
    "    );\n",
    "\"\"\"\n",
    "\n",
    "bill_spons_sec = pd.read_sql(query_sponsors_at_second, con=engine)"
   ]
  },
  {
   "cell_type": "code",
   "execution_count": 383,
   "metadata": {},
   "outputs": [],
   "source": [
    "bill_spons_sec = clean_bills(bill_spons_sec)"
   ]
  },
  {
   "cell_type": "code",
   "execution_count": 535,
   "metadata": {},
   "outputs": [
    {
     "data": {
      "text/plain": [
       "<seaborn.axisgrid.PairGrid at 0x15516b2d90>"
      ]
     },
     "execution_count": 535,
     "metadata": {},
     "output_type": "execute_result"
    },
    {
     "data": {
      "image/png": "[encoded data removed]",
      "text/plain": [
       "<Figure size 435x360 with 6 Axes>"
      ]
     },
     "metadata": {
      "needs_background": "light"
     },
     "output_type": "display_data"
    }
   ],
   "source": [
    "sns.pairplot(\n",
    "    bill_spons_sec[['third_reading', 'sponsor_count']],\n",
    "    plot_kws={ 'alpha': 0.2},\n",
    "    hue='third_reading',\n",
    "    diag_kind='hist',\n",
    "    diag_kws={ 'alpha': 0.4 }\n",
    ")"
   ]
  },
  {
   "cell_type": "code",
   "execution_count": 168,
   "metadata": {},
   "outputs": [
    {
     "data": {
      "text/plain": [
       "0    793\n",
       "1    328\n",
       "Name: third_reading_id, dtype: int64"
      ]
     },
     "execution_count": 168,
     "metadata": {},
     "output_type": "execute_result"
    }
   ],
   "source": [
    "bill_spons_sec[bill_spons_sec.sponsor_count == 0].third_reading_id.value_counts()"
   ]
  },
  {
   "cell_type": "code",
   "execution_count": 169,
   "metadata": {},
   "outputs": [
    {
     "data": {
      "text/plain": [
       "6538.0"
      ]
     },
     "execution_count": 169,
     "metadata": {},
     "output_type": "execute_result"
    }
   ],
   "source": [
    "bill_spons_sec.sponsor_count.sum()"
   ]
  },
  {
   "cell_type": "markdown",
   "metadata": {},
   "source": [
    "# Ideology of Author"
   ]
  },
  {
   "cell_type": "code",
   "execution_count": 147,
   "metadata": {},
   "outputs": [],
   "source": [
    "query_bill_author = \"\"\"\n",
    "    select b.bill_id, a.people_id, i.*, b.third_reading\n",
    "    from sen_bill b\n",
    "    left join author a on a.bill_id = b.bill_id\n",
    "    left join ideology i on a.people_id = i.people_id\n",
    "\"\"\"\n",
    "\n",
    "author = pd.read_sql(query_bill_author, con=engine)\n",
    "# 47 second query -> improve"
   ]
  },
  {
   "cell_type": "code",
   "execution_count": 164,
   "metadata": {},
   "outputs": [],
   "source": [
    "std = StandardScaler()\n",
    "author['scaled_np_score'] = np.abs(author.np_score - author.np_score.mean())"
   ]
  },
  {
   "cell_type": "code",
   "execution_count": 165,
   "metadata": {},
   "outputs": [
    {
     "data": {
      "text/plain": [
       "count    1468.000000\n",
       "mean        0.520628\n",
       "std         0.262165\n",
       "min         0.006412\n",
       "25%         0.458412\n",
       "50%         0.491412\n",
       "75%         0.695588\n",
       "max         1.241588\n",
       "Name: scaled_np_score, dtype: float64"
      ]
     },
     "execution_count": 165,
     "metadata": {},
     "output_type": "execute_result"
    }
   ],
   "source": [
    "author.scaled_np_score.describe()"
   ]
  },
  {
   "cell_type": "code",
   "execution_count": 533,
   "metadata": {},
   "outputs": [
    {
     "name": "stderr",
     "output_type": "stream",
     "text": [
      "/Users/willyraedy/anaconda3/envs/metis/lib/python3.7/site-packages/statsmodels/nonparametric/kde.py:447: RuntimeWarning: invalid value encountered in greater\n",
      "  X = X[np.logical_and(X > clip[0], X < clip[1])] # won't work for two columns.\n",
      "/Users/willyraedy/anaconda3/envs/metis/lib/python3.7/site-packages/statsmodels/nonparametric/kde.py:447: RuntimeWarning: invalid value encountered in less\n",
      "  X = X[np.logical_and(X > clip[0], X < clip[1])] # won't work for two columns.\n"
     ]
    },
    {
     "data": {
      "text/plain": [
       "<seaborn.axisgrid.PairGrid at 0x1550e79cd0>"
      ]
     },
     "execution_count": 533,
     "metadata": {},
     "output_type": "execute_result"
    },
    {
     "data": {
      "image/png": "[encoded data removed]",
      "text/plain": [
       "<Figure size 435x360 with 6 Axes>"
      ]
     },
     "metadata": {
      "needs_background": "light"
     },
     "output_type": "display_data"
    }
   ],
   "source": [
    "sns.pairplot(author[['third_reading', 'scaled_np_score']], plot_kws={ 'alpha': 0.2}, hue='third_reading')"
   ]
  },
  {
   "cell_type": "code",
   "execution_count": 386,
   "metadata": {},
   "outputs": [
    {
     "name": "stderr",
     "output_type": "stream",
     "text": [
      "/Users/willyraedy/anaconda3/envs/metis/lib/python3.7/site-packages/numpy/lib/histograms.py:839: RuntimeWarning: invalid value encountered in greater_equal\n",
      "  keep = (tmp_a >= first_edge)\n",
      "/Users/willyraedy/anaconda3/envs/metis/lib/python3.7/site-packages/numpy/lib/histograms.py:840: RuntimeWarning: invalid value encountered in less_equal\n",
      "  keep &= (tmp_a <= last_edge)\n"
     ]
    },
    {
     "data": {
      "text/plain": [
       "(array([178.,  44., 123., 568.,  14., 331.,  84.,  58.,  55.,  13.]),\n",
       " array([0.00641213, 0.1299297 , 0.25344728, 0.37696485, 0.50048243,\n",
       "        0.624     , 0.74751757, 0.87103515, 0.99455272, 1.1180703 ,\n",
       "        1.24158787]),\n",
       " <a list of 10 Patch objects>)"
      ]
     },
     "execution_count": 386,
     "metadata": {},
     "output_type": "execute_result"
    },
    {
     "data": {
      "image/png": "[encoded data removed]",
      "text/plain": [
       "<Figure size 432x288 with 1 Axes>"
      ]
     },
     "metadata": {
      "needs_background": "light"
     },
     "output_type": "display_data"
    }
   ],
   "source": [
    "plt.hist(author['scaled_np_score'])"
   ]
  },
  {
   "cell_type": "code",
   "execution_count": 387,
   "metadata": {},
   "outputs": [
    {
     "data": {
      "text/plain": [
       "<seaborn.axisgrid.PairGrid at 0x1540783dd0>"
      ]
     },
     "execution_count": 387,
     "metadata": {},
     "output_type": "execute_result"
    },
    {
     "data": {
      "image/png": "[encoded data removed]",
      "text/plain": [
       "<Figure size 435x360 with 6 Axes>"
      ]
     },
     "metadata": {
      "needs_background": "light"
     },
     "output_type": "display_data"
    }
   ],
   "source": [
    "sns.pairplot(author[['third_reading', 'np_score']], plot_kws={ 'alpha': 0.2}, hue='third_reading')"
   ]
  },
  {
   "cell_type": "markdown",
   "metadata": {},
   "source": [
    "# Ideology Range of Sponsors at 2nd Reading"
   ]
  },
  {
   "cell_type": "code",
   "execution_count": 173,
   "metadata": {},
   "outputs": [],
   "source": [
    "query_range = \"\"\"\n",
    "select b.bill_id, min(i.np_score) as min_score, max(i.np_score) as max_score, b.third_reading\n",
    "from sen_bill b\n",
    "left join sponsor_at_second s on b.bill_id = s.bill_id\n",
    "left join ideology i on i.people_id = s.people_id\n",
    "group by b.bill_id, b.third_reading\n",
    "\"\"\"\n",
    "\n",
    "ideol_range = pd.read_sql(query_range, con=engine)"
   ]
  },
  {
   "cell_type": "code",
   "execution_count": 174,
   "metadata": {},
   "outputs": [],
   "source": [
    "ideol_range['ideol_range'] = np.abs(ideol_range.max_score - ideol_range.min_score)\n",
    "ideol_range.ideol_range = ideol_range.ideol_range.fillna(0)"
   ]
  },
  {
   "cell_type": "code",
   "execution_count": 175,
   "metadata": {},
   "outputs": [
    {
     "data": {
      "text/html": [
       "<div>\n",
       "<style scoped>\n",
       "    .dataframe tbody tr th:only-of-type {\n",
       "        vertical-align: middle;\n",
       "    }\n",
       "\n",
       "    .dataframe tbody tr th {\n",
       "        vertical-align: top;\n",
       "    }\n",
       "\n",
       "    .dataframe thead th {\n",
       "        text-align: right;\n",
       "    }\n",
       "</style>\n",
       "<table border=\"1\" class=\"dataframe\">\n",
       "  <thead>\n",
       "    <tr style=\"text-align: right;\">\n",
       "      <th></th>\n",
       "      <th>bill_id</th>\n",
       "      <th>min_score</th>\n",
       "      <th>max_score</th>\n",
       "      <th>third_reading</th>\n",
       "      <th>ideol_range</th>\n",
       "    </tr>\n",
       "  </thead>\n",
       "  <tbody>\n",
       "    <tr>\n",
       "      <th>0</th>\n",
       "      <td>1087131</td>\n",
       "      <td>NaN</td>\n",
       "      <td>NaN</td>\n",
       "      <td>1</td>\n",
       "      <td>0.000</td>\n",
       "    </tr>\n",
       "    <tr>\n",
       "      <th>1</th>\n",
       "      <td>1087344</td>\n",
       "      <td>NaN</td>\n",
       "      <td>NaN</td>\n",
       "      <td>0</td>\n",
       "      <td>0.000</td>\n",
       "    </tr>\n",
       "    <tr>\n",
       "      <th>2</th>\n",
       "      <td>1074782</td>\n",
       "      <td>0.431</td>\n",
       "      <td>0.655</td>\n",
       "      <td>1</td>\n",
       "      <td>0.224</td>\n",
       "    </tr>\n",
       "    <tr>\n",
       "      <th>3</th>\n",
       "      <td>1089962</td>\n",
       "      <td>-1.241</td>\n",
       "      <td>-0.436</td>\n",
       "      <td>0</td>\n",
       "      <td>0.805</td>\n",
       "    </tr>\n",
       "    <tr>\n",
       "      <th>4</th>\n",
       "      <td>1084143</td>\n",
       "      <td>NaN</td>\n",
       "      <td>NaN</td>\n",
       "      <td>1</td>\n",
       "      <td>0.000</td>\n",
       "    </tr>\n",
       "  </tbody>\n",
       "</table>\n",
       "</div>"
      ],
      "text/plain": [
       "   bill_id  min_score  max_score  third_reading  ideol_range\n",
       "0  1087131        NaN        NaN              1        0.000\n",
       "1  1087344        NaN        NaN              0        0.000\n",
       "2  1074782      0.431      0.655              1        0.224\n",
       "3  1089962     -1.241     -0.436              0        0.805\n",
       "4  1084143        NaN        NaN              1        0.000"
      ]
     },
     "execution_count": 175,
     "metadata": {},
     "output_type": "execute_result"
    }
   ],
   "source": [
    "ideol_range.head()"
   ]
  },
  {
   "cell_type": "code",
   "execution_count": 531,
   "metadata": {},
   "outputs": [
    {
     "data": {
      "text/plain": [
       "<seaborn.axisgrid.PairGrid at 0x154bce6a90>"
      ]
     },
     "execution_count": 531,
     "metadata": {},
     "output_type": "execute_result"
    },
    {
     "data": {
      "image/png": "[encoded data removed]",
      "text/plain": [
       "<Figure size 435x360 with 6 Axes>"
      ]
     },
     "metadata": {
      "needs_background": "light"
     },
     "output_type": "display_data"
    }
   ],
   "source": [
    "sns.pairplot(\n",
    "    ideol_range[['third_reading', 'ideol_range']],\n",
    "    plot_kws={ 'alpha': 0.2},\n",
    "    hue='third_reading',\n",
    "    diag_kind='hist',\n",
    "    diag_kws={ 'alpha': 0.4 }\n",
    ")       \n"
   ]
  },
  {
   "cell_type": "markdown",
   "metadata": {},
   "source": [
    "# Get Hearing Data"
   ]
  },
  {
   "cell_type": "code",
   "execution_count": 362,
   "metadata": {},
   "outputs": [],
   "source": [
    "def scrape_slips(url):\n",
    "    dfs = pd.read_html(url, attrs={ 'width': '100%', 'cellpadding': '3'}, header=0)\n",
    "    hearing = dfs[0]\n",
    "    if len(hearing) == 1:\n",
    "        return pd.DataFrame(columns=['name', 'firm_business_or_agency', 'representing'])\n",
    "    hearing['date'] = hearing.Name.map(lambda x: x if 'Hearing Date and Time' in x else np.nan)\n",
    "    hearing.date = hearing.date.fillna(method='ffill')\n",
    "    hearing = hearing.loc[~hearing.Name.str.contains('Hearing Date and Time')]\n",
    "    hearing['bill_number'] = 'SB-0003'\n",
    "    hearing.date = hearing.date.map(lambda x: pd.to_datetime(re.compile('\\d{1,2}\\/\\d{1,2}\\/\\d{4}').search(x)[0]))\n",
    "    hearing.columns = [x.lower().replace(' ', '_').replace(',', '') for x in hearing.columns]\n",
    "    return hearing"
   ]
  },
  {
   "cell_type": "code",
   "execution_count": 363,
   "metadata": {},
   "outputs": [],
   "source": [
    "def scrape_all_positions(url):\n",
    "    frames = []\n",
    "    for pos in ['PROP', 'OPP', 'NOPOS']:\n",
    "        df = scrape_slips(url + '&WSType=' + pos)\n",
    "        df['position'] = pos\n",
    "        frames.append(df)\n",
    "    return pd.concat(frames)"
   ]
  },
  {
   "cell_type": "code",
   "execution_count": 364,
   "metadata": {},
   "outputs": [],
   "source": [
    "def scrape_totals(url):\n",
    "    dfs = pd.read_html(url, attrs={ 'width': '600', 'bordercolor': 'white'})\n",
    "    hearing_totals = dfs[0]\n",
    "    col_names = ['proponents', 'opponents', 'no_position']\n",
    "    hearing_totals.columns = col_names + ['na']\n",
    "    hearing_totals = hearing_totals.dropna(how='all')[col_names]\n",
    "    for col in ['proponents', 'opponents', 'no_position']:\n",
    "        hearing_totals[col] = hearing_totals[col].map(lambda x: x.split(': ')[1]).astype('int')\n",
    "    return hearing_totals"
   ]
  },
  {
   "cell_type": "code",
   "execution_count": 365,
   "metadata": {},
   "outputs": [],
   "source": [
    "def scrape_100():\n",
    "    all_sen_bills_url = 'http://www.ilga.gov/legislation/grplist.asp?num1=1&num2=3649&DocTypeID=SB&GA=100&SessionId=91'\n",
    "    res = requests.get(all_sen_bills_url)\n",
    "    bs = BeautifulSoup(res.text)\n",
    "    hearing_frames = []\n",
    "    witness_slip_frames = []\n",
    "    for a in bs.find('ul').find_all('a'):\n",
    "        time.sleep(0.2)\n",
    "        hearing_url = 'http://www.ilga.gov{url}'.format(url = a.get('href')).replace('BillStatus', 'witnessslip')\n",
    "        bill_number = re.compile('SB\\d{4}').search(a.text)[0]\n",
    "\n",
    "        if int(bill_number.replace('SB', '')) % 100 == 0:\n",
    "            print(bill_number)\n",
    "        \n",
    "        new_hearing = scrape_totals(hearing_url)\n",
    "        new_hearing['bill_number'] = bill_number\n",
    "        hearing_frames.append(new_hearing)\n",
    "        \n",
    "        new_witness = scrape_all_positions(hearing_url)\n",
    "        new_witness['bill_number'] = bill_number\n",
    "        witness_slip_frames.append(new_witness)\n",
    "        \n",
    "    return pd.concat(hearing_frames), pd.concat(witness_slip_frames)"
   ]
  },
  {
   "cell_type": "code",
   "execution_count": null,
   "metadata": {},
   "outputs": [],
   "source": [
    "hearing, slips = scrape_100()"
   ]
  },
  {
   "cell_type": "code",
   "execution_count": 359,
   "metadata": {},
   "outputs": [],
   "source": [
    "hearing.to_sql('hearing', con=engine)"
   ]
  },
  {
   "cell_type": "code",
   "execution_count": 370,
   "metadata": {},
   "outputs": [],
   "source": [
    "slips.to_sql('witness_slip', con=engine)"
   ]
  },
  {
   "cell_type": "code",
   "execution_count": 388,
   "metadata": {},
   "outputs": [
    {
     "data": {
      "text/html": [
       "<div>\n",
       "<style scoped>\n",
       "    .dataframe tbody tr th:only-of-type {\n",
       "        vertical-align: middle;\n",
       "    }\n",
       "\n",
       "    .dataframe tbody tr th {\n",
       "        vertical-align: top;\n",
       "    }\n",
       "\n",
       "    .dataframe thead th {\n",
       "        text-align: right;\n",
       "    }\n",
       "</style>\n",
       "<table border=\"1\" class=\"dataframe\">\n",
       "  <thead>\n",
       "    <tr style=\"text-align: right;\">\n",
       "      <th></th>\n",
       "      <th>proponents</th>\n",
       "      <th>opponents</th>\n",
       "      <th>no_position</th>\n",
       "    </tr>\n",
       "  </thead>\n",
       "  <tbody>\n",
       "    <tr>\n",
       "      <th>count</th>\n",
       "      <td>3649.000000</td>\n",
       "      <td>3649.000000</td>\n",
       "      <td>3649.000000</td>\n",
       "    </tr>\n",
       "    <tr>\n",
       "      <th>mean</th>\n",
       "      <td>23.103590</td>\n",
       "      <td>20.755824</td>\n",
       "      <td>0.281995</td>\n",
       "    </tr>\n",
       "    <tr>\n",
       "      <th>std</th>\n",
       "      <td>187.146299</td>\n",
       "      <td>311.202061</td>\n",
       "      <td>1.398506</td>\n",
       "    </tr>\n",
       "    <tr>\n",
       "      <th>min</th>\n",
       "      <td>0.000000</td>\n",
       "      <td>0.000000</td>\n",
       "      <td>0.000000</td>\n",
       "    </tr>\n",
       "    <tr>\n",
       "      <th>25%</th>\n",
       "      <td>0.000000</td>\n",
       "      <td>0.000000</td>\n",
       "      <td>0.000000</td>\n",
       "    </tr>\n",
       "    <tr>\n",
       "      <th>50%</th>\n",
       "      <td>0.000000</td>\n",
       "      <td>0.000000</td>\n",
       "      <td>0.000000</td>\n",
       "    </tr>\n",
       "    <tr>\n",
       "      <th>75%</th>\n",
       "      <td>4.000000</td>\n",
       "      <td>1.000000</td>\n",
       "      <td>0.000000</td>\n",
       "    </tr>\n",
       "    <tr>\n",
       "      <th>max</th>\n",
       "      <td>5842.000000</td>\n",
       "      <td>14428.000000</td>\n",
       "      <td>46.000000</td>\n",
       "    </tr>\n",
       "  </tbody>\n",
       "</table>\n",
       "</div>"
      ],
      "text/plain": [
       "        proponents     opponents  no_position\n",
       "count  3649.000000   3649.000000  3649.000000\n",
       "mean     23.103590     20.755824     0.281995\n",
       "std     187.146299    311.202061     1.398506\n",
       "min       0.000000      0.000000     0.000000\n",
       "25%       0.000000      0.000000     0.000000\n",
       "50%       0.000000      0.000000     0.000000\n",
       "75%       4.000000      1.000000     0.000000\n",
       "max    5842.000000  14428.000000    46.000000"
      ]
     },
     "execution_count": 388,
     "metadata": {},
     "output_type": "execute_result"
    }
   ],
   "source": [
    "hearing.describe()"
   ]
  },
  {
   "cell_type": "code",
   "execution_count": 369,
   "metadata": {},
   "outputs": [
    {
     "data": {
      "text/plain": [
       "PROP     84305\n",
       "OPP      75738\n",
       "NOPOS     1029\n",
       "Name: position, dtype: int64"
      ]
     },
     "execution_count": 369,
     "metadata": {},
     "output_type": "execute_result"
    }
   ],
   "source": [
    "slips.position.value_counts()"
   ]
  },
  {
   "cell_type": "markdown",
   "metadata": {},
   "source": [
    "# Slips Before Second Reading"
   ]
  },
  {
   "cell_type": "code",
   "execution_count": 456,
   "metadata": {},
   "outputs": [],
   "source": [
    "query_slip = \"\"\"\n",
    " SELECT b.bill_id, w.position, count(w.name)\n",
    "   FROM sen_bill b\n",
    "     JOIN history hs ON hs.bill_id = b.bill_id AND hs.action ~* '^second reading'::text\n",
    "     JOIN witness_slip w on w.bill_number = b.bill_number and w.date <= to_date(hs.date, 'YYYY-MM-DD')\n",
    "     group by b.bill_id, w.position, b.third_reading\n",
    "\"\"\"\n",
    "\n",
    "slip_features = pd.read_sql(query_slip, con=engine)"
   ]
  },
  {
   "cell_type": "code",
   "execution_count": 457,
   "metadata": {},
   "outputs": [],
   "source": [
    "slip_features = slip_features.pivot(index='bill_id', columns='position', values='count').reset_index().fillna(0)"
   ]
  },
  {
   "cell_type": "code",
   "execution_count": 458,
   "metadata": {},
   "outputs": [],
   "source": [
    "slip_features.columns = [x for x in slip_features.columns]"
   ]
  },
  {
   "cell_type": "code",
   "execution_count": 459,
   "metadata": {},
   "outputs": [
    {
     "data": {
      "text/html": [
       "<div>\n",
       "<style scoped>\n",
       "    .dataframe tbody tr th:only-of-type {\n",
       "        vertical-align: middle;\n",
       "    }\n",
       "\n",
       "    .dataframe tbody tr th {\n",
       "        vertical-align: top;\n",
       "    }\n",
       "\n",
       "    .dataframe thead th {\n",
       "        text-align: right;\n",
       "    }\n",
       "</style>\n",
       "<table border=\"1\" class=\"dataframe\">\n",
       "  <thead>\n",
       "    <tr style=\"text-align: right;\">\n",
       "      <th></th>\n",
       "      <th>bill_id</th>\n",
       "      <th>NOPOS</th>\n",
       "      <th>OPP</th>\n",
       "      <th>PROP</th>\n",
       "    </tr>\n",
       "  </thead>\n",
       "  <tbody>\n",
       "    <tr>\n",
       "      <th>0</th>\n",
       "      <td>907435</td>\n",
       "      <td>0.0</td>\n",
       "      <td>0.0</td>\n",
       "      <td>13.0</td>\n",
       "    </tr>\n",
       "    <tr>\n",
       "      <th>1</th>\n",
       "      <td>907445</td>\n",
       "      <td>0.0</td>\n",
       "      <td>5.0</td>\n",
       "      <td>1.0</td>\n",
       "    </tr>\n",
       "    <tr>\n",
       "      <th>2</th>\n",
       "      <td>907471</td>\n",
       "      <td>0.0</td>\n",
       "      <td>0.0</td>\n",
       "      <td>14.0</td>\n",
       "    </tr>\n",
       "    <tr>\n",
       "      <th>3</th>\n",
       "      <td>907494</td>\n",
       "      <td>0.0</td>\n",
       "      <td>3.0</td>\n",
       "      <td>24.0</td>\n",
       "    </tr>\n",
       "    <tr>\n",
       "      <th>4</th>\n",
       "      <td>907529</td>\n",
       "      <td>3.0</td>\n",
       "      <td>10.0</td>\n",
       "      <td>79.0</td>\n",
       "    </tr>\n",
       "  </tbody>\n",
       "</table>\n",
       "</div>"
      ],
      "text/plain": [
       "   bill_id  NOPOS   OPP  PROP\n",
       "0   907435    0.0   0.0  13.0\n",
       "1   907445    0.0   5.0   1.0\n",
       "2   907471    0.0   0.0  14.0\n",
       "3   907494    0.0   3.0  24.0\n",
       "4   907529    3.0  10.0  79.0"
      ]
     },
     "execution_count": 459,
     "metadata": {},
     "output_type": "execute_result"
    }
   ],
   "source": [
    "slip_features.head()"
   ]
  },
  {
   "cell_type": "code",
   "execution_count": 460,
   "metadata": {},
   "outputs": [],
   "source": [
    "slip_features['total'] = slip_features.NOPOS + slip_features.OPP + slip_features.PROP"
   ]
  },
  {
   "cell_type": "code",
   "execution_count": 461,
   "metadata": {},
   "outputs": [],
   "source": [
    "slip_features['perc_pro'] = slip_features.PROP / slip_features.total"
   ]
  },
  {
   "cell_type": "code",
   "execution_count": 465,
   "metadata": {},
   "outputs": [],
   "source": [
    "all_bills = pd.read_sql('select bill_id, third_reading from sen_bill', con=engine)\n",
    "slip_features = all_bills.merge(slip_features, on='bill_id', how='left')"
   ]
  },
  {
   "cell_type": "code",
   "execution_count": 467,
   "metadata": {},
   "outputs": [],
   "source": [
    "slip_features = slip_features.fillna(0)"
   ]
  },
  {
   "cell_type": "code",
   "execution_count": 537,
   "metadata": {},
   "outputs": [
    {
     "data": {
      "text/plain": [
       "<seaborn.axisgrid.PairGrid at 0x1551f9dad0>"
      ]
     },
     "execution_count": 537,
     "metadata": {},
     "output_type": "execute_result"
    },
    {
     "data": {
      "image/png": "[encoded data removed]",
      "text/plain": [
       "<Figure size 435x360 with 6 Axes>"
      ]
     },
     "metadata": {
      "needs_background": "light"
     },
     "output_type": "display_data"
    }
   ],
   "source": [
    "sns.pairplot(\n",
    "    slip_features[['perc_pro', 'third_reading']],\n",
    "    hue='third_reading',\n",
    "    diag_kind='hist',\n",
    "    diag_kws={ 'alpha': 0.4 }\n",
    ")"
   ]
  },
  {
   "cell_type": "code",
   "execution_count": 538,
   "metadata": {},
   "outputs": [
    {
     "data": {
      "text/plain": [
       "<seaborn.axisgrid.PairGrid at 0x1552bb1150>"
      ]
     },
     "execution_count": 538,
     "metadata": {},
     "output_type": "execute_result"
    },
    {
     "data": {
      "image/png": "[encoded data removed]",
      "text/plain": [
       "<Figure size 435x360 with 6 Axes>"
      ]
     },
     "metadata": {
      "needs_background": "light"
     },
     "output_type": "display_data"
    }
   ],
   "source": [
    "sns.pairplot(\n",
    "    slip_features[['total', 'third_reading']],\n",
    "    hue='third_reading',\n",
    "    diag_kind='hist',\n",
    "    diag_kws={ 'alpha': 0.4 }\n",
    ")"
   ]
  },
  {
   "cell_type": "code",
   "execution_count": 539,
   "metadata": {},
   "outputs": [
    {
     "data": {
      "text/plain": [
       "<seaborn.axisgrid.PairGrid at 0x1553089d50>"
      ]
     },
     "execution_count": 539,
     "metadata": {},
     "output_type": "execute_result"
    },
    {
     "data": {
      "image/png": "[encoded data removed]",
      "text/plain": [
       "<Figure size 435x360 with 6 Axes>"
      ]
     },
     "metadata": {
      "needs_background": "light"
     },
     "output_type": "display_data"
    }
   ],
   "source": [
    "sns.pairplot(\n",
    "    slip_features[['PROP', 'third_reading']],\n",
    "    hue='third_reading',\n",
    "    diag_kind='hist',\n",
    "    diag_kws={ 'alpha': 0.4 }\n",
    ")"
   ]
  },
  {
   "cell_type": "code",
   "execution_count": 541,
   "metadata": {},
   "outputs": [
    {
     "data": {
      "text/plain": [
       "<seaborn.axisgrid.PairGrid at 0x155421f4d0>"
      ]
     },
     "execution_count": 541,
     "metadata": {},
     "output_type": "execute_result"
    },
    {
     "data": {
      "image/png": "[encoded data removed]",
      "text/plain": [
       "<Figure size 435x360 with 6 Axes>"
      ]
     },
     "metadata": {
      "needs_background": "light"
     },
     "output_type": "display_data"
    }
   ],
   "source": [
    "sns.pairplot(\n",
    "    slip_features[['NOPOS', 'third_reading']],\n",
    "    hue='third_reading',\n",
    "    diag_kind='hist',\n",
    "    diag_kws={ 'alpha': 0.4 }\n",
    ")"
   ]
  },
  {
   "cell_type": "code",
   "execution_count": null,
   "metadata": {},
   "outputs": [],
   "source": []
  }
 ],
 "metadata": {
  "kernelspec": {
   "display_name": "Python [conda env:metis] *",
   "language": "python",
   "name": "conda-env-metis-py"
  },
  "language_info": {
   "codemirror_mode": {
    "name": "ipython",
    "version": 3
   },
   "file_extension": ".py",
   "mimetype": "text/x-python",
   "name": "python",
   "nbconvert_exporter": "python",
   "pygments_lexer": "ipython3",
   "version": "3.7.4"
  },
  "toc": {
   "base_numbering": 1,
   "nav_menu": {},
   "number_sections": true,
   "sideBar": true,
   "skip_h1_title": false,
   "title_cell": "Table of Contents",
   "title_sidebar": "Contents",
   "toc_cell": false,
   "toc_position": {},
   "toc_section_display": true,
   "toc_window_display": false
  }
 },
 "nbformat": 4,
 "nbformat_minor": 2
}
